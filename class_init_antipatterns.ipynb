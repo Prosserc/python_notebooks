{
 "cells": [
  {
   "cell_type": "markdown",
   "metadata": {},
   "source": [
    "# Class initialisation anti-patterns\n",
    "\n",
    "Be careful when specifying default args for classes, if you use mutable types and assign default values the same instance of that default value will be assigned to each instance of the class."
   ]
  },
  {
   "cell_type": "code",
   "execution_count": 15,
   "metadata": {},
   "outputs": [
    {
     "name": "stdout",
     "output_type": "stream",
     "text": [
      "[] []\n",
      "['This seems innocent'] ['This seems innocent']\n"
     ]
    }
   ],
   "source": [
    "# example class that takes a default arg for a mutable type...\n",
    "class ThisIsBad:\n",
    "    \n",
    "    def __init__(self, seems_innocent=[]):\n",
    "        self.seems_innocent = seems_innocent\n",
    "        \n",
    "# create instances...\n",
    "bad1, bad2 = ThisIsBad(), ThisIsBad()\n",
    "\n",
    "# both classes start with empty lists...\n",
    "print(bad1.seems_innocent, bad2.seems_innocent)\n",
    "\n",
    "# append an element to the list on one of the instances...\n",
    "bad1.seems_innocent.append(\"This seems innocent\")\n",
    "\n",
    "# And it appears on both of them!\n",
    "print(bad1.seems_innocent, bad2.seems_innocent)"
   ]
  },
  {
   "cell_type": "code",
   "execution_count": 17,
   "metadata": {},
   "outputs": [
    {
     "name": "stdout",
     "output_type": "stream",
     "text": [
      "['This seems innocent']\n",
      "['This seems innocent', \"But it isn't!\"] ['This seems innocent', \"But it isn't!\"] ['This seems innocent', \"But it isn't!\"]\n"
     ]
    }
   ],
   "source": [
    "# we could even create another instance now...\n",
    "bad3 = ThisIsBad()\n",
    "\n",
    "# and this will have the mutated list not the expected empty list...\n",
    "print(bad3.seems_innocent)\n",
    "\n",
    "# and if we modify this it will change all other instances of this class\n",
    "# (even those yet to be created)\n",
    "bad3.seems_innocent.append(\"But it isn't!\")\n",
    "\n",
    "# here they all are...\n",
    "print(bad1.seems_innocent, bad2.seems_innocent, bad3.seems_innocent)"
   ]
  },
  {
   "cell_type": "markdown",
   "metadata": {},
   "source": [
    "## but why ?!?!?!\n",
    "\n",
    "This is because default args are evaluated once when the function is defined in python, so as soon as the python code that defines a function with a default is run the value is assigned (not once each time the function is called as you may expect)."
   ]
  },
  {
   "cell_type": "markdown",
   "metadata": {},
   "source": [
    "## Option 1 - Use data classes\n",
    "\n",
    "One solution is to use data classes with default factories..."
   ]
  },
  {
   "cell_type": "code",
   "execution_count": 19,
   "metadata": {},
   "outputs": [
    {
     "name": "stdout",
     "output_type": "stream",
     "text": [
      "['Nice!'] []\n"
     ]
    }
   ],
   "source": [
    "# example using data class with a default factory to get a mutable default value without sharing between instances...\n",
    "from dataclasses import dataclass, field\n",
    "from typing import List\n",
    "\n",
    "@dataclass\n",
    "class ThisIsBetter:\n",
    "    seems_innocent: List = field(default_factory=lambda: [])\n",
    "    \n",
    "# create instances...\n",
    "better1, better2 = ThisIsBetter(), ThisIsBetter()\n",
    "\n",
    "# append an element to the field on one instance...\n",
    "better1.seems_innocent.append('Nice!')\n",
    "\n",
    "# and it just updates the state on the class that we intended...\n",
    "print(better1.seems_innocent, better2.seems_innocent)"
   ]
  },
  {
   "cell_type": "markdown",
   "metadata": {},
   "source": [
    "## Option2 - Use None and assign later\n",
    "\n",
    "If you want to stick with regular classes or do not have access to python 3.7 features, you can get arround this by assigning the arg to None e.g."
   ]
  },
  {
   "cell_type": "code",
   "execution_count": 22,
   "metadata": {},
   "outputs": [
    {
     "name": "stdout",
     "output_type": "stream",
     "text": [
      "['This will stay in just this instance as intended'] []\n"
     ]
    }
   ],
   "source": [
    "class ThisWillAlsoWork:\n",
    "    \n",
    "    def __init__(self, seems_innocent=None):\n",
    "        self.seems_innocent = [] if not seems_innocent else seems_innocent\n",
    "        \n",
    "ok1, ok2 = ThisWillAlsoWork(), ThisWillAlsoWork()\n",
    "\n",
    "ok1.seems_innocent.append('This will stay in just this instance as intended')\n",
    "\n",
    "print(ok1.seems_innocent, ok2.seems_innocent)"
   ]
  }
 ],
 "metadata": {
  "kernelspec": {
   "display_name": "Python 3",
   "language": "python",
   "name": "python3"
  },
  "language_info": {
   "codemirror_mode": {
    "name": "ipython",
    "version": 3
   },
   "file_extension": ".py",
   "mimetype": "text/x-python",
   "name": "python",
   "nbconvert_exporter": "python",
   "pygments_lexer": "ipython3",
   "version": "3.7.2"
  }
 },
 "nbformat": 4,
 "nbformat_minor": 2
}
