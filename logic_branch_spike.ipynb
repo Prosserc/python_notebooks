{
 "cells": [
  {
   "cell_type": "code",
   "execution_count": 1,
   "metadata": {},
   "outputs": [],
   "source": [
    "# bring in the dependencies\n",
    "from itertools import product, combinations\n",
    "from dataclasses import dataclass\n",
    "from typing import Optional, List, Dict, Iterable\n",
    "from pprint import pprint\n",
    "import os, sys\n",
    "\n",
    "# project dependencies\n",
    "proj_path = 'd:/code/Projects/property_mapping_sql_generator/'\n",
    "sys.path.insert(0, proj_path)\n",
    "from dsl.engine import *"
   ]
  },
  {
   "cell_type": "code",
   "execution_count": 2,
   "metadata": {},
   "outputs": [],
   "source": [
    "# create the logic branch type i.e. a branch from a case statement\n",
    "@dataclass(frozen=True)\n",
    "class LogicBranch():\n",
    "    result: str\n",
    "    search_expr: Optional[str]\n",
    "    ref: Optional[str]"
   ]
  },
  {
   "cell_type": "code",
   "execution_count": 3,
   "metadata": {},
   "outputs": [],
   "source": [
    "# spike for case statement to support return of logic branches\n",
    "class AltCase(Case):\n",
    "    \n",
    "    def get_branches(self) -> List[LogicBranch]:\n",
    "        for src, res in self.search_result_pairs:\n",
    "            yield LogicBranch(res.val, src.val, self.ref_field)\n",
    "        yield LogicBranch(self.default.val, None, self.ref_field)\n",
    "        \n",
    "    def __repr__(self):\n",
    "        pairs_str = \", \".join([f\"({s.val}, {r.val})\" for s, r in self.search_result_pairs])\n",
    "        return f\"AltCase({self.ref_field}, [{pairs_str}], default={self.default.val})\"\n",
    "    \n",
    "    def __str__(self):\n",
    "        return self.__repr__()"
   ]
  },
  {
   "cell_type": "code",
   "execution_count": 4,
   "metadata": {},
   "outputs": [
    {
     "data": {
      "text/plain": [
       "[LogicBranch(result='p1', search_expr='x', ref='a.ref'),\n",
       " LogicBranch(result='p2', search_expr='y', ref='a.ref'),\n",
       " LogicBranch(result='pN', search_expr=None, ref='a.ref')]"
      ]
     },
     "execution_count": 4,
     "metadata": {},
     "output_type": "execute_result"
    }
   ],
   "source": [
    "# example alt cases\n",
    "p_case = AltCase('ref', [('x', 'p1'), ('y', 'p2')], default='pN')\n",
    "list(p_case.get_branches())"
   ]
  },
  {
   "cell_type": "code",
   "execution_count": 5,
   "metadata": {},
   "outputs": [
    {
     "data": {
      "text/plain": [
       "[LogicBranch(result='a1', search_expr='x', ref='a.ref'),\n",
       " LogicBranch(result='a2', search_expr='y', ref='a.ref'),\n",
       " LogicBranch(result='a3', search_expr='z', ref='a.ref'),\n",
       " LogicBranch(result='aN', search_expr=None, ref='a.ref')]"
      ]
     },
     "execution_count": 5,
     "metadata": {},
     "output_type": "execute_result"
    }
   ],
   "source": [
    "a_case = AltCase('ref', [('x', 'a1'), ('y', 'a2'), ('z', 'a3')], default='aN')\n",
    "list(a_case.get_branches())"
   ]
  },
  {
   "cell_type": "code",
   "execution_count": 6,
   "metadata": {},
   "outputs": [],
   "source": [
    "# assume inline mapping for others e.g.\n",
    "p = Property(p_case)\n",
    "a = Analysis(a_case)\n",
    "i = NoIndicator()\n",
    "u = NoUom()\n",
    "r = NoRatio()"
   ]
  },
  {
   "cell_type": "code",
   "execution_count": 7,
   "metadata": {},
   "outputs": [
    {
     "name": "stdout",
     "output_type": "stream",
     "text": [
      "defaultdict(<class 'list'>,\n",
      "            {None: [NoIndicator(mapping_func='na', has_value=False),\n",
      "                    NoUom(mapping_func='n/a', has_value=False),\n",
      "                    NoRatio(mapping_func='NoRatio', has_value=False)],\n",
      "             'a.ref': [Property(mapping_func=AltCase(a.ref, [(x, p1), (y, p2)], default=pN), has_value=True),\n",
      "                       Analysis(mapping_func=AltCase(a.ref, [(x, a1), (y, a2), (z, a3)], default=aN), has_value=True)]})\n"
     ]
    }
   ],
   "source": [
    "from collections import defaultdict\n",
    "\n",
    "me_rc : Dict[str, List[Mapping]] = defaultdict(list)  # mapping_el_by_ref_col\n",
    "for e in [p, a, i, u, r]:\n",
    "    key = None if e.is_inline() else e.mapping_func.ref_field\n",
    "    me_rc[key].append(e)\n",
    "    \n",
    "pprint(me_rc)"
   ]
  },
  {
   "cell_type": "code",
   "execution_count": 8,
   "metadata": {},
   "outputs": [],
   "source": [
    "# in real version this should be exposed via the `Mapping` type\n",
    "def get_branches(e: Mapping) -> List[LogicBranch]:\n",
    "    if isinstance(e.mapping_func, str):\n",
    "        yield LogicBranch(e.mapping_func, None, None)\n",
    "    elif e.is_inline():\n",
    "        yield LogicBranch(e.mapping_func.val, None, None)\n",
    "    elif isinstance(e.mapping_func, AltCase):\n",
    "        for b in e.mapping_func.get_branches():\n",
    "            yield b\n",
    "    else:\n",
    "        raise NotImplementedError(f'Only str, inline or AltCase supported, got type: {type(e)}')"
   ]
  },
  {
   "cell_type": "code",
   "execution_count": 9,
   "metadata": {},
   "outputs": [],
   "source": [
    "# types needed in next section\n",
    "from __future__ import annotations  # needed for HeadingElementsBuilder to use it's own type\n",
    "from enum import Enum\n",
    "\n",
    "class HeaderElementType(Enum):\n",
    "    prop = 1\n",
    "    anal = 2\n",
    "    ind = 3\n",
    "    uom = 4\n",
    "    ratio = 5\n",
    "    \n",
    "@dataclass\n",
    "class HeadingElementsBuilder():\n",
    "    \"\"\"\n",
    "    Construct a header, allowing partial representations and merging. \n",
    "    \n",
    "    e.g. if we have prop and anal from one ref col, and the other elements  \n",
    "    from another, we can construct an instance for each and then merge them\n",
    "    to allow us to build a complete header.\n",
    "    \"\"\"\n",
    "    ref_col: str  # needed?\n",
    "    search_expr: str  # needed?\n",
    "    prop: Optional[str] = field(init=False, default=None)\n",
    "    anal: Optional[str] = field(init=False, default=None)\n",
    "    ind: Optional[str] = field(init=False, default=None)\n",
    "    uom: Optional[str] = field(init=False, default=None)\n",
    "    ratio: Optional[str] = field(init=False, default=None)\n",
    "    \n",
    "    def add_element(self, element_type: HeaderElementType, result: str) -> None:\n",
    "        if element_type == HeaderElementType.prop:\n",
    "            self.prop = result\n",
    "        elif element_type == HeaderElementType.anal:\n",
    "            self.anal = result\n",
    "        elif element_type == HeaderElementType.ind:\n",
    "            self.ind = result\n",
    "        elif element_type == HeaderElementType.uom:\n",
    "            self.uom = result\n",
    "        elif element_type == HeaderElementType.ratio:\n",
    "            self.ratio = result\n",
    "        else:\n",
    "            raise NotImplementedError(f\"HeaderElementType {element_type} not supported.\")\n",
    "            \n",
    "    def merge(self, other: HeadingElementsBuilder):\n",
    "        self.prop = self._merge_element_or_raise(self.prop, other.prop, HeaderElementType.prop)\n",
    "        self.anal = self._merge_element_or_raise(self.anal, other.anal, HeaderElementType.anal)\n",
    "        self.ind = self._merge_element_or_raise(self.ind, other.ind, HeaderElementType.ind)\n",
    "        self.uom = self._merge_element_or_raise(self.uom, other.uom, HeaderElementType.uom)\n",
    "        self.ratio = self._merge_element_or_raise(self.ratio, other.ratio, HeaderElementType.ratio)\n",
    "    \n",
    "    def build_header_elements(self) -> HeaderElements:\n",
    "        self.validate()\n",
    "        return HeaderElements(prop=self.prop, anal=self.anal, ind=self.ind, uom=self.uom, ratio=self.ratio)\n",
    "        \n",
    "    def validate(self) -> None:\n",
    "        elements = [self.prop, self.anal, self.ind, self.uom, self.ratio]\n",
    "        if not all(elements): # each element is truthy if it has a value\n",
    "            raise Exception(\"Each element type must have a value to proceed.\")\n",
    "        \n",
    "    @staticmethod\n",
    "    def _merge_element_or_raise(v1: Optional[str], v2: Optional[str], \n",
    "                                t: HeaderElementType) -> Optional[str]:\n",
    "        if (v1 is not None and v2 is not None) and v1 != v2:  # both have a val and not eq\n",
    "            raise Exception(f\"Can't merge on {t} as there is a conflict: {self.prop} | {other.prop}\")    \n",
    "        return v1 or v2  # return which ever has a value or None if neither\n",
    "\n",
    "\n",
    "# in real version, may be able to just add a property to Mapping, which set set to the \n",
    "# HeaderElementType in the subclass e.g. Property would have mapping_type = HeaderElementType.prop\n",
    "def get_element_type(e: Mapping) -> HeaderElementType:\n",
    "    # can't do simple dict lookup as need to recognise sub types e.g. that NoUom is a Uom\n",
    "    if isinstance(e, Property): return HeaderElementType.prop\n",
    "    if isinstance(e, Analysis): return HeaderElementType.anal\n",
    "    if isinstance(e, Indicator): return HeaderElementType.ind\n",
    "    if isinstance(e, Uom): return HeaderElementType.uom\n",
    "    if isinstance(e, Ratio): return HeaderElementType.ratio"
   ]
  },
  {
   "cell_type": "code",
   "execution_count": 10,
   "metadata": {},
   "outputs": [
    {
     "name": "stdout",
     "output_type": "stream",
     "text": [
      "\n",
      "================================================================================\n",
      "\n",
      "processing reference col: a.ref\n",
      "\n",
      "unique search terms: {'x', 'z', None, 'y'}\n",
      "\n",
      "el func: AltCase(a.ref, [(x, p1), (y, p2)], default=pN):\n",
      "LogicBranch(result='p1', search_expr='x', ref='a.ref')\n",
      "LogicBranch(result='p2', search_expr='y', ref='a.ref')\n",
      "LogicBranch(result='pN', search_expr=None, ref='a.ref')\n",
      "\n",
      "el func: AltCase(a.ref, [(x, a1), (y, a2), (z, a3)], default=aN):\n",
      "LogicBranch(result='a1', search_expr='x', ref='a.ref')\n",
      "LogicBranch(result='a2', search_expr='y', ref='a.ref')\n",
      "LogicBranch(result='a3', search_expr='z', ref='a.ref')\n",
      "LogicBranch(result='aN', search_expr=None, ref='a.ref')\n",
      "\n",
      "lookup of srcg -> result grouped by element type\n",
      "{<HeaderElementType.prop: 1>: {None: 'pN', 'x': 'p1', 'y': 'p2'},\n",
      " <HeaderElementType.anal: 2>: {None: 'aN', 'x': 'a1', 'y': 'a2', 'z': 'a3'}}\n",
      "\n",
      "================================================================================\n",
      "\n",
      "processing reference col: None\n",
      "\n",
      "unique search terms: {None}\n",
      "\n",
      "el func: na:\n",
      "LogicBranch(result='na', search_expr=None, ref=None)\n",
      "\n",
      "el func: n/a:\n",
      "LogicBranch(result='n/a', search_expr=None, ref=None)\n",
      "\n",
      "el func: NoRatio:\n",
      "LogicBranch(result='NoRatio', search_expr=None, ref=None)\n",
      "\n",
      "lookup of srcg -> result grouped by element type\n",
      "{<HeaderElementType.ind: 3>: {None: 'na'},\n",
      " <HeaderElementType.uom: 4>: {None: 'n/a'},\n",
      " <HeaderElementType.ratio: 5>: {None: 'NoRatio'}}\n",
      "\n",
      "********************************************************************************\n",
      "\n",
      "lookup of header elements builder by ref\n",
      "defaultdict(<class 'list'>,\n",
      "            {None: [HeadingElementsBuilder(ref_col=None, search_expr=None, prop=None, anal=None, ind='na', uom='n/a', ratio='NoRatio')],\n",
      "             'a.ref': [HeadingElementsBuilder(ref_col='a.ref', search_expr='x', prop='p1', anal='a1', ind=None, uom=None, ratio=None),\n",
      "                       HeadingElementsBuilder(ref_col='a.ref', search_expr='z', prop='pN', anal='a3', ind=None, uom=None, ratio=None),\n",
      "                       HeadingElementsBuilder(ref_col='a.ref', search_expr=None, prop='pN', anal='aN', ind=None, uom=None, ratio=None),\n",
      "                       HeadingElementsBuilder(ref_col='a.ref', search_expr='y', prop='p2', anal='a2', ind=None, uom=None, ratio=None)]})\n"
     ]
    }
   ],
   "source": [
    "# heading elements builder by ref_col - keep in mind that these will usually be part \n",
    "# formed when building within the context of a single ref_col - combined later\n",
    "hebs_rc: Dict[str, List[HeadingElementsBuilder]] = defaultdict(list)\n",
    "\n",
    "for ref, elements in me_rc.items():\n",
    "    \n",
    "    print(f\"\\n{'='*80}\")\n",
    "    print(f\"\\nprocessing reference col: {ref}\")\n",
    "        \n",
    "    # get all unique search terms (for current ref field)\n",
    "    search_terms = set([lb.search_expr for e in elements for lb in get_branches(e)])\n",
    "    print(f\"\\nunique search terms: {search_terms}\")\n",
    "    \n",
    "    # get result by search term by element type\n",
    "    r_s_rc: Dict[HeaderElementType, Dict[str, str]] = {}\n",
    "          \n",
    "    # get possible logic branch combinations) \n",
    "    for e in elements:\n",
    "        element_type = get_element_type(e)\n",
    "        r_s_rc[element_type] = {}\n",
    "        print(f\"\\nel func: {e.mapping_func}:\")\n",
    "        for b in get_branches(e):\n",
    "            pprint(b)\n",
    "            r_s_rc[element_type][b.search_expr] = b.result\n",
    "             #lbs_s[b.search_expr].append(b)\n",
    "    \n",
    "    print('\\nlookup of srcg -> result grouped by element type')\n",
    "    pprint(r_s_rc)\n",
    "    \n",
    "    for term in search_terms:\n",
    "        heb = HeadingElementsBuilder(ref, term)\n",
    "        for element_type, result_by_search_term in r_s_rc.items():\n",
    "            result: str\n",
    "            if term in result_by_search_term:\n",
    "                result = result_by_search_term[term]\n",
    "            else:\n",
    "                result = result_by_search_term[None]  # use the default if this search term is not mapped in this case statement\n",
    "            heb.add_element(element_type, result)\n",
    "        hebs_rc[ref].append(heb)\n",
    "    \n",
    "print(f\"\\n{'*' * 80}\")\n",
    "print('\\nlookup of header elements builder by ref')\n",
    "pprint(hebs_rc)\n",
    "    \n",
    "    \n",
    "    "
   ]
  },
  {
   "cell_type": "code",
   "execution_count": null,
   "metadata": {},
   "outputs": [],
   "source": []
  }
 ],
 "metadata": {
  "kernelspec": {
   "display_name": "Python 3",
   "language": "python",
   "name": "python3"
  },
  "language_info": {
   "codemirror_mode": {
    "name": "ipython",
    "version": 3
   },
   "file_extension": ".py",
   "mimetype": "text/x-python",
   "name": "python",
   "nbconvert_exporter": "python",
   "pygments_lexer": "ipython3",
   "version": "3.7.2"
  }
 },
 "nbformat": 4,
 "nbformat_minor": 2
}
