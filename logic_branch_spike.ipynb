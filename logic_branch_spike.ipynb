{
 "cells": [
  {
   "cell_type": "code",
   "execution_count": 1,
   "metadata": {},
   "outputs": [],
   "source": [
    "# bring in the dependencies\n",
    "from itertools import product, combinations\n",
    "from dataclasses import dataclass\n",
    "from typing import Optional, List, Dict, Iterable\n",
    "from pprint import pprint\n",
    "import os, sys\n",
    "\n",
    "# project dependencies\n",
    "proj_path = 'd:/code/Projects/property_mapping_sql_generator/'\n",
    "sys.path.insert(0, proj_path)\n",
    "from dsl.engine import *"
   ]
  },
  {
   "cell_type": "code",
   "execution_count": 2,
   "metadata": {},
   "outputs": [],
   "source": [
    "# create the logic branch type i.e. a branch from a case statement\n",
    "@dataclass(frozen=True)\n",
    "class LogicBranch():\n",
    "    result: str\n",
    "    search_expr: Optional[str]\n",
    "    ref: Optional[str]"
   ]
  },
  {
   "cell_type": "code",
   "execution_count": 3,
   "metadata": {},
   "outputs": [],
   "source": [
    "# spike for case statement to support return of logic branches\n",
    "class AltCase(Case):\n",
    "    \n",
    "    def get_branches(self) -> List[LogicBranch]:\n",
    "        for src, res in self.search_result_pairs:\n",
    "            yield LogicBranch(res.val, src.val, self.ref_field)\n",
    "        yield LogicBranch(self.default.val, None, self.ref_field)\n",
    "        \n",
    "    def __repr__(self):\n",
    "        pairs_str = \", \".join([f\"({s.val}, {r.val})\" for s, r in self.search_result_pairs])\n",
    "        return f\"AltCase({self.ref_field}, [{pairs_str}], default={self.default.val})\"\n",
    "    \n",
    "    def __str__(self):\n",
    "        return self.__repr__()"
   ]
  },
  {
   "cell_type": "code",
   "execution_count": 4,
   "metadata": {},
   "outputs": [
    {
     "data": {
      "text/plain": [
       "[LogicBranch(result='p1', search_expr='x', ref='a.ref'),\n",
       " LogicBranch(result='p2', search_expr='y', ref='a.ref'),\n",
       " LogicBranch(result='pN', search_expr=None, ref='a.ref')]"
      ]
     },
     "execution_count": 4,
     "metadata": {},
     "output_type": "execute_result"
    }
   ],
   "source": [
    "# example alt cases\n",
    "p_case = AltCase('ref', [('x', 'p1'), ('y', 'p2')], default='pN')\n",
    "list(p_case.get_branches())"
   ]
  },
  {
   "cell_type": "code",
   "execution_count": 5,
   "metadata": {},
   "outputs": [
    {
     "data": {
      "text/plain": [
       "[LogicBranch(result='a1', search_expr='x', ref='a.ref'),\n",
       " LogicBranch(result='a2', search_expr='y', ref='a.ref'),\n",
       " LogicBranch(result='a3', search_expr='z', ref='a.ref'),\n",
       " LogicBranch(result='aN', search_expr=None, ref='a.ref')]"
      ]
     },
     "execution_count": 5,
     "metadata": {},
     "output_type": "execute_result"
    }
   ],
   "source": [
    "a_case = AltCase('ref', [('x', 'a1'), ('y', 'a2'), ('z', 'a3')], default='aN')\n",
    "list(a_case.get_branches())"
   ]
  },
  {
   "cell_type": "code",
   "execution_count": 6,
   "metadata": {},
   "outputs": [],
   "source": [
    "# assume inline mapping for others e.g.\n",
    "p = Property(p_case)\n",
    "a = Analysis(a_case)\n",
    "i = NoIndicator()\n",
    "u = NoUom()\n",
    "r = NoRatio()"
   ]
  },
  {
   "cell_type": "code",
   "execution_count": 7,
   "metadata": {},
   "outputs": [
    {
     "name": "stdout",
     "output_type": "stream",
     "text": [
      "defaultdict(<class 'list'>,\n",
      "            {None: [NoIndicator(mapping_func='na', has_value=False),\n",
      "                    NoUom(mapping_func='n/a', has_value=False),\n",
      "                    NoRatio(mapping_func='NoRatio', has_value=False)],\n",
      "             'a.ref': [Property(mapping_func=AltCase(a.ref, [(x, p1), (y, p2)], default=pN), has_value=True),\n",
      "                       Analysis(mapping_func=AltCase(a.ref, [(x, a1), (y, a2), (z, a3)], default=aN), has_value=True)]})\n"
     ]
    }
   ],
   "source": [
    "from collections import defaultdict\n",
    "\n",
    "me_rc : Dict[str, List[Mapping]] = defaultdict(list)  # mapping_el_by_ref_col\n",
    "for e in [p, a, i, u, r]:\n",
    "    key = None if e.is_inline() else e.mapping_func.ref_field\n",
    "    me_rc[key].append(e)\n",
    "    \n",
    "pprint(me_rc)"
   ]
  },
  {
   "cell_type": "code",
   "execution_count": 8,
   "metadata": {},
   "outputs": [],
   "source": [
    "# in real version this should be exposed via the `Mapping` type\n",
    "def get_branches(e: Mapping) -> List[LogicBranch]:\n",
    "    if isinstance(e.mapping_func, str):\n",
    "        yield LogicBranch(e.mapping_func, None, None)\n",
    "    elif e.is_inline():\n",
    "        yield LogicBranch(e.mapping_func.val, None, None)\n",
    "    elif isinstance(e.mapping_func, AltCase):\n",
    "        for b in e.mapping_func.get_branches():\n",
    "            yield b\n",
    "    else:\n",
    "        raise NotImplementedError(f'Only str, inline or AltCase supported, got type: {type(e)}')"
   ]
  },
  {
   "cell_type": "code",
   "execution_count": 9,
   "metadata": {},
   "outputs": [
    {
     "name": "stdout",
     "output_type": "stream",
     "text": [
      "\n",
      "================================================================================\n",
      "\n",
      "processing ref: a.ref\n",
      "\n",
      "el func: AltCase(a.ref, [(x, p1), (y, p2)], default=pN):\n",
      "LogicBranch(result='p1', search_expr='x', ref='a.ref')\n",
      "LogicBranch(result='p2', search_expr='y', ref='a.ref')\n",
      "LogicBranch(result='pN', search_expr=None, ref='a.ref')\n",
      "\n",
      "el func: AltCase(a.ref, [(x, a1), (y, a2), (z, a3)], default=aN):\n",
      "LogicBranch(result='a1', search_expr='x', ref='a.ref')\n",
      "LogicBranch(result='a2', search_expr='y', ref='a.ref')\n",
      "LogicBranch(result='a3', search_expr='z', ref='a.ref')\n",
      "LogicBranch(result='aN', search_expr=None, ref='a.ref')\n",
      "\n",
      "unique search terms: {'y', 'z', 'x', None}\n",
      "\n",
      "================================================================================\n",
      "\n",
      "processing ref: None\n",
      "\n",
      "el func: na:\n",
      "LogicBranch(result='na', search_expr=None, ref=None)\n",
      "\n",
      "el func: n/a:\n",
      "LogicBranch(result='n/a', search_expr=None, ref=None)\n",
      "\n",
      "el func: NoRatio:\n",
      "LogicBranch(result='NoRatio', search_expr=None, ref=None)\n",
      "\n",
      "unique search terms: {None}\n"
     ]
    }
   ],
   "source": [
    "# get valid combs of logic branches\n",
    "lb_rc: Dict[str, List[LogicBranch]] = defaultdict(list)  # logic_br_by_ref_col\n",
    "\n",
    "for ref, elements in me_rc.items():\n",
    "    \n",
    "    print(f\"\\n{'='*80}\")\n",
    "    print(f\"\\nprocessing ref: {ref}\")\n",
    "    \n",
    "    # get unique search terms\n",
    "    lb_s: Dict[str, List[LogicBranch]] = defaultdict(list) # logic br by srch\n",
    "        \n",
    "    # get possible logic branch combinations) \n",
    "    for e in elements:\n",
    "        print(f\"\\nel func: {e.mapping_func}:\")\n",
    "        for b in get_branches(e):\n",
    "            pprint(b)\n",
    "             #lb_s[b.search_expr].append(b)\n",
    "    \n",
    "    # get all unique search terms (for current ref field)\n",
    "    search_terms = set([lb.search_expr for e in elements for lb in get_branches(e)])\n",
    "\n",
    "    print(f\"\\nunique search terms: {search_terms}\")\n"
   ]
  },
  {
   "cell_type": "code",
   "execution_count": null,
   "metadata": {},
   "outputs": [],
   "source": []
  }
 ],
 "metadata": {
  "kernelspec": {
   "display_name": "Python 3",
   "language": "python",
   "name": "python3"
  },
  "language_info": {
   "codemirror_mode": {
    "name": "ipython",
    "version": 3
   },
   "file_extension": ".py",
   "mimetype": "text/x-python",
   "name": "python",
   "nbconvert_exporter": "python",
   "pygments_lexer": "ipython3",
   "version": "3.7.2"
  }
 },
 "nbformat": 4,
 "nbformat_minor": 2
}
