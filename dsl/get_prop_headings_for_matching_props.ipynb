{
 "cells": [
  {
   "cell_type": "code",
   "execution_count": 1,
   "metadata": {},
   "outputs": [],
   "source": [
    "from dsl.dependencies import get_property_model, register_dependencies\n",
    "from uuid import UUID\n",
    "import requests"
   ]
  },
  {
   "cell_type": "code",
   "execution_count": 2,
   "metadata": {},
   "outputs": [],
   "source": [
    "register_dependencies()\n",
    "pm = get_property_model()"
   ]
  },
  {
   "cell_type": "code",
   "execution_count": 3,
   "metadata": {},
   "outputs": [
    {
     "name": "stdout",
     "output_type": "stream",
     "text": [
      "<Response [401]>\n"
     ]
    }
   ],
   "source": [
    "sim_props_uri = 'https://metis-service-igi-norwegian-data.eu.ngrok.io/api/v1/similarityproperties'\n",
    "usr, pwd = 'd15c0ver', 'rj4io3ru390--+'\n",
    "request_header = {'content-type': 'application/json', 'Accept-Charset': 'UTF-8'}\n",
    "\n",
    "well_resp = requests.get(url=sim_props_uri, \n",
    "                         params={\"stagingquerytype\":\"Well\"},\n",
    "                         auth=(usr, pwd),\n",
    "                         headers=request_header)\n",
    "\n",
    "print(well_resp)"
   ]
  },
  {
   "cell_type": "code",
   "execution_count": 4,
   "metadata": {},
   "outputs": [],
   "source": [
    "prop_guids = []"
   ]
  },
  {
   "cell_type": "code",
   "execution_count": 5,
   "metadata": {},
   "outputs": [],
   "source": [
    "for guid in prop_guids:\n",
    "    res = next(pm.get_property_headers_by_guid(UUID(guid)))\n",
    "    #print(res)  # header elements\n",
    "    #print(f\"{guid} -> {res.format_header()}\")\n",
    "    print(res.format_header())"
   ]
  },
  {
   "cell_type": "code",
   "execution_count": null,
   "metadata": {},
   "outputs": [],
   "source": []
  }
 ],
 "metadata": {
  "kernelspec": {
   "display_name": "Python 3",
   "language": "python",
   "name": "python3"
  },
  "language_info": {
   "codemirror_mode": {
    "name": "ipython",
    "version": 3
   },
   "file_extension": ".py",
   "mimetype": "text/x-python",
   "name": "python",
   "nbconvert_exporter": "python",
   "pygments_lexer": "ipython3",
   "version": "3.8.2"
  }
 },
 "nbformat": 4,
 "nbformat_minor": 2
}
