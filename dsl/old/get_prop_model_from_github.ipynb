{
 "cells": [
  {
   "cell_type": "code",
   "execution_count": 1,
   "metadata": {},
   "outputs": [],
   "source": [
    "import requests, os, base64, json\n",
    "\n",
    "usr, pwd = 'bob-igi', os.getenv('github_ro_pwd')\n",
    "\n",
    "base_uri = 'https://api.github.com/repos/IGILtd/property_model.configuration'\n",
    "\n",
    "# we need to make one req to the guthub dir containing the json files\n",
    "# to get the sha has for each file needed\n",
    "sha_hash_uri = f'{base_uri}/contents/PropertyModel.Configuration/Resources'\n",
    "\n",
    "## then another to the data api to get a base 64 encode blob for the json\n",
    "blob_uri = f'{base_uri}/git/blobs/'  # the file_sha will be added to the end"
   ]
  },
  {
   "cell_type": "code",
   "execution_count": 2,
   "metadata": {},
   "outputs": [],
   "source": [
    "dir_info = requests.get(sha_hash_uri, auth=(usr, pwd)).json()\n",
    "sha_by_filename = {rec['name']: rec['sha'] for rec in dir_info}"
   ]
  },
  {
   "cell_type": "code",
   "execution_count": 3,
   "metadata": {},
   "outputs": [
    {
     "name": "stdout",
     "output_type": "stream",
     "text": [
      "4935cea2300577b9adeb6ec107457c7db35263f3\n"
     ]
    }
   ],
   "source": [
    "# we now have a mapping from the resource file name to the sha hash\n",
    "print(sha_by_filename['Properties.json'])  # e.g."
   ]
  },
  {
   "cell_type": "code",
   "execution_count": 4,
   "metadata": {},
   "outputs": [],
   "source": [
    "def get_resource(#self, \n",
    "                 file_name: str#, pwd: str\n",
    "                ):# -> Union[Dict, List]:\n",
    "    #logging.info(f'Downloading {file_name}...')\n",
    "    uri = f'{blob_uri}{sha_by_filename[file_name]}'\n",
    "    #print(f'using url: {uri}')\n",
    "    resp = requests.get(uri, auth=(usr, pwd)).json()\n",
    "    return json.loads(base64.b64decode(resp['content']))"
   ]
  },
  {
   "cell_type": "code",
   "execution_count": 5,
   "metadata": {},
   "outputs": [
    {
     "data": {
      "text/plain": [
       "{'AnalysisGroup': 'well',\n",
       " 'FullName': 'Well name / identifier',\n",
       " 'ShortName': 'Well Name',\n",
       " 'Name': 'well name',\n",
       " 'Guid': '{1AD6BB0F-27FD-4F4D-B926-E23E0C5EEF0F}',\n",
       " 'IsRemoved': 'false',\n",
       " 'DataType': 'T',\n",
       " 'Codelist': '',\n",
       " 'IsInternalProperty': 'false',\n",
       " 'PropertyCode': '4',\n",
       " 'IonNumber': '',\n",
       " 'NumberOfCarbonAtoms': '',\n",
       " 'NumberOfHydrogenAtoms': '',\n",
       " 'NumberOfOxygenAtoms': '',\n",
       " 'DensitySTP': '',\n",
       " 'MolecularWeight': '',\n",
       " 'Description': 'Well / borehole name or identifier from which the sample was derived.',\n",
       " 'Aliases': 'wellid; <3>; wellborename; drillingsite; wellname; wellbore; well; wellsite; namewell; sitename',\n",
       " 'PropertyMetadata': [{'PropertyIndicator': 'na',\n",
       "   'DefaultUom': '',\n",
       "   'RatioFormat': 'NoRatio',\n",
       "   'DecimalPlaces': '0',\n",
       "   'Equation': '',\n",
       "   'EquationUom': '',\n",
       "   'DefaultValue': '',\n",
       "   'AbsoluteMin': '',\n",
       "   'TypicalMin': '',\n",
       "   'TypicalMax': '',\n",
       "   'AbsoluteMax': '',\n",
       "   'TypicalError': ''}],\n",
       " 'IsProjectProperty': 'false',\n",
       " 'Position': '10.1'}"
      ]
     },
     "execution_count": 5,
     "metadata": {},
     "output_type": "execute_result"
    }
   ],
   "source": [
    "props_json = get_resource('Properties.json')\n",
    "props = props_json['properties']\n",
    "# e.g. first prop\n",
    "props[0]"
   ]
  },
  {
   "cell_type": "code",
   "execution_count": 6,
   "metadata": {},
   "outputs": [
    {
     "data": {
      "text/plain": [
       "{'Type': '0',\n",
       " 'Standard name': 'well',\n",
       " 'Short name': 'Well',\n",
       " 'Full name': 'Well properties',\n",
       " 'Guid': '{267D4F7B-EE35-4DC9-B0B7-25320F52E0C2}',\n",
       " 'Position': '10',\n",
       " 'Aliases': 'wellbore'}"
      ]
     },
     "execution_count": 6,
     "metadata": {},
     "output_type": "execute_result"
    }
   ],
   "source": [
    "anal_json = get_resource('AnalysisGroups.json')\n",
    "anal_json[0]  # e.g. first entry"
   ]
  },
  {
   "cell_type": "code",
   "execution_count": null,
   "metadata": {},
   "outputs": [],
   "source": []
  }
 ],
 "metadata": {
  "kernelspec": {
   "display_name": "Python 3",
   "language": "python",
   "name": "python3"
  },
  "language_info": {
   "codemirror_mode": {
    "name": "ipython",
    "version": 3
   },
   "file_extension": ".py",
   "mimetype": "text/x-python",
   "name": "python",
   "nbconvert_exporter": "python",
   "pygments_lexer": "ipython3",
   "version": "3.8.2"
  }
 },
 "nbformat": 4,
 "nbformat_minor": 4
}
