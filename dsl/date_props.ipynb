{
 "cells": [
  {
   "cell_type": "code",
   "execution_count": 1,
   "metadata": {},
   "outputs": [],
   "source": [
    "from dsl.dependencies import get_property_model, register_dependencies\n",
    "from dsl.utils.config_providers.client_config_provider import initialise_client_config, SupportedSource\n",
    "from uuid import UUID\n",
    "from dataclasses import dataclass, field\n",
    "import os\n",
    "import petl as etl\n",
    "\n",
    "initialise_client_config(SupportedSource.Pigi3TextExtract)\n",
    "register_dependencies()\n",
    "pm = get_property_model()"
   ]
  },
  {
   "cell_type": "code",
   "execution_count": 2,
   "metadata": {},
   "outputs": [],
   "source": [
    "#@dataclass\n",
    "#class DateProperty:\n",
    "#    guid: str\n",
    "#    table: str\n",
    "table_prop_is_a_well_triples = set()\n",
    "\n",
    "# iterate property model\n",
    "for prop in pm.properties:\n",
    "    if prop['DataType'] != 'Dt':\n",
    "        continue\n",
    "        \n",
    "    prop_guid = UUID(prop['Guid'])    \n",
    "    is_a_well_property = prop['AnalysisGroup'] == 'well'\n",
    "    tab_prefix = 'well' if is_a_well_property else ''\n",
    "    \n",
    "    if prop['FullName'] == 'Analysis date':\n",
    "        table = \"AnalysisMetadata\"\n",
    "    else:\n",
    "        table = f'{tab_prefix}Observation{prop_guid.hex}'\n",
    "    \n",
    "    table_prop_is_a_well_triples.add((table, prop['ShortName'], is_a_well_property))\n",
    "    "
   ]
  },
  {
   "cell_type": "code",
   "execution_count": 3,
   "metadata": {},
   "outputs": [
    {
     "name": "stdout",
     "output_type": "stream",
     "text": [
      "select AnalysisDate as [Analysis.Date] from AnalysisMetadata where AnalysisDate like '%23:%';\n",
      "select Result as [Sam.Sampling date] from Observatione178655787f94ce986d180a0eaf35478 where Result like '%23:%';\n",
      "select Result as [Well.Start date] from wellObservation2aaaf960392d409993b205d210416cfb where Result like '%23:%';\n",
      "select Result as [Well.Compl date] from wellObservationd69c057cd9f14682b0796b34d84a0d02 where Result like '%23:%';\n",
      "select Result as [Well.End date] from wellObservationf6aeeadc69a94b75ad911a4cc5f043c0 where Result like '%23:%';\n"
     ]
    }
   ],
   "source": [
    "# generate queries\n",
    "for table, prop, is_a_well in sorted(table_prop_is_a_well_triples):\n",
    "    if table == 'AnalysisMetadata':\n",
    "        query = f\"select AnalysisDate as [Analysis.{prop}] from AnalysisMetadata where AnalysisDate like '%23:%';\"\n",
    "    else:\n",
    "        query = f\"select Result as [{'Well' if is_a_well else 'Sam'}.{prop}] from {table} where Result like '%23:%';\"\n",
    "    print(query)"
   ]
  },
  {
   "cell_type": "code",
   "execution_count": 4,
   "metadata": {
    "scrolled": true
   },
   "outputs": [
    {
     "name": "stdout",
     "output_type": "stream",
     "text": [
      "update AnalysisMetadata\n",
      "   set AnalysisDate = format(parse(AnalysisDate as datetime), 'yyyy-MM-dd HH:mm:ssZ')\n",
      " where AnalysisDate like '%23:%';\n",
      "\n",
      "update Observatione178655787f94ce986d180a0eaf35478\n",
      "   set Result = format(parse(Result as datetime), 'yyyy-MM-dd HH:mm:ssZ')\n",
      " where Result like '%23:%';\n",
      "\n",
      "update wellObservation2aaaf960392d409993b205d210416cfb\n",
      "   set Result = format(parse(Result as datetime), 'yyyy-MM-dd HH:mm:ssZ')\n",
      " where Result like '%23:%';\n",
      "\n",
      "update wellObservationd69c057cd9f14682b0796b34d84a0d02\n",
      "   set Result = format(parse(Result as datetime), 'yyyy-MM-dd HH:mm:ssZ')\n",
      " where Result like '%23:%';\n",
      "\n",
      "update wellObservationf6aeeadc69a94b75ad911a4cc5f043c0\n",
      "   set Result = format(parse(Result as datetime), 'yyyy-MM-dd HH:mm:ssZ')\n",
      " where Result like '%23:%';\n",
      "\n"
     ]
    }
   ],
   "source": [
    "# generate updates\n",
    "# note: tried format(dateadd(hour, 1, parse(AnalysisDate as datetime)), 'yyyy-MM-dd HH:mm:ssZ') - this added two hours\n",
    "#       just parsing seems to add an our (perhaps it thinks the input is local and +1 -> TUC for daylight saving)\n",
    "for table, _, _ in sorted(table_prop_is_a_well_triples):\n",
    "    if table == 'AnalysisMetadata':\n",
    "        query = f\"update {table}\\n   set AnalysisDate = format(parse(AnalysisDate as datetime), 'yyyy-MM-dd HH:mm:ssZ')\\n where AnalysisDate like '%23:%';\\n\"\n",
    "    else:\n",
    "        query = f\"update {table }\\n   set Result = format(parse(Result as datetime), 'yyyy-MM-dd HH:mm:ssZ')\\n where Result like '%23:%';\\n\"\n",
    "    print(query)"
   ]
  },
  {
   "cell_type": "code",
   "execution_count": null,
   "metadata": {},
   "outputs": [],
   "source": []
  }
 ],
 "metadata": {
  "kernelspec": {
   "display_name": "Python 3",
   "language": "python",
   "name": "python3"
  },
  "language_info": {
   "codemirror_mode": {
    "name": "ipython",
    "version": 3
   },
   "file_extension": ".py",
   "mimetype": "text/x-python",
   "name": "python",
   "nbconvert_exporter": "python",
   "pygments_lexer": "ipython3",
   "version": "3.8.10"
  }
 },
 "nbformat": 4,
 "nbformat_minor": 2
}
