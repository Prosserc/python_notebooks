{
 "cells": [
  {
   "cell_type": "code",
   "execution_count": 1,
   "metadata": {},
   "outputs": [],
   "source": [
    "from dsl.engine import *\n",
    "from dsl.dependencies import register_dependencies\n",
    "register_dependencies()"
   ]
  },
  {
   "cell_type": "code",
   "execution_count": 2,
   "metadata": {},
   "outputs": [],
   "source": [
    "a = Analysis(Case('ref', [('x', 'Pyrol2'), ('y', 'Pyrol6')], default='PyrolUn'))\n",
    "p = Property(Case('ref2', [('1', 'S1'), ('2', 'S2')], default='TOC'))\n",
    "u = Uom(Case('ref2', [('1', 'ppt (mg/g)'), ('2', 'ppt (mg/g)')], default='%wt'))"
   ]
  },
  {
   "cell_type": "code",
   "execution_count": 3,
   "metadata": {},
   "outputs": [],
   "source": [
    "mr = MappingRow(\"test\", prop=p, anal=a, uom=u)"
   ]
  },
  {
   "cell_type": "code",
   "execution_count": 4,
   "metadata": {},
   "outputs": [
    {
     "name": "stdout",
     "output_type": "stream",
     "text": [
      "TOC.Pyrol6<%wt>\n",
      "TOC.PyrolUn<%wt>\n",
      "TOC.Pyrol2<%wt>\n",
      "S1.Pyrol6<ppt (mg/g)>\n",
      "S1.PyrolUn<ppt (mg/g)>\n",
      "S1.Pyrol2<ppt (mg/g)>\n",
      "S2.Pyrol6<ppt (mg/g)>\n",
      "S2.PyrolUn<ppt (mg/g)>\n",
      "S2.Pyrol2<ppt (mg/g)>\n"
     ]
    }
   ],
   "source": [
    "# example of getting formatted headers\n",
    "for col in mr.expand_cols():\n",
    "    header_str = mr.format_header(col.header_elements)\n",
    "    print(header_str)"
   ]
  },
  {
   "cell_type": "code",
   "execution_count": 5,
   "metadata": {},
   "outputs": [
    {
     "name": "stdout",
     "output_type": "stream",
     "text": [
      "ValidatedHeaderElements(header_elements=HeaderElements(prop='TOC', anal='Pyrol6', uom='%wt', ind='na', ratio='NoRatio'), validity=<Validity.OKAY: 1>)\n",
      "ValidatedHeaderElements(header_elements=HeaderElements(prop='TOC', anal='PyrolUn', uom='%wt', ind='na', ratio='NoRatio'), validity=<Validity.OKAY: 1>)\n",
      "ValidatedHeaderElements(header_elements=HeaderElements(prop='TOC', anal='Pyrol2', uom='%wt', ind='na', ratio='NoRatio'), validity=<Validity.OKAY: 1>)\n",
      "ValidatedHeaderElements(header_elements=HeaderElements(prop='S1', anal='Pyrol6', uom='ppt (mg/g)', ind='na', ratio='NoRatio'), validity=<Validity.OKAY: 1>)\n",
      "ValidatedHeaderElements(header_elements=HeaderElements(prop='S1', anal='PyrolUn', uom='ppt (mg/g)', ind='na', ratio='NoRatio'), validity=<Validity.OKAY: 1>)\n",
      "ValidatedHeaderElements(header_elements=HeaderElements(prop='S1', anal='Pyrol2', uom='ppt (mg/g)', ind='na', ratio='NoRatio'), validity=<Validity.OKAY: 1>)\n",
      "ValidatedHeaderElements(header_elements=HeaderElements(prop='S2', anal='Pyrol6', uom='ppt (mg/g)', ind='na', ratio='NoRatio'), validity=<Validity.OKAY: 1>)\n",
      "ValidatedHeaderElements(header_elements=HeaderElements(prop='S2', anal='PyrolUn', uom='ppt (mg/g)', ind='na', ratio='NoRatio'), validity=<Validity.OKAY: 1>)\n",
      "ValidatedHeaderElements(header_elements=HeaderElements(prop='S2', anal='Pyrol2', uom='ppt (mg/g)', ind='na', ratio='NoRatio'), validity=<Validity.OKAY: 1>)\n"
     ]
    }
   ],
   "source": [
    "# look at the header_elements obejcts - ind etc have values\n",
    "for col in mr.expand_cols():\n",
    "    print(col)"
   ]
  },
  {
   "cell_type": "code",
   "execution_count": null,
   "metadata": {},
   "outputs": [],
   "source": []
  }
 ],
 "metadata": {
  "kernelspec": {
   "display_name": "Python 3",
   "language": "python",
   "name": "python3"
  },
  "language_info": {
   "codemirror_mode": {
    "name": "ipython",
    "version": 3
   },
   "file_extension": ".py",
   "mimetype": "text/x-python",
   "name": "python",
   "nbconvert_exporter": "python",
   "pygments_lexer": "ipython3",
   "version": "3.7.2"
  }
 },
 "nbformat": 4,
 "nbformat_minor": 2
}
