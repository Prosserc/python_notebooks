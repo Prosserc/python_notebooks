{
 "cells": [
  {
   "cell_type": "code",
   "execution_count": 1,
   "metadata": {},
   "outputs": [],
   "source": [
    "from dsl.dependencies import get_property_model, register_dependencies, PropertyModelProvider, CONTAINER\n",
    "from uuid import UUID\n",
    "import os, json"
   ]
  },
  {
   "cell_type": "code",
   "execution_count": 2,
   "metadata": {},
   "outputs": [],
   "source": [
    "register_dependencies()\n",
    "pm = get_property_model()"
   ]
  },
  {
   "cell_type": "code",
   "execution_count": 3,
   "metadata": {},
   "outputs": [],
   "source": [
    "# it's a bit hacky here using the DI container as we don't currently use the DbDataTypeOverwrites config in the DSL\n",
    "prop_model_provider = CONTAINER.resolve(PropertyModelProvider)\n",
    "db_type_config = prop_model_provider.get_resource('DbDataTypeOverwrites', pwd=os.getenv('BitbucketReadOnlyPwd'))"
   ]
  },
  {
   "cell_type": "code",
   "execution_count": 4,
   "metadata": {},
   "outputs": [
    {
     "name": "stdout",
     "output_type": "stream",
     "text": [
      "File with 91 props written to: C:\\Users\\chris prosser\\documents\\DbDataTypeOverwritesWithHeaders.json\n"
     ]
    }
   ],
   "source": [
    "output_path = os.path.join(os.getenv('userprofile'), 'documents', 'DbDataTypeOverwritesWithHeaders.json')\n",
    "\n",
    "for prop in db_type_config:\n",
    "    prop_guid = UUID(prop[\"PropertyGuid\"])\n",
    "    res = next(pm.get_property_headers_by_guid(prop_guid))\n",
    "    prop[\"Heading\"] = res.format_header()\n",
    "\n",
    "with open(output_path, 'w', encoding='utf-8') as f:\n",
    "    json.dump(db_type_config, f, indent=4)\n",
    "    \n",
    "print(f\"File with {len(db_type_config)} props written to: {output_path}\")"
   ]
  },
  {
   "cell_type": "code",
   "execution_count": null,
   "metadata": {},
   "outputs": [],
   "source": []
  }
 ],
 "metadata": {
  "kernelspec": {
   "display_name": "Python 3",
   "language": "python",
   "name": "python3"
  },
  "language_info": {
   "codemirror_mode": {
    "name": "ipython",
    "version": 3
   },
   "file_extension": ".py",
   "mimetype": "text/x-python",
   "name": "python",
   "nbconvert_exporter": "python",
   "pygments_lexer": "ipython3",
   "version": "3.7.2"
  }
 },
 "nbformat": 4,
 "nbformat_minor": 2
}
