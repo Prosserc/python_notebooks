{
 "cells": [
  {
   "cell_type": "code",
   "execution_count": 1,
   "metadata": {},
   "outputs": [],
   "source": [
    "from dsl.dependencies import get_property_model, register_dependencies\n",
    "from uuid import UUID\n",
    "register_dependencies()\n",
    "pm = get_property_model()"
   ]
  },
  {
   "cell_type": "code",
   "execution_count": 14,
   "metadata": {},
   "outputs": [],
   "source": [
    "analysis_internal_name = 'arogcms'\n",
    "\n",
    "props = [\"3MeTAS27S\",\n",
    "\"4MeTAS27S\",\n",
    "\"2MeTAS28S\",\n",
    "\"3MeTAS28S+\",\n",
    "\"4MeTAS28S+\",\n",
    "\"2MeTAS29S\",\n",
    "\"TADino1\",\n",
    "\"3MeTAS29S\",\n",
    "\"TaDino2\",\n",
    "\"4MeTAS29S+\",\n",
    "\"3MeTAS28R\",\n",
    "\"4MeTAS28R\",\n",
    "\"TaDino3\",\n",
    "\"TaDino4\",\n",
    "\"2MeTAS29R\",\n",
    "\"3MeTAS29R\",\n",
    "\"TaDino5\",\n",
    "\"4MeTAS29R\",\n",
    "\"TaDino6\",\n",
    "\"3MeTAS26S\",\n",
    "\"4MeTAS26S\",\n",
    "\"2MeTAS27S\",\n",
    "\"3MeTAS26R+\",\n",
    "\"4MeTAS26R+\",\n",
    "\"2MeTAS28S\",\n",
    "\"TADino1\",\n",
    "\"3MeTAS28S\",\n",
    "\"TaDino2\",\n",
    "\"4MeTAS28S+\",\n",
    "\"3MeTAS27R\",\n",
    "\"4MeTAS27R\",\n",
    "\"TaDino3\",\n",
    "\"TaDino4\",\n",
    "\"2MeTAS28R\",\n",
    "\"3MeTAS28R\",\n",
    "\"TaDino5\",\n",
    "\"4MeTAS28R\",\n",
    "\"TaDino6\"]\n",
    "\n",
    "arom_gcms_prop_guid_by_prop_short_name = {}\n",
    "for prop_conf in pm.properties:\n",
    "    if prop_conf['AnalysisGroup'] == analysis_internal_name:\n",
    "        arom_gcms_prop_guid_by_prop_short_name[prop_conf['ShortName']] = str(UUID(prop_conf['Guid']))"
   ]
  },
  {
   "cell_type": "code",
   "execution_count": 18,
   "metadata": {},
   "outputs": [
    {
     "name": "stdout",
     "output_type": "stream",
     "text": [
      "7e1f90cb-cf93-4e7e-be6e-145e71370cec\t3MeTAS27S\n",
      "a332476b-8f65-448a-83e2-917b473de2b6\t4MeTAS27S\n",
      "d390c6ac-e8c6-4e4a-9a87-ceb5bf0f8d4b\t2MeTAS28S\n",
      "0d7f52c7-257c-47e7-9a96-2bb169756677\t3MeTAS28S+\n",
      "75b7bf16-3d3f-4b76-9dee-e44db7722154\t4MeTAS28S+\n",
      "fc35a39f-154a-4861-8ba0-20999deab63e\t2MeTAS29S\n",
      "4a456d67-76e3-420c-aabd-23906d2656a2\tTADino1\n",
      "29c2fafc-cacb-4877-95c5-433d4598d53f\t3MeTAS29S\n",
      "NOT FOUND!                          \tTaDino2\n",
      "f38603a0-8eee-4158-960a-2d3834ddef92\t4MeTAS29S+\n",
      "f87f3943-8d03-4571-b4e4-a3ca99108b55\t3MeTAS28R\n",
      "46f00fcb-d047-4c0e-86a6-bab63a7b0caa\t4MeTAS28R\n",
      "NOT FOUND!                          \tTaDino3\n",
      "NOT FOUND!                          \tTaDino4\n",
      "4f6a2921-383f-43cc-8444-1207a91c6f3f\t2MeTAS29R\n",
      "819f372d-5841-46d3-9c07-6077b417978e\t3MeTAS29R\n",
      "NOT FOUND!                          \tTaDino5\n",
      "daecd141-41c1-40ba-a7ca-abc1a32d6c4d\t4MeTAS29R\n",
      "NOT FOUND!                          \tTaDino6\n",
      "9a52e260-1c4f-486b-bfd1-ba9f390fb211\t3MeTAS26S\n",
      "1cf1702d-50aa-4b9c-8931-d44aea2c521b\t4MeTAS26S\n",
      "9a8f2443-161b-4127-9f35-07928c9dfe35\t2MeTAS27S\n",
      "77eef65e-00ab-447f-8a9d-e2cfb186b055\t3MeTAS26R+\n",
      "747d5b4b-d345-4c78-8939-5241520edb12\t4MeTAS26R+\n",
      "d390c6ac-e8c6-4e4a-9a87-ceb5bf0f8d4b\t2MeTAS28S\n",
      "4a456d67-76e3-420c-aabd-23906d2656a2\tTADino1\n",
      "dee130a3-6d81-4c44-b98e-820ac55ff9b1\t3MeTAS28S\n",
      "NOT FOUND!                          \tTaDino2\n",
      "75b7bf16-3d3f-4b76-9dee-e44db7722154\t4MeTAS28S+\n",
      "5267cce5-353f-488e-8e2d-a630cefd2c6c\t3MeTAS27R\n",
      "b1583a42-d753-420b-b6d5-0d16dd4369e2\t4MeTAS27R\n",
      "NOT FOUND!                          \tTaDino3\n",
      "NOT FOUND!                          \tTaDino4\n",
      "3d012969-8ddd-437c-9e30-f52b2ff2860f\t2MeTAS28R\n",
      "f87f3943-8d03-4571-b4e4-a3ca99108b55\t3MeTAS28R\n",
      "NOT FOUND!                          \tTaDino5\n",
      "46f00fcb-d047-4c0e-86a6-bab63a7b0caa\t4MeTAS28R\n",
      "NOT FOUND!                          \tTaDino6\n"
     ]
    }
   ],
   "source": [
    "for prop in props:\n",
    "    guid = arom_gcms_prop_guid_by_prop_short_name.get(prop, 'NOT FOUND!' + ' '*26)\n",
    "    print(f\"{guid}\\t{prop}\")"
   ]
  },
  {
   "cell_type": "code",
   "execution_count": null,
   "metadata": {},
   "outputs": [],
   "source": []
  }
 ],
 "metadata": {
  "kernelspec": {
   "display_name": "Python 3",
   "language": "python",
   "name": "python3"
  },
  "language_info": {
   "codemirror_mode": {
    "name": "ipython",
    "version": 3
   },
   "file_extension": ".py",
   "mimetype": "text/x-python",
   "name": "python",
   "nbconvert_exporter": "python",
   "pygments_lexer": "ipython3",
   "version": "3.8.2"
  }
 },
 "nbformat": 4,
 "nbformat_minor": 4
}
