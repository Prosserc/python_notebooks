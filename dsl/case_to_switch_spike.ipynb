{
 "cells": [
  {
   "cell_type": "code",
   "execution_count": 1,
   "metadata": {},
   "outputs": [],
   "source": [
    "# imports etc\n",
    "import sys\n",
    "\n",
    "# project dependencies\n",
    "proj_path = 'd:/code/Projects/property_mapping_sql_generator/'\n",
    "sys.path.insert(0, proj_path)\n",
    "from dsl.engine import *"
   ]
  },
  {
   "cell_type": "markdown",
   "metadata": {},
   "source": [
    "# Simple Example (not nested)"
   ]
  },
  {
   "cell_type": "code",
   "execution_count": 2,
   "metadata": {},
   "outputs": [
    {
     "name": "stdout",
     "output_type": "stream",
     "text": [
      "Switch(expr_val_pairs=[(Equals(expr1=DbColumn(col_name='a.Prep'), expr2='s1'), 'a1'), (Equals(expr1=DbColumn(col_name='a.Prep'), expr2='s2'), 'a2')], default='an')\n"
     ]
    }
   ],
   "source": [
    "# test simple switch (imagine conv from simple case)\n",
    "expected_result = switch([(eq(col('a.Prep'), 's1'), 'a1'), \n",
    "                          (eq(col('a.Prep'), 's2'), 'a2')], default='an')\n",
    "\n",
    "print(expected_result)"
   ]
  },
  {
   "cell_type": "code",
   "execution_count": 3,
   "metadata": {},
   "outputs": [],
   "source": [
    "# converter func that would work with simple unnested case statements \n",
    "#   consider changing LogicBranches for nested e.g. to\n",
    "#   CaseBranch(cols=[Col('Prep', 's1'), Col('Method', 'y')], res='a1-extr'),\n",
    "#   CaseBranch(cols=[Col('Prep', 's1'), Col('Method', None)], res='a1'), ...\n",
    "\n",
    "# don't expect to use .val (assuming sub types are `Select`) in real version - case statement could keep simple string inputs for srch / rc?\n",
    "def conv(case_stmt: Case) -> Switch:\n",
    "    evps: ExpressionValuePairs = []  # List[Tuple[BoolFunc, ValFuncOrStr]]\n",
    "    for st, res in case_stmt.search_result_pairs:\n",
    "        evps.append((Equals(DbColumn(case_stmt.expr.ref_field), st.val), res.val))\n",
    "    return Switch(evps, default=case_stmt.default.val)"
   ]
  },
  {
   "cell_type": "code",
   "execution_count": 4,
   "metadata": {},
   "outputs": [
    {
     "name": "stdout",
     "output_type": "stream",
     "text": [
      "Switch(expr_val_pairs=[(Equals(expr1=DbColumn(col_name='a.Prep'), expr2='s1'), 'a1'), (Equals(expr1=DbColumn(col_name='a.Prep'), expr2='s2'), 'a2')], default='an')\n"
     ]
    }
   ],
   "source": [
    "input_case = case('Prep', [('s1', 'a1'), ('s2', 'a2')], default='an')\n",
    "generated_switch = conv(input_case)\n",
    "print(generated_switch)\n",
    "assert(generated_switch == expected_result)"
   ]
  },
  {
   "cell_type": "markdown",
   "metadata": {},
   "source": [
    "# Nested Example\n",
    "\n",
    "Not implementing converter for now as I think we *may* need to change the `__init__` types in `Case`, but I will include the case statement and expected_switch"
   ]
  },
  {
   "cell_type": "code",
   "execution_count": 5,
   "metadata": {},
   "outputs": [
    {
     "name": "stdout",
     "output_type": "stream",
     "text": [
      "Switch(expr_val_pairs=[(Equals(expr1=DbColumn(col_name='Prep'), expr2='x'), Switch(expr_val_pairs=[(Equals(expr1=DbColumn(col_name='Method'), expr2='y'), 'a1-extr')], default='a1')), (Equals(expr1=DbColumn(col_name='Prep'), expr2='y'), Switch(expr_val_pairs=[(Equals(expr1=DbColumn(col_name='Method'), expr2='y'), 'a2-extr')], default='a2'))], default=Switch(expr_val_pairs=[(Equals(expr1=DbColumn(col_name='Method'), expr2='y'), 'an-extr')], default='an'))\n"
     ]
    }
   ],
   "source": [
    "nested_case = Case('Prep', [('s1', Case('Method', [('y', 'a1-extr')], default='a1')),\n",
    "                            ('s2', Case('Method', [('y', 'a2-extr')], default='a2'))],\n",
    "                   default=Case('Method', [('y', 'an-extr')], default='an'))\n",
    "\n",
    "expected_switch = Switch([(eq(col('Prep'), 'x'), switch([(eq(col('Method'), 'y'), 'a1-extr')], default='a1')),\n",
    "                          (eq(col('Prep'), 'y'), switch([(eq(col('Method'), 'y'), 'a2-extr')], default='a2'))],\n",
    "                         default=switch([(eq(col('Method'), 'y'), 'an-extr')], default='an'))\n",
    "\n",
    "print(expected_switch)"
   ]
  },
  {
   "cell_type": "markdown",
   "metadata": {},
   "source": [
    "### todo:\n",
    "\n",
    "* (DONE) Generate SQL for above, check that this works against test Oracle DB\n",
    "* Converter for nested Case\n",
    "* Integrate with wider system - \n",
    "    * expansion (re-do LogicBranches?)\n",
    "    * conversions"
   ]
  },
  {
   "cell_type": "code",
   "execution_count": 6,
   "metadata": {},
   "outputs": [
    {
     "name": "stdout",
     "output_type": "stream",
     "text": [
      "case when decode(a.Prep, 'x', 1, 0) = 1 then case when decode(a.Method, 'y', 1, 0) = 1 then 'a1-extr' else 'a1' end when decode(a.Prep, 'y', 1, 0) = 1 then case when decode(a.Method, 'y', 1, 0) = 1 then 'a2-extr' else 'a2' end else case when decode(a.Method, 'y', 1, 0) = 1 then 'an-extr' else 'an' end end\n"
     ]
    }
   ],
   "source": [
    "print(expected_switch.generate_sql())"
   ]
  },
  {
   "cell_type": "code",
   "execution_count": null,
   "metadata": {},
   "outputs": [],
   "source": []
  }
 ],
 "metadata": {
  "kernelspec": {
   "display_name": "Python 3",
   "language": "python",
   "name": "python3"
  },
  "language_info": {
   "codemirror_mode": {
    "name": "ipython",
    "version": 3
   },
   "file_extension": ".py",
   "mimetype": "text/x-python",
   "name": "python",
   "nbconvert_exporter": "python",
   "pygments_lexer": "ipython3",
   "version": "3.7.2"
  }
 },
 "nbformat": 4,
 "nbformat_minor": 2
}
