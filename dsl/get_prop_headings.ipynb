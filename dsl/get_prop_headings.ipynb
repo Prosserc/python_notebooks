{
 "cells": [
  {
   "cell_type": "code",
   "execution_count": 1,
   "metadata": {},
   "outputs": [],
   "source": [
    "from dsl.dependencies import get_property_model, register_dependencies\n",
    "from dsl.input.propertymodel.property_guid_header_converter import PropertyGuidToHeaderConverter"
   ]
  },
  {
   "cell_type": "code",
   "execution_count": 2,
   "metadata": {},
   "outputs": [],
   "source": [
    "register_dependencies()\n",
    "pm = get_property_model()\n",
    "conv = PropertyGuidToHeaderConverter(pm)"
   ]
  },
  {
   "cell_type": "code",
   "execution_count": 3,
   "metadata": {},
   "outputs": [],
   "source": [
    "prop_guids = [\n",
    "    'B6DC5C57-872B-44B8-94F5-3FEAD1ACEC3D',\n",
    "    'E60C84E1-C534-40D3-AE42-44C7DA20C2C5',\n",
    "    'B9A71E12-CD77-4082-87AD-138E0F7D4DD2',\n",
    "    '336E1E0A-AC9F-4B99-932B-4CE2FDB044BF',\n",
    "    '10C3E64C-7F6C-4265-BEDC-011D4357B442',\n",
    "    '53B39453-543E-4704-8898-7D34013661CD',\n",
    "    'A32E5C69-8BCB-48E8-ACCB-3AF28AA2AFEC',\n",
    "    '881E68FC-F8A9-4E73-9DCC-9E7EA7476E28',\n",
    "    '0290C3D0-D0C3-41DB-88B8-7A0DE5AB4442',\n",
    "    '72551E9F-5C3A-4ED8-8650-9E7C356812BC',\n",
    "    '62207C55-2D1F-48CC-B85E-0F9FE5680526',\n",
    "    '7D5256DF-1178-4DDB-905F-8D974AD6BBC0',\n",
    "    'B2F070AD-AC4B-44FF-8EC8-4F760A3D1757',\n",
    "    'ED1CFECF-F3C2-4BF7-AC06-F477D18FFFA6',\n",
    "    '564045A4-714B-40D3-BCA4-3A244E64600B',\n",
    "    '2A460A18-EB3E-43FA-B06B-7329F5573ADC',\n",
    "    '416AAD15-0DFD-418D-9AC1-410AECE195BB',\n",
    "    '33CFF759-51B6-4BF5-8056-217FE6B4622B',\n",
    "    'AB728D5B-21FD-47A0-9A64-4E690F0E59BC',\n",
    "    'C007B8BE-D1DE-4B66-BBDB-E2530F123CFA',\n",
    "    '0FB65930-C884-434F-A858-9EEDB6C95B72',\n",
    "    'D31E8DED-4BEF-445A-94CE-08EE99811BC2',\n",
    "    '5FEAC79B-71E4-40DB-9545-3D836AF9E13A',\n",
    "    '8B17B483-8CC7-438C-8789-DE4762E05D02']"
   ]
  },
  {
   "cell_type": "code",
   "execution_count": 4,
   "metadata": {},
   "outputs": [
    {
     "name": "stdout",
     "output_type": "stream",
     "text": [
      "B6DC5C57-872B-44B8-94F5-3FEAD1ACEC3D | Cave2 pop Mean.vr<%>\n",
      "E60C84E1-C534-40D3-AE42-44C7DA20C2C5 | Chitin pop Mean.vr<%>\n",
      "B9A71E12-CD77-4082-87AD-138E0F7D4DD2 | Grapt pop Mean.vr<%>\n",
      "336E1E0A-AC9F-4B99-932B-4CE2FDB044BF | Low refl2 pop Mean.vr<%>\n",
      "10C3E64C-7F6C-4265-BEDC-011D4357B442 | Modal pop Mean.vr<%>\n",
      "53B39453-543E-4704-8898-7D34013661CD | Inert pop Mean.vr<%>\n",
      "A32E5C69-8BCB-48E8-ACCB-3AF28AA2AFEC | Bitum pop Mean.vr<%>\n",
      "881E68FC-F8A9-4E73-9DCC-9E7EA7476E28 | Mesoph pop Mean.vr<%>\n",
      "0290C3D0-D0C3-41DB-88B8-7A0DE5AB4442 | User pop Mean.vr<%>\n",
      "72551E9F-5C3A-4ED8-8650-9E7C356812BC | User2 pop Mean.vr<%>\n",
      "62207C55-2D1F-48CC-B85E-0F9FE5680526 | User3 pop Mean.vr<%>\n",
      "7D5256DF-1178-4DDB-905F-8D974AD6BBC0 | Low refl pop Mean.vr<%>\n",
      "B2F070AD-AC4B-44FF-8EC8-4F760A3D1757 | High refl pop Mean.vr<%>\n",
      "ED1CFECF-F3C2-4BF7-AC06-F477D18FFFA6 | High refl2 pop Mean.vr<%>\n",
      "564045A4-714B-40D3-BCA4-3A244E64600B | High refl3 pop Mean.vr<%>\n",
      "2A460A18-EB3E-43FA-B06B-7329F5573ADC | Indig pop Mean.vr<%>\n",
      "416AAD15-0DFD-418D-9AC1-410AECE195BB | Cave pop Mean.vr<%>\n",
      "33CFF759-51B6-4BF5-8056-217FE6B4622B | Rework pop Mean.vr<%>\n",
      "AB728D5B-21FD-47A0-9A64-4E690F0E59BC | Lipt pop Mean.vr<%>\n",
      "C007B8BE-D1DE-4B66-BBDB-E2530F123CFA | Rework2 pop Mean.vr<%>\n",
      "0FB65930-C884-434F-A858-9EEDB6C95B72 | User4 pop Mean.vr<%>\n",
      "D31E8DED-4BEF-445A-94CE-08EE99811BC2 | User5 pop Mean.vr<%>\n",
      "5FEAC79B-71E4-40DB-9545-3D836AF9E13A | User6 pop Mean.vr<%>\n",
      "8B17B483-8CC7-438C-8789-DE4762E05D02 | Vit pop Mean.vr<%>\n"
     ]
    }
   ],
   "source": [
    "for guid in prop_guids:\n",
    "    print(f\"{guid} | {conv.get_property_headers_by_guid(guid)[0]}\")"
   ]
  }
 ],
 "metadata": {
  "kernelspec": {
   "display_name": "Python 3",
   "language": "python",
   "name": "python3"
  },
  "language_info": {
   "codemirror_mode": {
    "name": "ipython",
    "version": 3
   },
   "file_extension": ".py",
   "mimetype": "text/x-python",
   "name": "python",
   "nbconvert_exporter": "python",
   "pygments_lexer": "ipython3",
   "version": "3.7.2"
  }
 },
 "nbformat": 4,
 "nbformat_minor": 2
}
