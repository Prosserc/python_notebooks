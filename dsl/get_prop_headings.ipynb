{
 "cells": [
  {
   "cell_type": "code",
   "execution_count": 1,
   "metadata": {},
   "outputs": [],
   "source": [
    "from dsl.dependencies import get_property_model, register_dependencies\n",
    "from uuid import UUID"
   ]
  },
  {
   "cell_type": "code",
   "execution_count": 2,
   "metadata": {},
   "outputs": [],
   "source": [
    "register_dependencies()\n",
    "pm = get_property_model()"
   ]
  },
  {
   "cell_type": "code",
   "execution_count": 3,
   "metadata": {},
   "outputs": [],
   "source": [
    "prop_guids = [\n",
    "        \"488bb0cc-db63-47cb-9ed3-fa3c3bfc9e32\",\n",
    "        \"9b68a867-79b5-4bd7-be45-5e54e521d707\",\n",
    "        \"b55943fd-a831-4972-9c5e-b12a86349419\",\n",
    "        \"b00abd7c-ed50-4e72-9790-14dc65a63201\",\n",
    "        \"25cfebd5-a11c-47ac-81d6-2df315cd3fc4\",\n",
    "        \"3b41ddab-cedc-48c9-9f86-841cd817d992\",\n",
    "        \"6373209a-9a41-49d9-ad4b-327ee4c83645\",\n",
    "        \"b98b41f2-a72e-4e1c-bc27-e07f6c6625aa\"]"
   ]
  },
  {
   "cell_type": "code",
   "execution_count": 4,
   "metadata": {},
   "outputs": [
    {
     "name": "stdout",
     "output_type": "stream",
     "text": [
      "488bb0cc-db63-47cb-9ed3-fa3c3bfc9e32 -> Guid.Sample\n",
      "9b68a867-79b5-4bd7-be45-5e54e521d707 -> Name.Sample\n",
      "b55943fd-a831-4972-9c5e-b12a86349419 -> Lat.Sample<°>\n",
      "b00abd7c-ed50-4e72-9790-14dc65a63201 -> Long.Sample<°>\n",
      "25cfebd5-a11c-47ac-81d6-2df315cd3fc4 -> Test#.Sample\n",
      "3b41ddab-cedc-48c9-9f86-841cd817d992 -> Internal#.Sample\n",
      "6373209a-9a41-49d9-ad4b-327ee4c83645 -> Vendor#.Sample\n",
      "b98b41f2-a72e-4e1c-bc27-e07f6c6625aa -> Container#.Sample\n"
     ]
    }
   ],
   "source": [
    "for guid in prop_guids:\n",
    "    res = next(pm.get_property_headers_by_guid(UUID(guid)))\n",
    "    print(f\"{guid} -> {res.format_header()}\")"
   ]
  }
 ],
 "metadata": {
  "kernelspec": {
   "display_name": "Python 3",
   "language": "python",
   "name": "python3"
  },
  "language_info": {
   "codemirror_mode": {
    "name": "ipython",
    "version": 3
   },
   "file_extension": ".py",
   "mimetype": "text/x-python",
   "name": "python",
   "nbconvert_exporter": "python",
   "pygments_lexer": "ipython3",
   "version": "3.7.2"
  }
 },
 "nbformat": 4,
 "nbformat_minor": 2
}
