{
 "cells": [
  {
   "cell_type": "code",
   "execution_count": 1,
   "metadata": {},
   "outputs": [],
   "source": [
    "from dsl.dependencies import get_property_model, register_dependencies\n",
    "from uuid import UUID"
   ]
  },
  {
   "cell_type": "code",
   "execution_count": 2,
   "metadata": {},
   "outputs": [],
   "source": [
    "register_dependencies()\n",
    "pm = get_property_model()"
   ]
  },
  {
   "cell_type": "code",
   "execution_count": 3,
   "metadata": {},
   "outputs": [],
   "source": [
    "all_prop_guids = [\n",
    "    \n",
    "#         \"488bb0cc-db63-47cb-9ed3-fa3c3bfc9e32\",\n",
    "#         \"9b68a867-79b5-4bd7-be45-5e54e521d707\",\n",
    "#         \"b55943fd-a831-4972-9c5e-b12a86349419\",\n",
    "#         \"b00abd7c-ed50-4e72-9790-14dc65a63201\",\n",
    "#         \"25cfebd5-a11c-47ac-81d6-2df315cd3fc4\",\n",
    "#         \"3b41ddab-cedc-48c9-9f86-841cd817d992\",\n",
    "#         \"6373209a-9a41-49d9-ad4b-327ee4c83645\",\n",
    "#         \"b98b41f2-a72e-4e1c-bc27-e07f6c6625aa\"\n",
    "    ## matching and scoring\n",
    "    \n",
    "    # well matching\n",
    "    \"e94b35e2-a5fd-40a6-b9b7-926074445da4\",\n",
    "    \"1ad6bb0f-27fd-4f4d-b926-e23e0c5eef0f\",\n",
    "    \"eecf3b4c-0041-43bb-a2dc-ec2cb4f7920f\",\n",
    "    \"1e3a4f4a-bd2b-4be9-a7b7-aee002d92214\",\n",
    "    \"a171c16d-db7f-4aa2-b846-0c25a10f0985\",\n",
    "    \"0894fce4-a8cf-4a52-9e74-38505acb3019\",\n",
    "    \"dc4fb742-9c79-40f5-ba2c-1aa3ad9f7936\",\n",
    "    # well scoring\n",
    "    \"1ad6bb0f-27fd-4f4d-b926-e23e0c5eef0f\",\n",
    "    \"eecf3b4c-0041-43bb-a2dc-ec2cb4f7920f\",\n",
    "    \"1e3a4f4a-bd2b-4be9-a7b7-aee002d92214\",\n",
    "    \"a171c16d-db7f-4aa2-b846-0c25a10f0985\",\n",
    "    \"dc4fb742-9c79-40f5-ba2c-1aa3ad9f7936\",\n",
    "    \"0894fce4-a8cf-4a52-9e74-38505acb3019\",\n",
    "    \"bc1c7ff9-668e-4f12-8340-6921184623a5\",\n",
    "    # sample matching\n",
    "    \"e94b35e2-a5fd-40a6-b9b7-926074445da4\",\n",
    "    \"488bb0cc-db63-47cb-9ed3-fa3c3bfc9e32\",\n",
    "    \"9b68a867-79b5-4bd7-be45-5e54e521d707\",\n",
    "    \"11d24a66-2030-4fae-b43d-0b7dc1f21fbf\",\n",
    "    \"8824f0c3-7e8f-4b32-8924-2854de6223da\",\n",
    "    \"25cfebd5-a11c-47ac-81d6-2df315cd3fc4\",\n",
    "    \"3b41ddab-cedc-48c9-9f86-841cd817d992\",\n",
    "    \"6373209a-9a41-49d9-ad4b-327ee4c83645\",\n",
    "    \"b98b41f2-a72e-4e1c-bc27-e07f6c6625aa\",\n",
    "    # sample scoring\n",
    "    \"9b68a867-79b5-4bd7-be45-5e54e521d707\",\n",
    "    \"3b41ddab-cedc-48c9-9f86-841cd817d992\",\n",
    "    \"6373209a-9a41-49d9-ad4b-327ee4c83645\",\n",
    "    \"25cfebd5-a11c-47ac-81d6-2df315cd3fc4\",\n",
    "    \"11d24a66-2030-4fae-b43d-0b7dc1f21fbf\",\n",
    "    \"8824f0c3-7e8f-4b32-8924-2854de6223da\",\n",
    "    \"25054846-06f9-42dc-bff0-28b022c7a6c1\",\n",
    "    \"a8a1c498-761a-47f8-b022-f5db48af5989\",\n",
    "    \"ffa7ce7d-3043-4485-951a-ef402155af01\",\n",
    "    \"7355761d-52b2-4123-a2d4-9d5536917e01\",\n",
    "    \"059f28ae-a023-4af3-9821-0f9eda3729fb\",\n",
    "    \"0be745e8-e7f7-4f92-aad0-e8127b828cc7\",\n",
    "    \"8902d13a-0678-4b59-a73b-d81f9ef9eccc\",\n",
    "    # outcrop matching\n",
    "    \"488bb0cc-db63-47cb-9ed3-fa3c3bfc9e32\",\n",
    "    \"9b68a867-79b5-4bd7-be45-5e54e521d707\",\n",
    "    \"b55943fd-a831-4972-9c5e-b12a86349419\",\n",
    "    \"b00abd7c-ed50-4e72-9790-14dc65a63201\",\n",
    "    \"25cfebd5-a11c-47ac-81d6-2df315cd3fc4\",\n",
    "    \"3b41ddab-cedc-48c9-9f86-841cd817d992\",\n",
    "    \"6373209a-9a41-49d9-ad4b-327ee4c83645\",\n",
    "    \"b98b41f2-a72e-4e1c-bc27-e07f6c6625aa\",\n",
    "    # outcrop scoring\n",
    "    \"9b68a867-79b5-4bd7-be45-5e54e521d707\",\n",
    "    \"3b41ddab-cedc-48c9-9f86-841cd817d992\",\n",
    "    \"6373209a-9a41-49d9-ad4b-327ee4c83645\",\n",
    "    \"25cfebd5-a11c-47ac-81d6-2df315cd3fc4\",\n",
    "    \"b55943fd-a831-4972-9c5e-b12a86349419\",\n",
    "    \"b00abd7c-ed50-4e72-9790-14dc65a63201\",\n",
    "    \"1b30393f-2ce4-4e35-8b36-faf9ddfc5465\",\n",
    "    \"f4f67d23-16b1-4f58-a7ca-4afb281e0e34\",\n",
    "    \"25054846-06f9-42dc-bff0-28b022c7a6c1\",\n",
    "    \"a8a1c498-761a-47f8-b022-f5db48af5989\",\n",
    "    \"ffa7ce7d-3043-4485-951a-ef402155af01\",\n",
    "    \"7355761d-52b2-4123-a2d4-9d5536917e01\",\n",
    "    \"059f28ae-a023-4af3-9821-0f9eda3729fb\",\n",
    "    \"0be745e8-e7f7-4f92-aad0-e8127b828cc7\",\n",
    "    \"8902d13a-0678-4b59-a73b-d81f9ef9eccc\",\n",
    "    \"962a1c3a-8af4-484f-a6e5-d252ac72ae30\",\n",
    "    \"fea51b24-c754-483b-81ba-e02a0ec9e5ae\"\n",
    "]\n",
    "\n",
    "seen = set()\n",
    "prop_guids = [g for g in all_prop_guids if not (g in seen or seen.add(g))]"
   ]
  },
  {
   "cell_type": "code",
   "execution_count": 12,
   "metadata": {},
   "outputs": [
    {
     "name": "stdout",
     "output_type": "stream",
     "text": [
      "\"Guid.Well\",\"Well Name.Well\",\"Lat.Well<°>\",\"Long.Well<°>\",\"UWI.Well\",\"Internal#.Well\",\"IHS ID.Well\",\"Country.Well\",\"Guid.Sample\",\"Name.Sample\",\"Base MD.Sample<m>\",\"Top MD.Sample<m>\",\"Test#.Sample\",\"Internal#.Sample\",\"Vendor#.Sample\",\"Container#.Sample\",\"Category.Sample\",\"Rock type.Sample\",\"Liquid type.Sample\",\"Gas type.Gas\",\"Type.Sample\",\"Lith.Geol\",\"Repeat.Sample\",\"Lat.Sample<°>\",\"Long.Sample<°>\",\"Origin.Sample\",\"Country.Sample\",\"Field.Sample\",\"Location.Sample\"\n"
     ]
    }
   ],
   "source": [
    "# for guid in prop_guids:\n",
    "#     res = next(pm.get_property_headers_by_guid(UUID(guid)))\n",
    "#     #print(res)  # header elements\n",
    "#     #print(f\"{guid} -> {res.format_header()}\")\n",
    "#     print(res.format_header())  \n",
    "print(\",\".join(['\"' + next(pm.get_property_headers_by_guid(UUID(g))).format_header() + '\"' for g in prop_guids]))"
   ]
  },
  {
   "cell_type": "code",
   "execution_count": null,
   "metadata": {},
   "outputs": [],
   "source": []
  }
 ],
 "metadata": {
  "kernelspec": {
   "display_name": "Python 3",
   "language": "python",
   "name": "python3"
  },
  "language_info": {
   "codemirror_mode": {
    "name": "ipython",
    "version": 3
   },
   "file_extension": ".py",
   "mimetype": "text/x-python",
   "name": "python",
   "nbconvert_exporter": "python",
   "pygments_lexer": "ipython3",
   "version": "3.8.2"
  }
 },
 "nbformat": 4,
 "nbformat_minor": 2
}
