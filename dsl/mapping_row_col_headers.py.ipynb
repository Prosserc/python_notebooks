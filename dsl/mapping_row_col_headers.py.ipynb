{
 "cells": [
  {
   "cell_type": "code",
   "execution_count": 6,
   "metadata": {},
   "outputs": [],
   "source": [
    "from dsl.engine import *\n",
    "from dsl.dependencies import register_dependencies\n",
    "register_dependencies()\n",
    "\n",
    "a = Analysis(Case('ref', [('x', 'a1')], default='an'))\n",
    "p = Property(Case('ref', [('x', 'p1')], default='pn'))"
   ]
  },
  {
   "cell_type": "code",
   "execution_count": 7,
   "metadata": {},
   "outputs": [],
   "source": [
    "mr = MappingRow(\"test\", p, a)"
   ]
  },
  {
   "cell_type": "code",
   "execution_count": 13,
   "metadata": {},
   "outputs": [
    {
     "name": "stdout",
     "output_type": "stream",
     "text": [
      "ValidatedHeaderElements(header_elements=HeaderElements(prop='pn', anal='an', uom='unable to identify correct uom', ind='na', ratio='unable to identify correct ratio'), validity=<Validity.ERROR: 3>)\n",
      "ValidatedHeaderElements(header_elements=HeaderElements(prop='p1', anal='a1', uom='unable to identify correct uom', ind='na', ratio='unable to identify correct ratio'), validity=<Validity.ERROR: 3>)\n"
     ]
    }
   ],
   "source": [
    "for col in mr.expand_cols():\n",
    "    print(col)"
   ]
  },
  {
   "cell_type": "code",
   "execution_count": 15,
   "metadata": {},
   "outputs": [
    {
     "name": "stdout",
     "output_type": "stream",
     "text": [
      "pn.an\n",
      "p1.a1\n"
     ]
    }
   ],
   "source": [
    "for col in mr.expand_cols():\n",
    "    header_str = mr.format_header(col.header_elements)\n",
    "    print(header_str)"
   ]
  },
  {
   "cell_type": "code",
   "execution_count": null,
   "metadata": {},
   "outputs": [],
   "source": []
  }
 ],
 "metadata": {
  "kernelspec": {
   "display_name": "Python 3",
   "language": "python",
   "name": "python3"
  },
  "language_info": {
   "codemirror_mode": {
    "name": "ipython",
    "version": 3
   },
   "file_extension": ".py",
   "mimetype": "text/x-python",
   "name": "python",
   "nbconvert_exporter": "python",
   "pygments_lexer": "ipython3",
   "version": "3.7.2"
  }
 },
 "nbformat": 4,
 "nbformat_minor": 2
}
