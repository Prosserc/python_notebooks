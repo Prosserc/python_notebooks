{
 "cells": [
  {
   "cell_type": "code",
   "execution_count": 1,
   "metadata": {},
   "outputs": [],
   "source": [
    "from dsl.dependencies import get_property_model, register_dependencies\n",
    "from dsl.input.propertymodel.property_model import get_indicator_short_name\n",
    "from uuid import UUID\n",
    "from dataclasses import dataclass, field\n",
    "from enum import Enum\n",
    "import os, getpass, datetime\n",
    "\n",
    "register_dependencies()\n",
    "pm = get_property_model()"
   ]
  },
  {
   "cell_type": "code",
   "execution_count": 2,
   "metadata": {},
   "outputs": [],
   "source": [
    "class Indicator(Enum):\n",
    "    \"\"\"I have just mapped index to internal name here (used in properties.json)\"\"\"\n",
    "    vol = 0\n",
    "    mol = 1\n",
    "    mass = 2\n",
    "    h = 3\n",
    "    a = 4\n",
    "    ch = 5\n",
    "    ca = 6\n",
    "    u = 7\n",
    "    na = 8\n",
    "    \n",
    "    \n",
    "no_uom = UUID('1fd954cb-2c56-4174-8682-60469b2b14c1')\n",
    "\n",
    "\n",
    "def ind_from_short_name(short_name: str):\n",
    "    if short_name == '':\n",
    "        return Indicator.na\n",
    "    if short_name == 'un':\n",
    "        return Indicator.u\n",
    "    return Indicator[short_name]\n",
    "\n",
    "\n",
    "@dataclass\n",
    "class Link:\n",
    "    file_prop: str\n",
    "    prop_guid: UUID\n",
    "    uom_guid: UUID = field(default=no_uom)\n",
    "    indicator: Indicator = field(default=Indicator.na)\n",
    "    ratio: str = field(default_factory=lambda: 'NoRatio')\n",
    "    is_included: bool = field(default=True)\n",
    "        \n",
    "    def __str__(self):\n",
    "        return f'''\n",
    "    {{\n",
    "        \"FileProperty\": \"{self.file_prop}\",\n",
    "        \"PropertyGuid\": \"{str(self.prop_guid)}\",\n",
    "        \"UomGuid\": \"{str(self.uom_guid)}\",\n",
    "        \"Indicator\": {self.indicator.value},\n",
    "        \"RatioFormat\": \"{self.ratio}\",\n",
    "        \"IsIncluded\": {\"true\" if self.is_included else \"false\"}\n",
    "    }}'''"
   ]
  },
  {
   "cell_type": "code",
   "execution_count": 3,
   "metadata": {},
   "outputs": [],
   "source": [
    "random_prop = UUID(\"9b68a867-79b5-4bd7-be45-5e54e521d707\")  # doesn't matter which we use for excl links, but it seems to need one\n",
    "all_links = [  # starting with excl cols\n",
    "    Link('SITE_TYPE', random_prop, is_included=False),\n",
    "    Link('RULE_ID', random_prop, is_included=False),\n",
    "    Link('REASON_EXCLUDED', random_prop, is_included=False),\n",
    "    Link('SITE_UID', random_prop, is_included=False),\n",
    "    Link('SAMPLE_UID', random_prop, is_included=False)\n",
    "]\n",
    "\n",
    "# iterate property model\n",
    "for prop in pm.properties:\n",
    "    if prop['IsInternalProperty'] == 'true' or prop['AnalysisGroup'] == 'any':\n",
    "        continue\n",
    "        \n",
    "    prop_guid = UUID(prop['Guid'])\n",
    "    headers = pm.get_property_headers_by_guid(prop_guid)\n",
    "    \n",
    "    try:\n",
    "        for header in (h for h in headers if h.ind != 'any'):  # one for each ind\n",
    "            ind = ind_from_short_name(header.ind)\n",
    "            metadata = next(m for m in prop['PropertyMetadata']\n",
    "                            if m['PropertyIndicator'] != 'any'\n",
    "                            and Indicator[m['PropertyIndicator']] == ind)\n",
    "            uom_guid = UUID(metadata['DefaultUom']) if metadata['DefaultUom'] else no_uom\n",
    "\n",
    "            all_links.append(Link(file_prop=header.format_header(),\n",
    "                                  prop_guid=prop_guid,\n",
    "                                  uom_guid=uom_guid,\n",
    "                                  indicator=ind,\n",
    "                                  ratio=header.ratio))\n",
    "    except:\n",
    "        raise Exception(f'Failed to load property:\\n{prop}')"
   ]
  },
  {
   "cell_type": "code",
   "execution_count": 5,
   "metadata": {},
   "outputs": [
    {
     "name": "stdout",
     "output_type": "stream",
     "text": [
      "File with 23613 links written to: C:\\Users\\chris prosser\\documents\\all_props.pigi_lnk\n"
     ]
    }
   ],
   "source": [
    "\n",
    "output_path = os.path.join(os.getenv('userprofile'), 'documents', 'all_props.pigi_lnk')\n",
    "now_str = datetime.datetime.now().strftime(\"%Y-%m-%dT%H:%M:%S.%f+0000\")\n",
    "\n",
    "prefix = '''{\n",
    "  \"ProjectProperties\": [],\n",
    "  \"PropertyLinks\": [\n",
    "'''\n",
    "suffix = f'''\n",
    "  ],\n",
    "  \"CreationAuthor\": \"{getpass.getuser()}\",\n",
    "  \"CreationDate\": \"{now_str}\",\n",
    "  \"LastEditAuthor\": \"{getpass.getuser()}\",\n",
    "  \"LastEditDate\": \"{now_str}\",\n",
    "  \"Comments\": \"All properties (expanded by prop, analysis, ind) with default units and ratios as of time of producing. Plus a few excl columns at the start.\",\n",
    "  \"NumberOfTemplateProperties\": {len(all_links)},\n",
    "  \"version\": \"1.1.1.0\"\n",
    "}}'''\n",
    "\n",
    "with open(output_path, 'w', encoding='utf-8') as f:\n",
    "    f.write(prefix)\n",
    "    f.write(\",\".join((str(link) for link in all_links)))\n",
    "    f.write(suffix)\n",
    "    \n",
    "print(f\"File with {len(all_links)} links written to: {output_path}\")"
   ]
  },
  {
   "cell_type": "code",
   "execution_count": null,
   "metadata": {},
   "outputs": [],
   "source": []
  }
 ],
 "metadata": {
  "kernelspec": {
   "display_name": "Python 3",
   "language": "python",
   "name": "python3"
  },
  "language_info": {
   "codemirror_mode": {
    "name": "ipython",
    "version": 3
   },
   "file_extension": ".py",
   "mimetype": "text/x-python",
   "name": "python",
   "nbconvert_exporter": "python",
   "pygments_lexer": "ipython3",
   "version": "3.7.2"
  }
 },
 "nbformat": 4,
 "nbformat_minor": 2
}
