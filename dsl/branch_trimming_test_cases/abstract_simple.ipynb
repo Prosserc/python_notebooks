{
 "cells": [
  {
   "cell_type": "code",
   "execution_count": 1,
   "metadata": {},
   "outputs": [],
   "source": [
    "USE_MOCK_PROPERTY_MODEL = True"
   ]
  },
  {
   "cell_type": "code",
   "execution_count": 2,
   "metadata": {},
   "outputs": [],
   "source": [
    "import sys\n",
    "from pprint import pprint\n",
    "\n",
    "# project dependencies\n",
    "proj_path = 'd:/code/Projects/property_mapping_sql_generator/'\n",
    "sys.path.insert(0, proj_path)\n",
    "from dsl.engine import *"
   ]
  },
  {
   "cell_type": "code",
   "execution_count": 3,
   "metadata": {},
   "outputs": [
    {
     "name": "stdout",
     "output_type": "stream",
     "text": [
      "Property logic branches:\n",
      "[LogicBranch(result='p1', search_expr='x', ref='a.ref'),\n",
      " LogicBranch(result='p2', search_expr='y', ref='a.ref'),\n",
      " LogicBranch(result='pN', search_expr=None, ref='a.ref')]\n",
      "\n",
      "Analysis logic branches:\n",
      "[LogicBranch(result='a1', search_expr='x', ref='a.ref'),\n",
      " LogicBranch(result='a2', search_expr='y', ref='a.ref'),\n",
      " LogicBranch(result='aN', search_expr=None, ref='a.ref')]\n",
      "\n",
      "Uom logic branches:\n",
      "[LogicBranch(result='u1', search_expr='x', ref='a.ref'),\n",
      " LogicBranch(result='u2', search_expr='y', ref='a.ref'),\n",
      " LogicBranch(result='uN', search_expr=None, ref='a.ref')]\n"
     ]
    }
   ],
   "source": [
    "# simple case where every non inline mapping is for the same ref col\n",
    "# and search values are uniform between case statements\n",
    "p = Property(Case('ref', [('x', 'p1'), ('y', 'p2')], default='pN'))\n",
    "a = Analysis(Case('ref', [('x', 'a1'), ('y', 'a2')], default='aN'))\n",
    "i = NoIndicator()\n",
    "u = Uom(Case('ref', [('x', 'u1'), ('y', 'u2')], default='uN'))\n",
    "r = NoRatio()\n",
    "\n",
    "print(f\"Property logic branches:\")\n",
    "pprint(list(p.get_branches()))\n",
    "\n",
    "print(f\"\\nAnalysis logic branches:\")\n",
    "pprint(list(a.get_branches()))\n",
    "\n",
    "print(f\"\\nUom logic branches:\")\n",
    "pprint(list(u.get_branches()))"
   ]
  },
  {
   "cell_type": "code",
   "execution_count": 4,
   "metadata": {},
   "outputs": [],
   "source": [
    "expander = MappingExpander(p, a, i, u, r)\n",
    "\n",
    "# need to register the property model (or a mock for this to work)\n",
    "if USE_MOCK_PROPERTY_MODEL:\n",
    "    from tests.dependency_setup import register_test_dependencies\n",
    "    register_test_dependencies()\n",
    "else:\n",
    "    dependencies.register_dependencies()\n",
    "    \n",
    "# need to initialise this after the property model is loaded in above\n",
    "row = MappingRow(name=\"No name\", prop=p, anal=a, uom=u, ind=i, ratio=r)"
   ]
  },
  {
   "cell_type": "code",
   "execution_count": 5,
   "metadata": {},
   "outputs": [
    {
     "name": "stdout",
     "output_type": "stream",
     "text": [
      "The analysis, property and indicator have been expanded to the headings:\n",
      "p1.a1<unable to identify correct uom>\n",
      "p2.a2<unable to identify correct uom>\n",
      "pN.aN<unable to identify correct uom>\n"
     ]
    }
   ],
   "source": [
    "# measurement descriptor (analysis, property, indicator)\n",
    "mds_expanded = list(expander.expand_mappings(use_default_value_descriptors=True))\n",
    "\n",
    "print(\"The analysis, property and indicator have been expanded to the headings:\")\n",
    "for header_elements in sorted(mds_expanded):\n",
    "    print(row.format_header(header_elements))\n",
    "\n",
    "# uom/ratio will show as unable to id as these are not real properties \n",
    "# so do not exist in the property model - not exanding on uom/ratio \n",
    "# requires us to be able to get the defaults from the prop model"
   ]
  },
  {
   "cell_type": "code",
   "execution_count": 6,
   "metadata": {},
   "outputs": [
    {
     "name": "stdout",
     "output_type": "stream",
     "text": [
      "Expect 3 results because there is 1 ref col with 3 branches with unique search terms (incl default)\n",
      "\n",
      "The anal, prop, ind, uom & ratio have been expanded to the headings:\n",
      "----------------------------------------------------------------------\n",
      "p1.a1<u1>\n",
      "p2.a2<u2>\n",
      "pN.aN<uN>\n"
     ]
    }
   ],
   "source": [
    "all_expanded = list(expander.expand_mappings(use_default_value_descriptors=False))\n",
    "\n",
    "print(\"Expect 3 results because there is 1 ref col with 3 branches with unique search terms (incl default)\")\n",
    "\n",
    "print(\"\\nThe anal, prop, ind, uom & ratio have been expanded to the headings:\")\n",
    "print(\"-\" * 70)\n",
    "for header_elements in sorted(all_expanded):\n",
    "    print(row.format_header(header_elements))"
   ]
  },
  {
   "cell_type": "code",
   "execution_count": 7,
   "metadata": {},
   "outputs": [
    {
     "data": {
      "text/plain": [
       "[HeaderElements(prop='p1', anal='a1', uom='u1', ind='na', ratio='NoRatio'),\n",
       " HeaderElements(prop='p2', anal='a2', uom='u2', ind='na', ratio='NoRatio'),\n",
       " HeaderElements(prop='pN', anal='aN', uom='uN', ind='na', ratio='NoRatio')]"
      ]
     },
     "metadata": {},
     "output_type": "display_data"
    }
   ],
   "source": [
    "display(sorted(all_expanded))"
   ]
  },
  {
   "cell_type": "code",
   "execution_count": null,
   "metadata": {},
   "outputs": [],
   "source": []
  }
 ],
 "metadata": {
  "kernelspec": {
   "display_name": "Python 3",
   "language": "python",
   "name": "python3"
  },
  "language_info": {
   "codemirror_mode": {
    "name": "ipython",
    "version": 3
   },
   "file_extension": ".py",
   "mimetype": "text/x-python",
   "name": "python",
   "nbconvert_exporter": "python",
   "pygments_lexer": "ipython3",
   "version": "3.7.2"
  }
 },
 "nbformat": 4,
 "nbformat_minor": 2
}
