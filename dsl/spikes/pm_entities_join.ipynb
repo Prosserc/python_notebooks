{
 "cells": [
  {
   "cell_type": "code",
   "execution_count": 1,
   "id": "bb96498e",
   "metadata": {},
   "outputs": [],
   "source": [
    "import os\n",
    "pm_path = os.path.join(os.getenv('appdata'), 'PigiPlus', 'PropertyModel.json')"
   ]
  },
  {
   "cell_type": "code",
   "execution_count": 2,
   "id": "e9b2cf22",
   "metadata": {},
   "outputs": [],
   "source": [
    "# load pm config json into big dictionary\n",
    "\n",
    "import json\n",
    "with open(pm_path, 'r', encoding='utf-8') as f:\n",
    "    pm_entities = json.load(f)"
   ]
  },
  {
   "cell_type": "code",
   "execution_count": 3,
   "id": "3c1a49e8",
   "metadata": {},
   "outputs": [
    {
     "name": "stdout",
     "output_type": "stream",
     "text": [
      " 3128 Properties\n",
      "   79 PropertyGroups\n",
      "  101 PropertyGroupAliases\n",
      " 9147 PropertyGroupProperties\n",
      "56321 PropertyGroupPropertyAliases\n",
      "14650 Equations\n",
      "    3 IndicatorGroups\n",
      "   12 Indicators\n",
      "    2 RatioGroups\n",
      "    5 Ratios\n",
      "   36 UnitOfMeasureGroups\n",
      "  134 UnitsOfMeasure\n",
      "  462 UnitOfMeasureAliases\n",
      "34727 MeasurementContexts\n",
      "   59 Codelists\n",
      " 2317 CodelistEntries\n",
      "  371 CodelistEntryAliases\n"
     ]
    }
   ],
   "source": [
    "# check it worked\n",
    "\n",
    "for name, entities in pm_entities.items():\n",
    "    print(f'{len(entities):>5} {name}')"
   ]
  },
  {
   "cell_type": "code",
   "execution_count": 4,
   "id": "210cb105",
   "metadata": {},
   "outputs": [],
   "source": [
    "# class definitions for types we want to build\n",
    "from dataclasses import dataclass\n",
    "from uuid import UUID\n",
    "from typing import List, Optional\n",
    "\n",
    "@dataclass(frozen=True)\n",
    "class ConversionParameters:\n",
    "    a: float\n",
    "    b: float\n",
    "    c: float\n",
    "    d: float\n",
    "\n",
    "@dataclass(frozen=True)\n",
    "class Uom:\n",
    "    group: str\n",
    "    name: str\n",
    "    symbol: str\n",
    "    guid: UUID  # keeping guid as symbols are not unique\n",
    "    is_base: bool\n",
    "    conv_params: List[ConversionParameters]\n",
    "        \n",
    "@dataclass(frozen=True)\n",
    "class Ratio:\n",
    "    symbol: str\n",
    "    conv_params: List[ConversionParameters]\n",
    "\n",
    "@dataclass(frozen=True)\n",
    "class PropertyMetadata:\n",
    "    indicator: str\n",
    "    default_uom: Uom\n",
    "    default_ratio: Ratio\n",
    "    abs_min: Optional[float]\n",
    "    abs_max: Optional[float]\n",
    "\n",
    "@dataclass(frozen=True)\n",
    "class Property:\n",
    "    analysis_short_name: str\n",
    "    short_name: str\n",
    "    internal_name: str\n",
    "    full_name: str\n",
    "    guid: UUID\n",
    "    data_type: str\n",
    "    # Todo incl alaises? desc?, ion_channel?\n",
    "    position: float\n",
    "    metadata: List[PropertyMetadata]"
   ]
  },
  {
   "cell_type": "code",
   "execution_count": 5,
   "id": "876849f2",
   "metadata": {},
   "outputs": [],
   "source": [
    "# load uoms\n",
    "\n",
    "from typing import Dict\n",
    "\n",
    "guid_to_uom_grp_name: Dict[str, str] = {}\n",
    "for g in pm_entities[\"UnitOfMeasureGroups\"]:\n",
    "    guid_to_uom_grp_name[g[\"UnitOfMeasureGroupId\"]] = g[\"Name\"]\n",
    "\n",
    "guid_to_uom: Dict[str, Uom] = {}\n",
    "for u in pm_entities[\"UnitsOfMeasure\"]:\n",
    "    p = u[\"ConversionParameters\"]\n",
    "    params = ConversionParameters(p[\"A\"], p[\"B\"], p[\"C\"], p[\"D\"])\n",
    "    uom = Uom(\n",
    "        group = guid_to_uom_grp_name[u[\"UnitOfMeasureGroupId\"]],\n",
    "        name = u[\"LongName\"],\n",
    "        symbol = u[\"Symbol\"],\n",
    "        guid = UUID(u[\"UnitOfMeasureId\"]),\n",
    "        is_base = u[\"IsBase\"],\n",
    "        conv_params = params)\n",
    "    guid_to_uom[u[\"UnitOfMeasureId\"]] = uom"
   ]
  },
  {
   "cell_type": "code",
   "execution_count": 6,
   "id": "c880ad95",
   "metadata": {},
   "outputs": [],
   "source": [
    "# load ratios\n",
    "\n",
    "guid_to_ratio: Dict[str, str] = {}\n",
    "for r in pm_entities[\"Ratios\"]:\n",
    "    p = r[\"ConversionParameters\"]\n",
    "    params = ConversionParameters(p[\"A\"], p[\"B\"], p[\"C\"], p[\"D\"])\n",
    "    ratio = Ratio(r[\"Symbol\"], params)\n",
    "    guid_to_ratio[r[\"RatioId\"]] = ratio  "
   ]
  },
  {
   "cell_type": "code",
   "execution_count": 7,
   "id": "afc372eb",
   "metadata": {},
   "outputs": [],
   "source": [
    "# todo - can't find mappings from GUID yet\n",
    "#guid_to_data_type: Dict[str, str] = {   # Hard coding as they don't seem to be in the json\n",
    "  \n",
    "#}"
   ]
  },
  {
   "cell_type": "code",
   "execution_count": 8,
   "id": "fcc7eb03",
   "metadata": {},
   "outputs": [],
   "source": [
    "# load properties\n",
    "\n",
    "from collections import defaultdict, namedtuple\n",
    "    \n",
    "guid_to_ind: Dict[str, str] = {}\n",
    "for i in pm_entities[\"Indicators\"]:\n",
    "    guid_to_ind[i[\"IndicatorId\"]] = i[\"ShortName\"]\n",
    "\n",
    "pgp_guid_to_metadatas: Dict[str, PropertyMetadata] = defaultdict(list)\n",
    "for mc in pm_entities[\"MeasurementContexts\"]:\n",
    "    metadata = PropertyMetadata(\n",
    "        indicator = guid_to_ind[mc[\"IndicatorId\"]],\n",
    "        default_uom = guid_to_uom[mc[\"DefaultValueDescriptorUnitOfMeasureId\"]],\n",
    "        default_ratio = guid_to_ratio[mc[\"DefaultValueDescriptorRatioId\"]],\n",
    "        abs_min = mc[\"AbsoluteMin\"],\n",
    "        abs_max = mc[\"AbsoluteMax\"])\n",
    "    pgp_guid = mc[\"PropertyGroupPropertyId\"]\n",
    "    pgp_guid_to_metadatas[pgp_guid].append(metadata)\n",
    "\n",
    "pg_short_name_by_guid: Dict[str, str] = {}\n",
    "for pg in pm_entities[\"PropertyGroups\"]:\n",
    "    pg_short_name_by_guid[pg[\"PropertyGroupId\"]] = pg[\"ShortName\"]\n",
    "    \n",
    "PropConfig = namedtuple('PropConfig', 'name long_name internal_name data_type_guid')\n",
    "guid_to_prop_config: Dict[str, PropConfig] = {}\n",
    "for p in pm_entities[\"Properties\"]:\n",
    "    config = PropConfig(p[\"ShortName\"], p[\"LongName\"], p[\"IgiCode\"], p[\"DataTypeId\"])\n",
    "    guid_to_prop_config[p[\"PropertyId\"]] = config\n",
    "\n",
    "properties: List[Property] = []\n",
    "for p in pm_entities[\"PropertyGroupProperties\"]:\n",
    "    prop_config = guid_to_prop_config[p[\"PropertyId\"]]\n",
    "    prop = Property(\n",
    "        analysis_short_name = pg_short_name_by_guid[p[\"PropertyGroupId\"]],\n",
    "        short_name = prop_config.name,\n",
    "        internal_name = prop_config.internal_name,\n",
    "        full_name = prop_config.long_name,\n",
    "        guid = UUID(p[\"PropertyGroupPropertyId\"]),\n",
    "        data_type = prop_config.data_type_guid,  # TODO: replace with mapping from guid\n",
    "        position = p[\"PositionInPropertyGroup\"],\n",
    "        metadata = pgp_guid_to_metadatas[p[\"PropertyGroupPropertyId\"]])\n",
    "    properties.append(prop)"
   ]
  },
  {
   "cell_type": "code",
   "execution_count": 9,
   "id": "831f99dd",
   "metadata": {},
   "outputs": [
    {
     "data": {
      "text/plain": [
       "9147"
      ]
     },
     "execution_count": 9,
     "metadata": {},
     "output_type": "execute_result"
    }
   ],
   "source": [
    "len(properties)"
   ]
  },
  {
   "cell_type": "code",
   "execution_count": 10,
   "id": "5ebd9647",
   "metadata": {},
   "outputs": [
    {
     "data": {
      "text/plain": [
       "9147"
      ]
     },
     "execution_count": 10,
     "metadata": {},
     "output_type": "execute_result"
    }
   ],
   "source": [
    "len(pm_entities[\"PropertyGroupProperties\"])"
   ]
  },
  {
   "cell_type": "code",
   "execution_count": 11,
   "id": "d47b1ab0",
   "metadata": {},
   "outputs": [
    {
     "data": {
      "text/plain": [
       "Property(analysis_short_name='WO-GC', short_name='nC20', internal_name='nC20', full_name='n-Eicosane', guid=UUID('07cd6737-01f5-4d74-9d0a-00b2115efa2d'), data_type='c0305e1d-c8a1-4767-8b7f-f5363bb1dbe2', position=134, metadata=[PropertyMetadata(indicator='h', default_uom=Uom(group='Unitless GC', name='Count', symbol='count', guid=UUID('58f35f5e-dfd8-4797-aab9-6698bf612bf5'), is_base=True, conv_params=ConversionParameters(a=1.0, b=0.0, c=0.0, d=1.0)), default_ratio=Ratio(symbol='NoRatio', conv_params=ConversionParameters(a=1.0, b=0.0, c=0.0, d=1.0)), abs_min=None, abs_max=None), PropertyMetadata(indicator='a', default_uom=Uom(group='Unitless GC', name='Count', symbol='count', guid=UUID('58f35f5e-dfd8-4797-aab9-6698bf612bf5'), is_base=True, conv_params=ConversionParameters(a=1.0, b=0.0, c=0.0, d=1.0)), default_ratio=Ratio(symbol='NoRatio', conv_params=ConversionParameters(a=1.0, b=0.0, c=0.0, d=1.0)), abs_min=None, abs_max=None), PropertyMetadata(indicator='ch', default_uom=Uom(group='Mass ratio', name='micrograms per gram (ppm)', symbol='ppm (µg/g)', guid=UUID('5ab10081-900d-4f53-9ac9-2ed086037808'), is_base=False, conv_params=ConversionParameters(a=1000000.0, b=0.0, c=0.0, d=1.0)), default_ratio=Ratio(symbol='NoRatio', conv_params=ConversionParameters(a=1.0, b=0.0, c=0.0, d=1.0)), abs_min=None, abs_max=None), PropertyMetadata(indicator='ca', default_uom=Uom(group='Mass ratio', name='micrograms per gram (ppm)', symbol='ppm (µg/g)', guid=UUID('5ab10081-900d-4f53-9ac9-2ed086037808'), is_base=False, conv_params=ConversionParameters(a=1000000.0, b=0.0, c=0.0, d=1.0)), default_ratio=Ratio(symbol='NoRatio', conv_params=ConversionParameters(a=1.0, b=0.0, c=0.0, d=1.0)), abs_min=None, abs_max=None), PropertyMetadata(indicator='un', default_uom=Uom(group='Unknown', name='Unknown', symbol='unknown', guid=UUID('9a7c0e1e-2ae0-45e3-bd5f-8aca3eb71748'), is_base=True, conv_params=ConversionParameters(a=1.0, b=0.0, c=0.0, d=1.0)), default_ratio=Ratio(symbol='NoRatio', conv_params=ConversionParameters(a=1.0, b=0.0, c=0.0, d=1.0)), abs_min=None, abs_max=None)])"
      ]
     },
     "execution_count": 11,
     "metadata": {},
     "output_type": "execute_result"
    }
   ],
   "source": [
    "properties[0]"
   ]
  },
  {
   "cell_type": "code",
   "execution_count": null,
   "id": "fb54fac9",
   "metadata": {},
   "outputs": [],
   "source": []
  }
 ],
 "metadata": {
  "kernelspec": {
   "display_name": "Python 3",
   "language": "python",
   "name": "python3"
  },
  "language_info": {
   "codemirror_mode": {
    "name": "ipython",
    "version": 3
   },
   "file_extension": ".py",
   "mimetype": "text/x-python",
   "name": "python",
   "nbconvert_exporter": "python",
   "pygments_lexer": "ipython3",
   "version": "3.8.10"
  }
 },
 "nbformat": 4,
 "nbformat_minor": 5
}
