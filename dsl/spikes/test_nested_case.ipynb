{
 "cells": [
  {
   "cell_type": "code",
   "execution_count": 1,
   "metadata": {},
   "outputs": [],
   "source": [
    "import sys\n",
    "from pprint import pprint\n",
    "\n",
    "# project dependencies\n",
    "proj_path = 'd:/code/Projects/property_mapping_sql_generator/'\n",
    "sys.path.insert(0, proj_path)\n",
    "from dsl.engine import Analysis, case, switch"
   ]
  },
  {
   "cell_type": "code",
   "execution_count": 2,
   "metadata": {},
   "outputs": [],
   "source": [
    "nested = case('Prep', [('x', case('Method', [('y', 'a1-extr')], default='a1')), \n",
    "                       ('y', case('Method', [('y', 'a2-extr')], default='a2'))], \n",
    "              default=case('Method', [('y', 'an-extr')], default='an'))\n",
    "a = Analysis(nested)"
   ]
  },
  {
   "cell_type": "code",
   "execution_count": 3,
   "metadata": {},
   "outputs": [
    {
     "data": {
      "text/plain": [
       "[LogicBranch(result='a1-extr', search_expr='x', ref='a.\"Prep\"'),\n",
       " LogicBranch(result='a2-extr', search_expr='y', ref='a.\"Prep\"'),\n",
       " LogicBranch(result='an-extr', search_expr=None, ref='a.\"Prep\"')]"
      ]
     },
     "execution_count": 3,
     "metadata": {},
     "output_type": "execute_result"
    }
   ],
   "source": [
    "list(nested.get_branches())"
   ]
  },
  {
   "cell_type": "code",
   "execution_count": 4,
   "metadata": {},
   "outputs": [
    {
     "name": "stdout",
     "output_type": "stream",
     "text": [
      "\n",
      "case lower(trim(ref_col))\n",
      "    when lower(trim('x')) then \n",
      "case lower(trim(ref_col))\n",
      "    when lower(trim('y')) then 'a1-extr'\n",
      "    else 'a1'\n",
      "end\n",
      "    when lower(trim('y')) then \n",
      "case lower(trim(ref_col))\n",
      "    when lower(trim('y')) then 'a2-extr'\n",
      "    else 'a2'\n",
      "end\n",
      "    else \n",
      "case lower(trim(ref_col))\n",
      "    when lower(trim('y')) then 'an-extr'\n",
      "    else 'an'\n",
      "end\n",
      "end\n"
     ]
    }
   ],
   "source": [
    "print(nested.generate_sql())"
   ]
  },
  {
   "cell_type": "code",
   "execution_count": 5,
   "metadata": {},
   "outputs": [
    {
     "ename": "NameError",
     "evalue": "name 'eq' is not defined",
     "output_type": "error",
     "traceback": [
      "\u001b[1;31m---------------------------------------------------------------------------\u001b[0m",
      "\u001b[1;31mNameError\u001b[0m                                 Traceback (most recent call last)",
      "\u001b[1;32m<ipython-input-5-e3f85abc4c9f>\u001b[0m in \u001b[0;36m<module>\u001b[1;34m\u001b[0m\n\u001b[1;32m----> 1\u001b[1;33m x = switch([(eq(col('Prep'), 's1'), 'a1'), \n\u001b[0m\u001b[0;32m      2\u001b[0m             (eq(col('Prep'), 's2'), 'a2')], default='an')\n\u001b[0;32m      3\u001b[0m \u001b[1;33m\u001b[0m\u001b[0m\n\u001b[0;32m      4\u001b[0m \u001b[0mx\u001b[0m\u001b[1;33m\u001b[0m\u001b[1;33m\u001b[0m\u001b[0m\n",
      "\u001b[1;31mNameError\u001b[0m: name 'eq' is not defined"
     ]
    }
   ],
   "source": [
    "x = switch([(eq(col('Prep'), 's1'), 'a1'), \n",
    "            (eq(col('Prep'), 's2'), 'a2')], default='an')\n",
    "\n",
    "x"
   ]
  },
  {
   "cell_type": "code",
   "execution_count": null,
   "metadata": {},
   "outputs": [],
   "source": []
  }
 ],
 "metadata": {
  "kernelspec": {
   "display_name": "Python 3",
   "language": "python",
   "name": "python3"
  },
  "language_info": {
   "codemirror_mode": {
    "name": "ipython",
    "version": 3
   },
   "file_extension": ".py",
   "mimetype": "text/x-python",
   "name": "python",
   "nbconvert_exporter": "python",
   "pygments_lexer": "ipython3",
   "version": "3.7.9"
  }
 },
 "nbformat": 4,
 "nbformat_minor": 2
}
