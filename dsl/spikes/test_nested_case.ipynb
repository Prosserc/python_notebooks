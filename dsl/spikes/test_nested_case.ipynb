{
 "cells": [
  {
   "cell_type": "code",
   "execution_count": 1,
   "metadata": {},
   "outputs": [],
   "source": [
    "import sys\n",
    "from pprint import pprint\n",
    "\n",
    "# project dependencies\n",
    "proj_path = 'd:/code/Projects/property_mapping_sql_generator/'\n",
    "sys.path.insert(0, proj_path)\n",
    "from dsl.engine import *"
   ]
  },
  {
   "cell_type": "code",
   "execution_count": 4,
   "metadata": {},
   "outputs": [],
   "source": [
    "nested = case('Prep', [('x', case('Method', [('y', 'a1-extr')], default='a1')), \n",
    "                       ('y', case('Method', [('y', 'a2-extr')], default='a2'))], \n",
    "              default=case('Method', [('y', 'an-extr')], default='an'))\n",
    "a = Analysis(nested)"
   ]
  },
  {
   "cell_type": "code",
   "execution_count": 7,
   "metadata": {},
   "outputs": [
    {
     "data": {
      "text/plain": [
       "[LogicBranch(result='a1-extr', search_expr='x', ref='a.Prep'),\n",
       " LogicBranch(result='a2-extr', search_expr='y', ref='a.Prep'),\n",
       " LogicBranch(result='an-extr', search_expr=None, ref='a.Prep')]"
      ]
     },
     "execution_count": 7,
     "metadata": {},
     "output_type": "execute_result"
    }
   ],
   "source": [
    "list(nested.get_branches())"
   ]
  },
  {
   "cell_type": "code",
   "execution_count": 9,
   "metadata": {},
   "outputs": [
    {
     "name": "stdout",
     "output_type": "stream",
     "text": [
      "\n",
      "case lower(trim(ref_col))\n",
      "    when lower(trim('x')) then \n",
      "case lower(trim(ref_col))\n",
      "    when lower(trim('y')) then 'a1-extr'\n",
      "    else 'a1'\n",
      "end\n",
      "    when lower(trim('y')) then \n",
      "case lower(trim(ref_col))\n",
      "    when lower(trim('y')) then 'a2-extr'\n",
      "    else 'a2'\n",
      "end\n",
      "    else \n",
      "case lower(trim(ref_col))\n",
      "    when lower(trim('y')) then 'an-extr'\n",
      "    else 'an'\n",
      "end\n",
      "end\n"
     ]
    }
   ],
   "source": [
    "print(nested.generate_sql())"
   ]
  },
  {
   "cell_type": "code",
   "execution_count": 15,
   "metadata": {},
   "outputs": [
    {
     "data": {
      "text/plain": [
       "Switch(expr_val_pairs=[(Equals(expr1=DbColumn(col_name='Prep'), expr2='s1'), 'a1'), (Equals(expr1=DbColumn(col_name='Prep'), expr2='s2'), 'a2')], default='an')"
      ]
     },
     "execution_count": 15,
     "metadata": {},
     "output_type": "execute_result"
    }
   ],
   "source": [
    "x = switch([(eq(col('Prep'), 's1'), 'a1'), \n",
    "            (eq(col('Prep'), 's2'), 'a2')], default='an')\n",
    "\n",
    "x"
   ]
  }
 ],
 "metadata": {
  "kernelspec": {
   "display_name": "Python 3",
   "language": "python",
   "name": "python3"
  },
  "language_info": {
   "codemirror_mode": {
    "name": "ipython",
    "version": 3
   },
   "file_extension": ".py",
   "mimetype": "text/x-python",
   "name": "python",
   "nbconvert_exporter": "python",
   "pygments_lexer": "ipython3",
   "version": "3.7.2"
  }
 },
 "nbformat": 4,
 "nbformat_minor": 2
}
