{
 "cells": [
  {
   "cell_type": "code",
   "execution_count": 1,
   "id": "armed-vintage",
   "metadata": {},
   "outputs": [],
   "source": [
    "import petl as etl"
   ]
  },
  {
   "cell_type": "code",
   "execution_count": 2,
   "id": "economic-orchestra",
   "metadata": {},
   "outputs": [
    {
     "data": {
      "text/html": [
       "<table class='petl'>\n",
       "<thead>\n",
       "<tr>\n",
       "<th>SampleID</th>\n",
       "<th>TOC</th>\n",
       "<th>Method</th>\n",
       "</tr>\n",
       "</thead>\n",
       "<tbody>\n",
       "<tr>\n",
       "<td>s1</td>\n",
       "<td>0.5</td>\n",
       "<td>l</td>\n",
       "</tr>\n",
       "<tr>\n",
       "<td>s2</td>\n",
       "<td>0.3</td>\n",
       "<td>py</td>\n",
       "</tr>\n",
       "<tr>\n",
       "<td>s3</td>\n",
       "<td>0.1</td>\n",
       "<td></td>\n",
       "</tr>\n",
       "</tbody>\n",
       "</table>\n"
      ],
      "text/plain": [
       "+----------+-------+--------+\n",
       "| SampleID | TOC   | Method |\n",
       "+==========+=======+========+\n",
       "| 's1'     | '0.5' | 'l'    |\n",
       "+----------+-------+--------+\n",
       "| 's2'     | '0.3' | 'py'   |\n",
       "+----------+-------+--------+\n",
       "| 's3'     | '0.1' | ''     |\n",
       "+----------+-------+--------+"
      ]
     },
     "execution_count": 2,
     "metadata": {},
     "output_type": "execute_result"
    }
   ],
   "source": [
    "t1 = etl.fromcsv('simple_petl_eg.csv')\n",
    "t1"
   ]
  },
  {
   "cell_type": "code",
   "execution_count": 3,
   "id": "suffering-pitch",
   "metadata": {},
   "outputs": [
    {
     "data": {
      "text/html": [
       "<table class='petl'>\n",
       "<thead>\n",
       "<tr>\n",
       "<th>Name.Sam</th>\n",
       "<th>TOC.leco</th>\n",
       "<th>TOC.pyrol</th>\n",
       "</tr>\n",
       "</thead>\n",
       "<tbody>\n",
       "<tr>\n",
       "<td>s1</td>\n",
       "<td>0.5</td>\n",
       "<td>None</td>\n",
       "</tr>\n",
       "<tr>\n",
       "<td>s2</td>\n",
       "<td>None</td>\n",
       "<td>0.3</td>\n",
       "</tr>\n",
       "<tr>\n",
       "<td>s3</td>\n",
       "<td>None</td>\n",
       "<td>None</td>\n",
       "</tr>\n",
       "</tbody>\n",
       "</table>\n"
      ],
      "text/plain": [
       "+----------+----------+-----------+\n",
       "| Name.Sam | TOC.leco | TOC.pyrol |\n",
       "+==========+==========+===========+\n",
       "| 's1'     | '0.5'    | None      |\n",
       "+----------+----------+-----------+\n",
       "| 's2'     | None     | '0.3'     |\n",
       "+----------+----------+-----------+\n",
       "| 's3'     | None     | None      |\n",
       "+----------+----------+-----------+"
      ]
     },
     "execution_count": 3,
     "metadata": {},
     "output_type": "execute_result"
    }
   ],
   "source": [
    "def row_mapper(row):\n",
    "    \n",
    "    def expand(rc_val, src_col, ref_col):\n",
    "        return row[src_col] if row[ref_col] == rc_val else None\n",
    "    \n",
    "    return [\n",
    "        row['SampleID'], \n",
    "        expand(rc_val='l', src_col='TOC', ref_col='Method'), \n",
    "        expand(rc_val='py', src_col='TOC', ref_col='Method'),\n",
    "        # handle defaults\n",
    "    ]\n",
    "    \n",
    "headers = ['Name.Sam', 'TOC.leco', 'TOC.pyrol']\n",
    "etl.rowmap(t1, row_mapper, header=headers)"
   ]
  }
 ],
 "metadata": {
  "kernelspec": {
   "display_name": "Python 3",
   "language": "python",
   "name": "python3"
  },
  "language_info": {
   "codemirror_mode": {
    "name": "ipython",
    "version": 3
   },
   "file_extension": ".py",
   "mimetype": "text/x-python",
   "name": "python",
   "nbconvert_exporter": "python",
   "pygments_lexer": "ipython3",
   "version": "3.7.9"
  }
 },
 "nbformat": 4,
 "nbformat_minor": 5
}
