{
 "cells": [
  {
   "cell_type": "code",
   "execution_count": 1,
   "id": "infrared-profit",
   "metadata": {},
   "outputs": [],
   "source": [
    "import petl as etl\n",
    "import traceback"
   ]
  },
  {
   "cell_type": "code",
   "execution_count": 3,
   "id": "polyphonic-conjunction",
   "metadata": {},
   "outputs": [],
   "source": [
    "src = [['col1', 'col2', 'col3'],\n",
    "       ['a','b','c'],\n",
    "       ['','b',''],\n",
    "       ['','','c'],\n",
    "       ['','','']]\n",
    "t1 = etl.wrap(src)"
   ]
  },
  {
   "cell_type": "code",
   "execution_count": null,
   "id": "lightweight-bookmark",
   "metadata": {},
   "outputs": [],
   "source": [
    "def row_mapper(row):\n",
    "    ...:     try:\n",
    "    ...:         def pref(cols):\n",
    "    ...:             \"\"\"Should be called with cols sorted by pref arg.\"\"\"\n",
    "    ...:             return next((row[col] for col in cols if row[col]), \"\")\n",
    "    ...:         return [\n",
    "    ...:             pref(['col1', 'col2', 'col3'])\n",
    "    ...:         ]\n",
    "    ...:     except:\n",
    "    ...:         traceback.print_exc()\n",
    "    ...:\n",
    "    ...: headers = ['Pref']\n",
    "    ...: t2 = etl.rowmap(t1, row_mapper, headers)\n",
    "    ...: t2"
   ]
  }
 ],
 "metadata": {
  "kernelspec": {
   "display_name": "Python 3",
   "language": "python",
   "name": "python3"
  },
  "language_info": {
   "codemirror_mode": {
    "name": "ipython",
    "version": 3
   },
   "file_extension": ".py",
   "mimetype": "text/x-python",
   "name": "python",
   "nbconvert_exporter": "python",
   "pygments_lexer": "ipython3",
   "version": "3.7.9"
  }
 },
 "nbformat": 4,
 "nbformat_minor": 5
}
