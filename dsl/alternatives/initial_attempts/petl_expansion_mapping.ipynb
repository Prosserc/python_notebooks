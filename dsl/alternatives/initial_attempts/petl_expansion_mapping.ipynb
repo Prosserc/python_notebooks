{
 "cells": [
  {
   "cell_type": "code",
   "execution_count": 1,
   "id": "armed-vintage",
   "metadata": {},
   "outputs": [],
   "source": [
    "import petl as etl\n",
    "from collections import OrderedDict"
   ]
  },
  {
   "cell_type": "code",
   "execution_count": 2,
   "id": "economic-orchestra",
   "metadata": {},
   "outputs": [
    {
     "data": {
      "text/html": [
       "<table class='petl'>\n",
       "<thead>\n",
       "<tr>\n",
       "<th>SampleId</th>\n",
       "<th>TOC</th>\n",
       "<th>Method</th>\n",
       "</tr>\n",
       "</thead>\n",
       "<tbody>\n",
       "<tr>\n",
       "<td>s1</td>\n",
       "<td style='text-align: right'>0.5</td>\n",
       "<td>leco</td>\n",
       "</tr>\n",
       "<tr>\n",
       "<td>s2</td>\n",
       "<td style='text-align: right'>0.3</td>\n",
       "<td>pyrol</td>\n",
       "</tr>\n",
       "<tr>\n",
       "<td>s3</td>\n",
       "<td style='text-align: right'>0.1</td>\n",
       "<td>None</td>\n",
       "</tr>\n",
       "</tbody>\n",
       "</table>\n"
      ],
      "text/plain": [
       "+----------+-----+---------+\n",
       "| SampleId | TOC | Method  |\n",
       "+==========+=====+=========+\n",
       "| 's1'     | 0.5 | 'leco'  |\n",
       "+----------+-----+---------+\n",
       "| 's2'     | 0.3 | 'pyrol' |\n",
       "+----------+-----+---------+\n",
       "| 's3'     | 0.1 | None    |\n",
       "+----------+-----+---------+"
      ]
     },
     "execution_count": 2,
     "metadata": {},
     "output_type": "execute_result"
    }
   ],
   "source": [
    "src = [['SampleId', 'TOC', 'Method'],\n",
    "       ['s1', 0.5, 'leco'],\n",
    "       ['s2', 0.3, 'pyrol'],\n",
    "       ['s3', 0.1, None]]\n",
    "t1 = etl.wrap(src)\n",
    "t1"
   ]
  },
  {
   "cell_type": "markdown",
   "id": "rough-greece",
   "metadata": {},
   "source": [
    "Could use DSL to output mapping dicts that we could use for col expansion?"
   ]
  },
  {
   "cell_type": "code",
   "execution_count": 3,
   "id": "acceptable-particle",
   "metadata": {},
   "outputs": [
    {
     "data": {
      "text/html": [
       "<table class='petl'>\n",
       "<thead>\n",
       "<tr>\n",
       "<th>SampleId</th>\n",
       "<th>toc.leco</th>\n",
       "<th>toc.pyrol</th>\n",
       "<th>toc.un</th>\n",
       "</tr>\n",
       "</thead>\n",
       "<tbody>\n",
       "<tr>\n",
       "<td>s1</td>\n",
       "<td style='text-align: right'>0.5</td>\n",
       "<td>None</td>\n",
       "<td>None</td>\n",
       "</tr>\n",
       "<tr>\n",
       "<td>s2</td>\n",
       "<td>None</td>\n",
       "<td style='text-align: right'>0.3</td>\n",
       "<td>None</td>\n",
       "</tr>\n",
       "<tr>\n",
       "<td>s3</td>\n",
       "<td>None</td>\n",
       "<td>None</td>\n",
       "<td style='text-align: right'>0.1</td>\n",
       "</tr>\n",
       "</tbody>\n",
       "</table>\n"
      ],
      "text/plain": [
       "+----------+----------+-----------+--------+\n",
       "| SampleId | toc.leco | toc.pyrol | toc.un |\n",
       "+==========+==========+===========+========+\n",
       "| 's1'     |      0.5 | None      | None   |\n",
       "+----------+----------+-----------+--------+\n",
       "| 's2'     | None     |       0.3 | None   |\n",
       "+----------+----------+-----------+--------+\n",
       "| 's3'     | None     | None      |    0.1 |\n",
       "+----------+----------+-----------+--------+"
      ]
     },
     "execution_count": 3,
     "metadata": {},
     "output_type": "execute_result"
    }
   ],
   "source": [
    "# manually produced example of the code we would need to generate to map...\n",
    "def row_mapper(row):\n",
    "    def expand(src_col, ref_col, rc_val):\n",
    "        return row[src_col] if row[ref_col] == rc_val else None\n",
    "    \n",
    "    return [\n",
    "        row[0], # ids unchanged\n",
    "        # could build a collection of the mapping below and unpack with *args?, need one of below per exp col / ref val comb\n",
    "        expand('TOC', 'Method', 'leco'),\n",
    "        expand('TOC', 'Method', 'pyrol'),\n",
    "        expand('TOC', 'Method', None)\n",
    "           ]\n",
    "toc_grps = [f'toc.{m}' if m else 'toc.un' for m in t1['Method']]  # one header for each toc mapping\n",
    "t2 = etl.rowmap(t1, row_mapper, header=['SampleId'] + toc_grps)\n",
    "t2"
   ]
  },
  {
   "cell_type": "code",
   "execution_count": 9,
   "id": "bizarre-motel",
   "metadata": {},
   "outputs": [
    {
     "data": {
      "text/html": [
       "<table class='petl'>\n",
       "<thead>\n",
       "<tr>\n",
       "<th>SampleId</th>\n",
       "<th>TOC</th>\n",
       "<th>Method</th>\n",
       "</tr>\n",
       "</thead>\n",
       "<tbody>\n",
       "<tr>\n",
       "<td>s1</td>\n",
       "<td>None</td>\n",
       "<td>leco</td>\n",
       "</tr>\n",
       "<tr>\n",
       "<td>s2</td>\n",
       "<td>None</td>\n",
       "<td>pyrol</td>\n",
       "</tr>\n",
       "<tr>\n",
       "<td>s3</td>\n",
       "<td>None</td>\n",
       "<td>None</td>\n",
       "</tr>\n",
       "</tbody>\n",
       "</table>\n"
      ],
      "text/plain": [
       "+----------+------+---------+\n",
       "| SampleId | TOC  | Method  |\n",
       "+==========+======+=========+\n",
       "| 's1'     | None | 'leco'  |\n",
       "+----------+------+---------+\n",
       "| 's2'     | None | 'pyrol' |\n",
       "+----------+------+---------+\n",
       "| 's3'     | None | None    |\n",
       "+----------+------+---------+"
      ]
     },
     "execution_count": 9,
     "metadata": {},
     "output_type": "execute_result"
    }
   ],
   "source": [
    "# alt - could use unpack: https://petl.readthedocs.io/en/stable/transform.html#unpacking-compound-values\n",
    "#       i.e. convert to a seq of values in place then unpack this to multi cols?\n",
    "#       or unpackdict: https://petl.readthedocs.io/en/stable/transform.html#petl.transform.unpacks.unpackdict\n",
    "src_col, ref_col = 'TOC', 'Method'\n",
    "method_to_a_grp = {m: m if m else 'un' for m in t1[ref_col]}\n",
    "\n",
    "def build_mapping_dict(v, row):\n",
    "    return {f\"{src_col}.{v}\": row[src_col] if k == row[ref_col] else \"\" \n",
    "            for k, v in method_to_a_grp.items()}\n",
    "\n",
    "t1_dict = etl.convert(t1, 'TOC', build_mapping_dict)    \n",
    "t1_dict"
   ]
  },
  {
   "cell_type": "code",
   "execution_count": 5,
   "id": "controlling-happiness",
   "metadata": {},
   "outputs": [],
   "source": [
    "# next steps - bring in DSL core types & try to hook up to code generator \n",
    "#              that produces code like the above?\n",
    "# consider property model - may need to mock initially?!?"
   ]
  },
  {
   "cell_type": "code",
   "execution_count": 6,
   "id": "identical-teens",
   "metadata": {},
   "outputs": [],
   "source": [
    "#mappings = OrderedDict()\n",
    "#mappings['SampleId'] = 'SampleId'\n",
    "#method_to_a_grp = {m: m if m else 'un' for m in t1['Method']} # real would use PM\n",
    "\n",
    "#def get_expander(src_col, ref_col, row):\n",
    "#    rc_val = method_to_a_grp[row[ref_col]]\n",
    "#    result = row[src_col] if row[ref_col] == rc_val else None\n",
    "#    print(f\"rc_val: {rc_val}, row: {row} | result => {result}\")\n",
    "#    return result\n",
    "\n",
    "## cretae a column (expand toc) for each analyis group \n",
    "#for grp in method_to_a_grp.values():\n",
    "#    converter = lambda row: get_expander('TOC', 'Method', row)\n",
    "#    mappings[f'toc.{grp}'] = converter\n",
    "\n",
    "## not working yet - need to only populate value when the analysis \n",
    "##                   is a match for the method mapping"
   ]
  }
 ],
 "metadata": {
  "kernelspec": {
   "display_name": "Python 3",
   "language": "python",
   "name": "python3"
  },
  "language_info": {
   "codemirror_mode": {
    "name": "ipython",
    "version": 3
   },
   "file_extension": ".py",
   "mimetype": "text/x-python",
   "name": "python",
   "nbconvert_exporter": "python",
   "pygments_lexer": "ipython3",
   "version": "3.7.9"
  }
 },
 "nbformat": 4,
 "nbformat_minor": 5
}
