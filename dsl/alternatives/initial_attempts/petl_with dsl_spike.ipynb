{
 "cells": [
  {
   "cell_type": "code",
   "execution_count": 1,
   "id": "fleet-struggle",
   "metadata": {},
   "outputs": [],
   "source": [
    "USE_MOCK_PROPERTY_MODEL = True\n",
    "import sys\n",
    "\n",
    "# project dependencies\n",
    "proj_path = 'd:/code/Projects/property_mapping_sql_generator/'\n",
    "sys.path.insert(0, proj_path)\n",
    "from dsl.utils.settings import set_code_target\n",
    "set_code_target('petl')\n",
    "from dsl.engine import *"
   ]
  },
  {
   "cell_type": "code",
   "execution_count": 2,
   "id": "ancient-boost",
   "metadata": {},
   "outputs": [],
   "source": [
    "a = Analysis(Case('Method', [('l', 'Leco'), ('py', 'Pyrol6')], default='PyrolUn'))"
   ]
  },
  {
   "cell_type": "code",
   "execution_count": 3,
   "id": "rubber-heating",
   "metadata": {},
   "outputs": [
    {
     "data": {
      "text/plain": [
       "[LogicBranch(result='Leco', search_expr='l', ref='a.\"Method\"'),\n",
       " LogicBranch(result='Pyrol6', search_expr='py', ref='a.\"Method\"'),\n",
       " LogicBranch(result='PyrolUn', search_expr=None, ref='a.\"Method\"')]"
      ]
     },
     "execution_count": 3,
     "metadata": {},
     "output_type": "execute_result"
    }
   ],
   "source": [
    "list(a.get_branches())"
   ]
  },
  {
   "cell_type": "code",
   "execution_count": 4,
   "id": "broke-yesterday",
   "metadata": {},
   "outputs": [
    {
     "data": {
      "text/plain": [
       "['Leco', 'Pyrol6', 'PyrolUn']"
      ]
     },
     "execution_count": 4,
     "metadata": {},
     "output_type": "execute_result"
    }
   ],
   "source": [
    "list(a.possible_values())"
   ]
  },
  {
   "cell_type": "code",
   "execution_count": 5,
   "id": "angry-verse",
   "metadata": {},
   "outputs": [
    {
     "name": "stdout",
     "output_type": "stream",
     "text": [
      "expand('l', 'Leco'),\n",
      "expand('py', 'Pyrol6'),\n",
      "expand(None, 'PyrolUn')\n"
     ]
    }
   ],
   "source": [
    "print(a.mapping_func.generate_code())"
   ]
  },
  {
   "cell_type": "code",
   "execution_count": null,
   "id": "empty-violence",
   "metadata": {},
   "outputs": [],
   "source": []
  }
 ],
 "metadata": {
  "kernelspec": {
   "display_name": "Python 3",
   "language": "python",
   "name": "python3"
  },
  "language_info": {
   "codemirror_mode": {
    "name": "ipython",
    "version": 3
   },
   "file_extension": ".py",
   "mimetype": "text/x-python",
   "name": "python",
   "nbconvert_exporter": "python",
   "pygments_lexer": "ipython3",
   "version": "3.7.9"
  }
 },
 "nbformat": 4,
 "nbformat_minor": 5
}
