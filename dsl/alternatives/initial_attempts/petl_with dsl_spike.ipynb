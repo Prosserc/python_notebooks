{
 "cells": [
  {
   "cell_type": "code",
   "execution_count": 1,
   "id": "fleet-struggle",
   "metadata": {},
   "outputs": [],
   "source": [
    "USE_MOCK_PROPERTY_MODEL = True\n",
    "import sys\n",
    "\n",
    "# project dependencies\n",
    "proj_path = 'd:/code/Projects/property_mapping_sql_generator/'\n",
    "sys.path.insert(0, proj_path)\n",
    "from dsl.engine import *\n",
    "from dsl.utils.settings import set_code_target"
   ]
  },
  {
   "cell_type": "code",
   "execution_count": 2,
   "id": "ancient-boost",
   "metadata": {},
   "outputs": [],
   "source": [
    "a = Analysis(Case('Method', [('leco', 'Leco'), ('pyrol', 'Pyrol')], default='un'))"
   ]
  },
  {
   "cell_type": "code",
   "execution_count": 3,
   "id": "angry-verse",
   "metadata": {},
   "outputs": [
    {
     "name": "stdout",
     "output_type": "stream",
     "text": [
      "expand('leco', 'Leco'),\n",
      "expand('pyrol', 'Pyrol'),\n",
      "expand(None, 'un')\n"
     ]
    }
   ],
   "source": [
    "set_code_target('petl')\n",
    "print(a.mapping_func.generate_code())"
   ]
  },
  {
   "cell_type": "code",
   "execution_count": 4,
   "id": "identical-teens",
   "metadata": {},
   "outputs": [],
   "source": [
    "#mappings = OrderedDict()\n",
    "#mappings['SampleId'] = 'SampleId'\n",
    "#method_to_a_grp = {m: m if m else 'un' for m in t1['Method']} # real would use PM\n",
    "\n",
    "#def get_expander(src_col, ref_col, row):\n",
    "#    rc_val = method_to_a_grp[row[ref_col]]\n",
    "#    result = row[src_col] if row[ref_col] == rc_val else None\n",
    "#    print(f\"rc_val: {rc_val}, row: {row} | result => {result}\")\n",
    "#    return result\n",
    "\n",
    "## cretae a column (expand toc) for each analyis group \n",
    "#for grp in method_to_a_grp.values():\n",
    "#    converter = lambda row: get_expander('TOC', 'Method', row)\n",
    "#    mappings[f'toc.{grp}'] = converter\n",
    "\n",
    "## not working yet - need to only populate value when the analysis \n",
    "##                   is a match for the method mapping"
   ]
  }
 ],
 "metadata": {
  "kernelspec": {
   "display_name": "Python 3",
   "language": "python",
   "name": "python3"
  },
  "language_info": {
   "codemirror_mode": {
    "name": "ipython",
    "version": 3
   },
   "file_extension": ".py",
   "mimetype": "text/x-python",
   "name": "python",
   "nbconvert_exporter": "python",
   "pygments_lexer": "ipython3",
   "version": "3.7.9"
  }
 },
 "nbformat": 4,
 "nbformat_minor": 5
}
