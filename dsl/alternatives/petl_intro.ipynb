{
 "cells": [
  {
   "cell_type": "code",
   "execution_count": 1,
   "id": "sorted-shipping",
   "metadata": {},
   "outputs": [],
   "source": [
    "# set up example data file\n",
    "example_data = \"\"\"foo,bar,baz\n",
    "a,1,3.4\n",
    "b,2,7.4\n",
    "c,6,2.2\n",
    "d,9,8.1\n",
    "\"\"\"\n",
    "with open('example.csv', 'w') as f:\n",
    "    f.write(example_data)"
   ]
  },
  {
   "cell_type": "code",
   "execution_count": 2,
   "id": "suspended-hearts",
   "metadata": {},
   "outputs": [],
   "source": [
    "import petl"
   ]
  },
  {
   "cell_type": "code",
   "execution_count": 3,
   "id": "occupational-holiday",
   "metadata": {},
   "outputs": [],
   "source": [
    "table = (\n",
    "    petl\n",
    "    .fromcsv('example.csv')\n",
    "    .convert('foo', 'upper')\n",
    "    .convert('bar', int)\n",
    "    .convert('baz', float)\n",
    "    .addfield('quux', lambda r: r.bar * r.baz)\n",
    ")"
   ]
  },
  {
   "cell_type": "code",
   "execution_count": 5,
   "id": "exotic-sector",
   "metadata": {},
   "outputs": [
    {
     "data": {
      "text/html": [
       "<table class='petl'>\n",
       "<thead>\n",
       "<tr>\n",
       "<th>foo</th>\n",
       "<th>bar</th>\n",
       "<th>baz</th>\n",
       "<th>quux</th>\n",
       "</tr>\n",
       "</thead>\n",
       "<tbody>\n",
       "<tr>\n",
       "<td>A</td>\n",
       "<td style='text-align: right'>1</td>\n",
       "<td style='text-align: right'>3.4</td>\n",
       "<td style='text-align: right'>3.4</td>\n",
       "</tr>\n",
       "<tr>\n",
       "<td>B</td>\n",
       "<td style='text-align: right'>2</td>\n",
       "<td style='text-align: right'>7.4</td>\n",
       "<td style='text-align: right'>14.8</td>\n",
       "</tr>\n",
       "<tr>\n",
       "<td>C</td>\n",
       "<td style='text-align: right'>6</td>\n",
       "<td style='text-align: right'>2.2</td>\n",
       "<td style='text-align: right'>13.200000000000001</td>\n",
       "</tr>\n",
       "<tr>\n",
       "<td>D</td>\n",
       "<td style='text-align: right'>9</td>\n",
       "<td style='text-align: right'>8.1</td>\n",
       "<td style='text-align: right'>72.89999999999999</td>\n",
       "</tr>\n",
       "</tbody>\n",
       "</table>\n"
      ],
      "text/plain": [
       "+-----+-----+-----+--------------------+\n",
       "| foo | bar | baz | quux               |\n",
       "+=====+=====+=====+====================+\n",
       "| 'A' |   1 | 3.4 |                3.4 |\n",
       "+-----+-----+-----+--------------------+\n",
       "| 'B' |   2 | 7.4 |               14.8 |\n",
       "+-----+-----+-----+--------------------+\n",
       "| 'C' |   6 | 2.2 | 13.200000000000001 |\n",
       "+-----+-----+-----+--------------------+\n",
       "| 'D' |   9 | 8.1 |  72.89999999999999 |\n",
       "+-----+-----+-----+--------------------+"
      ]
     },
     "execution_count": 5,
     "metadata": {},
     "output_type": "execute_result"
    }
   ],
   "source": [
    "table"
   ]
  },
  {
   "cell_type": "code",
   "execution_count": null,
   "id": "apart-fraud",
   "metadata": {},
   "outputs": [],
   "source": []
  }
 ],
 "metadata": {
  "kernelspec": {
   "display_name": "Python 3",
   "language": "python",
   "name": "python3"
  },
  "language_info": {
   "codemirror_mode": {
    "name": "ipython",
    "version": 3
   },
   "file_extension": ".py",
   "mimetype": "text/x-python",
   "name": "python",
   "nbconvert_exporter": "python",
   "pygments_lexer": "ipython3",
   "version": "3.7.9"
  }
 },
 "nbformat": 4,
 "nbformat_minor": 5
}
