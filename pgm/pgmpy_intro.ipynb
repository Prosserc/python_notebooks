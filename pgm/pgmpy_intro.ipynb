{
 "cells": [
  {
   "cell_type": "code",
   "execution_count": 1,
   "id": "helpful-destruction",
   "metadata": {},
   "outputs": [],
   "source": [
    "from pgmpy.models import BayesianModel"
   ]
  },
  {
   "cell_type": "code",
   "execution_count": 2,
   "id": "electronic-sussex",
   "metadata": {},
   "outputs": [],
   "source": [
    "cancer_model = BayesianModel([('Pollution', 'Cancer'),\n",
    "                              ('Smoker', 'Cancer'),\n",
    "                              ('Cancer', 'Xray'),\n",
    "                              ('Cancer', 'Dyspnoea')])"
   ]
  },
  {
   "cell_type": "code",
   "execution_count": 3,
   "id": "adjusted-brand",
   "metadata": {},
   "outputs": [],
   "source": [
    "# don't understand the numbers passed into the cont prob dists\n",
    "# assuming that the first two are just prob true/false\n",
    "# don't get the numbers passed into cpd_cancer\n",
    "from pgmpy.factors.discrete import TabularCPD\n",
    "\n",
    "cpd_poll = TabularCPD(variable='Pollution', variable_card=2,\n",
    "                      values=[[0.9], [0.1]])\n",
    "cpd_smoke = TabularCPD(variable='Smoker', variable_card=2,\n",
    "                       values=[[0.3], [0.7]])\n",
    "cpd_cancer = TabularCPD(variable='Cancer', variable_card=2,\n",
    "                        values=[[0.03, 0.05, 0.001, 0.02],\n",
    "                                [0.97, 0.95, 0.999, 0.98]],\n",
    "                        evidence=['Smoker', 'Pollution'],\n",
    "                        evidence_card=[2, 2])\n",
    "cpd_xray = TabularCPD(variable='Xray', variable_card=2,\n",
    "                      values=[[0.9, 0.2], [0.1, 0.8]],\n",
    "                      evidence=['Cancer'], evidence_card=[2])\n",
    "cpd_dysp = TabularCPD(variable='Dyspnoea', variable_card=2,\n",
    "                      values=[[0.65, 0.3], [0.35, 0.7]],\n",
    "                      evidence=['Cancer'], evidence_card=[2])"
   ]
  },
  {
   "cell_type": "code",
   "execution_count": 4,
   "id": "quiet-distributor",
   "metadata": {},
   "outputs": [
    {
     "data": {
      "text/plain": [
       "True"
      ]
     },
     "execution_count": 4,
     "metadata": {},
     "output_type": "execute_result"
    }
   ],
   "source": [
    "# Associating the parameters with the model structure.\n",
    "cancer_model.add_cpds(cpd_poll, cpd_smoke, cpd_cancer, cpd_xray, cpd_dysp)\n",
    "\n",
    "# Checking if the cpds are valid for the model.\n",
    "cancer_model.check_model()"
   ]
  },
  {
   "cell_type": "code",
   "execution_count": 5,
   "id": "divided-thunder",
   "metadata": {},
   "outputs": [
    {
     "name": "stdout",
     "output_type": "stream",
     "text": [
      "False\n",
      "True\n"
     ]
    }
   ],
   "source": [
    "# Check for d-separation between variables\n",
    "print(cancer_model.is_active_trail('Pollution', 'Smoker'))\n",
    "print(cancer_model.is_active_trail('Pollution', 'Smoker', observed=['Cancer']))"
   ]
  },
  {
   "cell_type": "code",
   "execution_count": 6,
   "id": "other-implement",
   "metadata": {},
   "outputs": [
    {
     "data": {
      "text/plain": [
       "(Xray _|_ Pollution, Smoker, Dyspnoea | Cancer)"
      ]
     },
     "execution_count": 6,
     "metadata": {},
     "output_type": "execute_result"
    }
   ],
   "source": [
    "# List local independencies for a node\n",
    "\n",
    "cancer_model.local_independencies('Xray')"
   ]
  },
  {
   "cell_type": "code",
   "execution_count": 7,
   "id": "neither-fields",
   "metadata": {},
   "outputs": [
    {
     "data": {
      "text/plain": [
       "(Pollution _|_ Smoker)\n",
       "(Pollution _|_ Xray, Dyspnoea | Cancer)\n",
       "(Pollution _|_ Dyspnoea | Cancer, Xray)\n",
       "(Pollution _|_ Xray, Dyspnoea | Cancer, Smoker)\n",
       "(Pollution _|_ Xray | Cancer, Dyspnoea)\n",
       "(Pollution _|_ Dyspnoea | Cancer, Smoker, Xray)\n",
       "(Pollution _|_ Xray | Cancer, Smoker, Dyspnoea)\n",
       "(Smoker _|_ Pollution)\n",
       "(Smoker _|_ Xray, Dyspnoea | Cancer)\n",
       "(Smoker _|_ Dyspnoea | Cancer, Xray)\n",
       "(Smoker _|_ Xray, Dyspnoea | Cancer, Pollution)\n",
       "(Smoker _|_ Xray | Cancer, Dyspnoea)\n",
       "(Smoker _|_ Dyspnoea | Cancer, Pollution, Xray)\n",
       "(Smoker _|_ Xray | Cancer, Pollution, Dyspnoea)\n",
       "(Xray _|_ Pollution, Smoker, Dyspnoea | Cancer)\n",
       "(Xray _|_ Smoker, Dyspnoea | Cancer, Pollution)\n",
       "(Xray _|_ Pollution, Dyspnoea | Cancer, Smoker)\n",
       "(Xray _|_ Pollution, Smoker | Cancer, Dyspnoea)\n",
       "(Xray _|_ Dyspnoea | Cancer, Smoker, Pollution)\n",
       "(Xray _|_ Smoker | Cancer, Pollution, Dyspnoea)\n",
       "(Xray _|_ Pollution | Cancer, Smoker, Dyspnoea)\n",
       "(Dyspnoea _|_ Pollution, Smoker, Xray | Cancer)\n",
       "(Dyspnoea _|_ Smoker, Xray | Cancer, Pollution)\n",
       "(Dyspnoea _|_ Pollution, Xray | Cancer, Smoker)\n",
       "(Dyspnoea _|_ Pollution, Smoker | Cancer, Xray)\n",
       "(Dyspnoea _|_ Xray | Cancer, Smoker, Pollution)\n",
       "(Dyspnoea _|_ Smoker | Cancer, Pollution, Xray)\n",
       "(Dyspnoea _|_ Pollution | Cancer, Smoker, Xray)"
      ]
     },
     "execution_count": 7,
     "metadata": {},
     "output_type": "execute_result"
    }
   ],
   "source": [
    "# Get all model implied independence conditions\n",
    "\n",
    "cancer_model.get_independencies()"
   ]
  },
  {
   "cell_type": "code",
   "execution_count": null,
   "id": "regulated-brain",
   "metadata": {},
   "outputs": [],
   "source": []
  }
 ],
 "metadata": {
  "kernelspec": {
   "display_name": "Python 3",
   "language": "python",
   "name": "python3"
  },
  "language_info": {
   "codemirror_mode": {
    "name": "ipython",
    "version": 3
   },
   "file_extension": ".py",
   "mimetype": "text/x-python",
   "name": "python",
   "nbconvert_exporter": "python",
   "pygments_lexer": "ipython3",
   "version": "3.7.9"
  }
 },
 "nbformat": 4,
 "nbformat_minor": 5
}
