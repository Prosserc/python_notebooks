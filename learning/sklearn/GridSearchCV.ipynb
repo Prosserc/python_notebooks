{
 "cells": [
  {
   "cell_type": "code",
   "execution_count": 1,
   "id": "8fa95a98",
   "metadata": {},
   "outputs": [],
   "source": [
    "import pandas as pd"
   ]
  },
  {
   "cell_type": "code",
   "execution_count": 2,
   "id": "62ff3779",
   "metadata": {},
   "outputs": [
    {
     "data": {
      "text/html": [
       "<div>\n",
       "<style scoped>\n",
       "    .dataframe tbody tr th:only-of-type {\n",
       "        vertical-align: middle;\n",
       "    }\n",
       "\n",
       "    .dataframe tbody tr th {\n",
       "        vertical-align: top;\n",
       "    }\n",
       "\n",
       "    .dataframe thead th {\n",
       "        text-align: right;\n",
       "    }\n",
       "</style>\n",
       "<table border=\"1\" class=\"dataframe\">\n",
       "  <thead>\n",
       "    <tr style=\"text-align: right;\">\n",
       "      <th></th>\n",
       "      <th>Base MD.Sample</th>\n",
       "      <th>Lat.Any</th>\n",
       "      <th>Long.Any</th>\n",
       "      <th>VR Mean.Any</th>\n",
       "    </tr>\n",
       "  </thead>\n",
       "  <tbody>\n",
       "    <tr>\n",
       "      <th>0</th>\n",
       "      <td>1740.0</td>\n",
       "      <td>47.122103</td>\n",
       "      <td>-47.957358</td>\n",
       "      <td>0.33</td>\n",
       "    </tr>\n",
       "    <tr>\n",
       "      <th>1</th>\n",
       "      <td>1920.0</td>\n",
       "      <td>47.122103</td>\n",
       "      <td>-47.957358</td>\n",
       "      <td>0.39</td>\n",
       "    </tr>\n",
       "    <tr>\n",
       "      <th>2</th>\n",
       "      <td>2730.0</td>\n",
       "      <td>47.122103</td>\n",
       "      <td>-47.957358</td>\n",
       "      <td>0.42</td>\n",
       "    </tr>\n",
       "    <tr>\n",
       "      <th>3</th>\n",
       "      <td>3990.0</td>\n",
       "      <td>47.122103</td>\n",
       "      <td>-47.957358</td>\n",
       "      <td>0.49</td>\n",
       "    </tr>\n",
       "    <tr>\n",
       "      <th>4</th>\n",
       "      <td>4410.0</td>\n",
       "      <td>47.122103</td>\n",
       "      <td>-47.957358</td>\n",
       "      <td>0.59</td>\n",
       "    </tr>\n",
       "    <tr>\n",
       "      <th>...</th>\n",
       "      <td>...</td>\n",
       "      <td>...</td>\n",
       "      <td>...</td>\n",
       "      <td>...</td>\n",
       "    </tr>\n",
       "    <tr>\n",
       "      <th>283</th>\n",
       "      <td>2460.0</td>\n",
       "      <td>46.458936</td>\n",
       "      <td>-48.282383</td>\n",
       "      <td>0.45</td>\n",
       "    </tr>\n",
       "    <tr>\n",
       "      <th>284</th>\n",
       "      <td>2560.0</td>\n",
       "      <td>46.458936</td>\n",
       "      <td>-48.282383</td>\n",
       "      <td>0.47</td>\n",
       "    </tr>\n",
       "    <tr>\n",
       "      <th>285</th>\n",
       "      <td>2740.0</td>\n",
       "      <td>46.458936</td>\n",
       "      <td>-48.282383</td>\n",
       "      <td>0.49</td>\n",
       "    </tr>\n",
       "    <tr>\n",
       "      <th>286</th>\n",
       "      <td>3580.0</td>\n",
       "      <td>46.458936</td>\n",
       "      <td>-48.282383</td>\n",
       "      <td>0.67</td>\n",
       "    </tr>\n",
       "    <tr>\n",
       "      <th>287</th>\n",
       "      <td>3680.0</td>\n",
       "      <td>46.458936</td>\n",
       "      <td>-48.282383</td>\n",
       "      <td>0.68</td>\n",
       "    </tr>\n",
       "  </tbody>\n",
       "</table>\n",
       "<p>288 rows × 4 columns</p>\n",
       "</div>"
      ],
      "text/plain": [
       "     Base MD.Sample    Lat.Any   Long.Any  VR Mean.Any\n",
       "0            1740.0  47.122103 -47.957358         0.33\n",
       "1            1920.0  47.122103 -47.957358         0.39\n",
       "2            2730.0  47.122103 -47.957358         0.42\n",
       "3            3990.0  47.122103 -47.957358         0.49\n",
       "4            4410.0  47.122103 -47.957358         0.59\n",
       "..              ...        ...        ...          ...\n",
       "283          2460.0  46.458936 -48.282383         0.45\n",
       "284          2560.0  46.458936 -48.282383         0.47\n",
       "285          2740.0  46.458936 -48.282383         0.49\n",
       "286          3580.0  46.458936 -48.282383         0.67\n",
       "287          3680.0  46.458936 -48.282383         0.68\n",
       "\n",
       "[288 rows x 4 columns]"
      ]
     },
     "execution_count": 2,
     "metadata": {},
     "output_type": "execute_result"
    }
   ],
   "source": [
    "with open('vr_demo.csv', encoding='utf-8') as f:\n",
    "    df = pd.read_csv(f, skipinitialspace=True, encoding='utf-8')\n",
    "df"
   ]
  },
  {
   "cell_type": "code",
   "execution_count": 3,
   "id": "06bceaf4",
   "metadata": {},
   "outputs": [
    {
     "name": "stdout",
     "output_type": "stream",
     "text": [
      "Hidden layer sizes: [100]\n"
     ]
    }
   ],
   "source": [
    "def get_n_hidden_units(n_rows: int, n_features: int) -> int:\n",
    "    return int(min(100, max(10, (n_features * n_rows)/5)))\n",
    "\n",
    "hidden_layer_sizes = [get_n_hidden_units(*df.shape)]\n",
    "print(f\"Hidden layer sizes: {hidden_layer_sizes}\")"
   ]
  },
  {
   "cell_type": "code",
   "execution_count": 4,
   "id": "4ec4f863",
   "metadata": {},
   "outputs": [
    {
     "name": "stdout",
     "output_type": "stream",
     "text": [
      "R²: 0.579, RMSE: 0.19\n"
     ]
    }
   ],
   "source": [
    "from sklearn.neural_network import MLPRegressor\n",
    "from sklearn.preprocessing import StandardScaler\n",
    "from sklearn.model_selection import train_test_split\n",
    "from sklearn.metrics import r2_score, mean_squared_error\n",
    "from sklearn.pipeline import Pipeline\n",
    "import numpy as np\n",
    "\n",
    "features = df.columns.values[:-1]\n",
    "targets = df.columns.values[-1]\n",
    "seed = 42\n",
    "\n",
    "X, y = df[features], df[targets]\n",
    "X_trn, X_test, y_trn, y_test = train_test_split(X, y, train_size=0.7, random_state=seed)\n",
    "\n",
    "regressor = MLPRegressor(hidden_layer_sizes=hidden_layer_sizes, random_state=seed)\n",
    "\n",
    "def build_and_eval_pipeline(regressor):\n",
    "    pipeline = Pipeline(steps=[\n",
    "        ('Scale', StandardScaler()),\n",
    "        ('Regression', regressor)])\n",
    "\n",
    "    pipeline.fit(X_trn, y_trn)\n",
    "    y_pred = pipeline.predict(X_test)\n",
    "    r2 = r2_score(y_test, y_pred)\n",
    "    rmse = np.sqrt(mean_squared_error(y_test, y_pred))\n",
    "    print(f\"R²: {r2:.3f}, RMSE: {rmse:.2f}\")\n",
    "    \n",
    "build_and_eval_pipeline(regressor)"
   ]
  },
  {
   "cell_type": "code",
   "execution_count": 5,
   "id": "d302ea72",
   "metadata": {},
   "outputs": [
    {
     "name": "stdout",
     "output_type": "stream",
     "text": [
      "R²: 0.752, RMSE: 0.14\n"
     ]
    },
    {
     "data": {
      "text/plain": [
       "{'hidden_layer_sizes': (40, 60), 'solver': 'lbfgs'}"
      ]
     },
     "execution_count": 5,
     "metadata": {},
     "output_type": "execute_result"
    }
   ],
   "source": [
    "# try with grid search\n",
    "from sklearn.model_selection import GridSearchCV\n",
    "\n",
    "param_grid = {\n",
    "    \"hidden_layer_sizes\": [\n",
    "        (100),\n",
    "        (50, 50), (60, 40), (40, 60), \n",
    "        (33, 33, 33), (25, 50, 25)],  \n",
    "    \"solver\": [\"lbfgs\", \"adam\"]}\n",
    "\n",
    "from warnings import simplefilter\n",
    "from sklearn.exceptions import ConvergenceWarning\n",
    "simplefilter(\"ignore\", category=ConvergenceWarning)\n",
    "\n",
    "regressorSearch = GridSearchCV(regressor, param_grid)\n",
    "build_and_eval_pipeline(regressorSearch)\n",
    "\n",
    "regressorSearch.best_params_"
   ]
  },
  {
   "cell_type": "code",
   "execution_count": null,
   "id": "ed85bea3",
   "metadata": {},
   "outputs": [],
   "source": []
  }
 ],
 "metadata": {
  "kernelspec": {
   "display_name": "Python 3 (ipykernel)",
   "language": "python",
   "name": "python3"
  },
  "language_info": {
   "codemirror_mode": {
    "name": "ipython",
    "version": 3
   },
   "file_extension": ".py",
   "mimetype": "text/x-python",
   "name": "python",
   "nbconvert_exporter": "python",
   "pygments_lexer": "ipython3",
   "version": "3.10.5"
  }
 },
 "nbformat": 4,
 "nbformat_minor": 5
}
