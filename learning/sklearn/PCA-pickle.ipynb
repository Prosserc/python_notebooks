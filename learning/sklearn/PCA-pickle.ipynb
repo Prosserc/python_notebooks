{
 "cells": [
  {
   "cell_type": "code",
   "execution_count": 1,
   "id": "47dbce43",
   "metadata": {},
   "outputs": [],
   "source": [
    "import numpy as np\n",
    "from sklearn.decomposition import PCA"
   ]
  },
  {
   "cell_type": "code",
   "execution_count": 2,
   "id": "bee7bc2c",
   "metadata": {},
   "outputs": [],
   "source": [
    "data = [[-0.07951900675624138, -0.0748285682810908, -0.040703740206813166],\n",
    " [0.016328440756408213, 0.004389490395726725, 0.007666520377164143],\n",
    " [-0.0062361137515056925, -0.011994705082681426, -0.000811291405063197],\n",
    " [0.014682267264510773, 0.011911646270392484, 0.015667328635023542],\n",
    " [0.07028169214636204, 0.055305150187513086, 0.035307926421490055],\n",
    " [0.10332016952849882, 0.06707424288733213, 0.0303233037983823],\n",
    " [-0.027150928580143063, 0.09716146393786146, 0.05350335812335935],\n",
    " [-0.03922886558703782, 0.06794381985570258, 0.0451626407944985],\n",
    " [0.09362264425185074, 0.09082825768743655, 0.059282029573952316],\n",
    " [0.12050823524757637, 0.09574824302747886, 0.041406367311554115]]"
   ]
  },
  {
   "cell_type": "code",
   "execution_count": 3,
   "id": "6a0d6c5f",
   "metadata": {},
   "outputs": [],
   "source": [
    "model = PCA()"
   ]
  },
  {
   "cell_type": "code",
   "execution_count": 4,
   "id": "0eea3227",
   "metadata": {},
   "outputs": [
    {
     "data": {
      "text/plain": [
       "PCA()"
      ]
     },
     "execution_count": 4,
     "metadata": {},
     "output_type": "execute_result"
    }
   ],
   "source": [
    "model.fit(data)"
   ]
  },
  {
   "cell_type": "code",
   "execution_count": 5,
   "id": "556b76b9",
   "metadata": {},
   "outputs": [
    {
     "data": {
      "text/plain": [
       "array([[-0.73975147, -0.60096143, -0.30267658],\n",
       "       [-0.6717263 ,  0.63322042,  0.38446804],\n",
       "       [-0.03938947,  0.48772662, -0.87210734]])"
      ]
     },
     "execution_count": 5,
     "metadata": {},
     "output_type": "execute_result"
    }
   ],
   "source": [
    "model.components_  # the eigenvectors for each component"
   ]
  },
  {
   "cell_type": "code",
   "execution_count": 6,
   "id": "21e84a4c",
   "metadata": {},
   "outputs": [
    {
     "data": {
      "text/plain": [
       "array([0.24919912, 0.12393621, 0.01653931])"
      ]
     },
     "execution_count": 6,
     "metadata": {},
     "output_type": "execute_result"
    }
   ],
   "source": [
    "model.singular_values_"
   ]
  },
  {
   "cell_type": "code",
   "execution_count": 7,
   "id": "3be0d67e",
   "metadata": {},
   "outputs": [
    {
     "data": {
      "text/plain": [
       "array([0.79888149, 0.19759948, 0.00351904])"
      ]
     },
     "execution_count": 7,
     "metadata": {},
     "output_type": "execute_result"
    }
   ],
   "source": [
    "model.explained_variance_ratio_"
   ]
  },
  {
   "cell_type": "code",
   "execution_count": 8,
   "id": "608e184c",
   "metadata": {},
   "outputs": [
    {
     "data": {
      "text/plain": [
       "1.0000000000000002"
      ]
     },
     "execution_count": 8,
     "metadata": {},
     "output_type": "execute_result"
    }
   ],
   "source": [
    "sum(model.explained_variance_ratio_)"
   ]
  },
  {
   "cell_type": "code",
   "execution_count": 9,
   "id": "692547e0",
   "metadata": {},
   "outputs": [],
   "source": [
    "import pickle"
   ]
  },
  {
   "cell_type": "code",
   "execution_count": 10,
   "id": "03fdd7e3",
   "metadata": {},
   "outputs": [
    {
     "data": {
      "text/plain": [
       "b'\\x80\\x04\\x95-\\x03\\x00\\x00\\x00\\x00\\x00\\x00\\x8c\\x1asklearn.decomposition._pca\\x94\\x8c\\x03PCA\\x94\\x93\\x94)\\x81\\x94}\\x94(\\x8c\\x0cn_components\\x94N\\x8c\\x04copy\\x94\\x88\\x8c\\x06whiten\\x94\\x89\\x8c\\nsvd_solver\\x94\\x8c\\x04auto\\x94\\x8c\\x03tol\\x94G\\x00\\x00\\x00\\x00\\x00\\x00\\x00\\x00\\x8c\\x0eiterated_power\\x94h\\t\\x8c\\x0crandom_state\\x94N\\x8c\\x0en_features_in_\\x94K\\x03\\x8c\\x0f_fit_svd_solver\\x94\\x8c\\x04full\\x94\\x8c\\x05mean_\\x94\\x8c\\x15numpy.core.multiarray\\x94\\x8c\\x0c_reconstruct\\x94\\x93\\x94\\x8c\\x05numpy\\x94\\x8c\\x07ndarray\\x94\\x93\\x94K\\x00\\x85\\x94C\\x01b\\x94\\x87\\x94R\\x94(K\\x01K\\x03\\x85\\x94h\\x14\\x8c\\x05dtype\\x94\\x93\\x94\\x8c\\x02f8\\x94\\x89\\x88\\x87\\x94R\\x94(K\\x03\\x8c\\x01<\\x94NNNJ\\xff\\xff\\xff\\xffJ\\xff\\xff\\xff\\xffK\\x00t\\x94b\\x89C\\x18\\x10\\xbf\\xa3\\x96\\xfbL\\x9b?\\xfa\\x12\\xa7TD\\xa9\\xa4?\\xd5c4\\x95\\xd4E\\x99?\\x94t\\x94b\\x8c\\x0fnoise_variance_\\x94G\\x00\\x00\\x00\\x00\\x00\\x00\\x00\\x00\\x8c\\nn_samples_\\x94K\\n\\x8c\\x0bn_features_\\x94K\\x03\\x8c\\x0bcomponents_\\x94h\\x13h\\x16K\\x00\\x85\\x94h\\x18\\x87\\x94R\\x94(K\\x01K\\x03K\\x03\\x86\\x94h \\x88CH\\x9b\\x16\\xebH\\x0b\\xac\\xe7\\xbf\\x8e\\x1d\\x9e(\\xc8~\\xe5\\xbf+\\xeeq4\\xdb*\\xa4\\xbf\\xe0\\x17\\xd2w\\x13;\\xe3\\xbfkT#zWC\\xe4?j\\xfe\\xd5\\xb3\\xe96\\xdf?e\\xb9d\\x99\\r_\\xd3\\xbf\\xcc\\xeaq\\xd1\\x1f\\x9b\\xd8?\\xcc\\x8b8\\xa8M\\xe8\\xeb\\xbf\\x94t\\x94b\\x8c\\rn_components_\\x94K\\x03\\x8c\\x13explained_variance_\\x94h\\x13h\\x16K\\x00\\x85\\x94h\\x18\\x87\\x94R\\x94(K\\x01K\\x03\\x85\\x94h \\x89C\\x18K~\\x12\\xae2C|?\\xe8\\x19wt]\\xf6[?\\x90X\\x93\\xaa\\xe8\\xde\\xff>\\x94t\\x94b\\x8c\\x19explained_variance_ratio_\\x94h\\x13h\\x16K\\x00\\x85\\x94h\\x18\\x87\\x94R\\x94(K\\x01K\\x03\\x85\\x94h \\x89C\\x18\\x8f\\x9e\\x8b\\xe7o\\x90\\xe9?:\\xd0\\x91\\x8b\\xf0J\\xc9?\\x00d\\xed\\x8f\\xf5\\xd3l?\\x94t\\x94b\\x8c\\x10singular_values_\\x94h\\x13h\\x16K\\x00\\x85\\x94h\\x18\\x87\\x94R\\x94(K\\x01K\\x03\\x85\\x94h \\x89C\\x18q\\x1d\\x19\\xbf\\xc1\\xe5\\xcf?\\r\\xb5\\x0e\\xa0H\\xba\\xbf?p\\xe0\\xc59\\xae\\xef\\x90?\\x94t\\x94b\\x8c\\x10_sklearn_version\\x94\\x8c\\x051.0.2\\x94ub.'"
      ]
     },
     "execution_count": 10,
     "metadata": {},
     "output_type": "execute_result"
    }
   ],
   "source": [
    "s = pickle.dumps(model)\n",
    "s"
   ]
  },
  {
   "cell_type": "code",
   "execution_count": 11,
   "id": "8926e151",
   "metadata": {},
   "outputs": [],
   "source": [
    "model2 = pickle.loads(s)"
   ]
  },
  {
   "cell_type": "code",
   "execution_count": 12,
   "id": "b8095e42",
   "metadata": {},
   "outputs": [
    {
     "data": {
      "text/plain": [
       "array([[-0.73975147, -0.60096143, -0.30267658],\n",
       "       [-0.6717263 ,  0.63322042,  0.38446804],\n",
       "       [-0.03938947,  0.48772662, -0.87210734]])"
      ]
     },
     "execution_count": 12,
     "metadata": {},
     "output_type": "execute_result"
    }
   ],
   "source": [
    "model2.components_"
   ]
  },
  {
   "cell_type": "code",
   "execution_count": 13,
   "id": "1209cab2",
   "metadata": {},
   "outputs": [
    {
     "data": {
      "text/plain": [
       "array([[0., 0., 0.],\n",
       "       [0., 0., 0.],\n",
       "       [0., 0., 0.],\n",
       "       [0., 0., 0.],\n",
       "       [0., 0., 0.],\n",
       "       [0., 0., 0.],\n",
       "       [0., 0., 0.],\n",
       "       [0., 0., 0.],\n",
       "       [0., 0., 0.],\n",
       "       [0., 0., 0.]])"
      ]
     },
     "execution_count": 13,
     "metadata": {},
     "output_type": "execute_result"
    }
   ],
   "source": [
    "# get result diffs\n",
    "model.transform(data) - model2.transform(data)"
   ]
  },
  {
   "cell_type": "code",
   "execution_count": null,
   "id": "0802f437",
   "metadata": {},
   "outputs": [],
   "source": []
  }
 ],
 "metadata": {
  "kernelspec": {
   "display_name": "Python 3.10 (system python)",
   "language": "python",
   "name": "python3"
  },
  "language_info": {
   "codemirror_mode": {
    "name": "ipython",
    "version": 3
   },
   "file_extension": ".py",
   "mimetype": "text/x-python",
   "name": "python",
   "nbconvert_exporter": "python",
   "pygments_lexer": "ipython3",
   "version": "3.10.2"
  }
 },
 "nbformat": 4,
 "nbformat_minor": 5
}
