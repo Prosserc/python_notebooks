{
 "cells": [
  {
   "cell_type": "code",
   "execution_count": 1,
   "id": "47dbce43",
   "metadata": {},
   "outputs": [],
   "source": [
    "import numpy as np\n",
    "from sklearn.decomposition import PCA"
   ]
  },
  {
   "cell_type": "code",
   "execution_count": 2,
   "id": "bee7bc2c",
   "metadata": {},
   "outputs": [],
   "source": [
    "data = [[-0.07951900675624138, -0.0748285682810908, -0.040703740206813166],\n",
    " [0.016328440756408213, 0.004389490395726725, 0.007666520377164143],\n",
    " [-0.0062361137515056925, -0.011994705082681426, -0.000811291405063197],\n",
    " [0.014682267264510773, 0.011911646270392484, 0.015667328635023542],\n",
    " [0.07028169214636204, 0.055305150187513086, 0.035307926421490055],\n",
    " [0.10332016952849882, 0.06707424288733213, 0.0303233037983823],\n",
    " [-0.027150928580143063, 0.09716146393786146, 0.05350335812335935],\n",
    " [-0.03922886558703782, 0.06794381985570258, 0.0451626407944985],\n",
    " [0.09362264425185074, 0.09082825768743655, 0.059282029573952316],\n",
    " [0.12050823524757637, 0.09574824302747886, 0.041406367311554115]]"
   ]
  },
  {
   "cell_type": "code",
   "execution_count": 3,
   "id": "6a0d6c5f",
   "metadata": {},
   "outputs": [],
   "source": [
    "model = PCA()"
   ]
  },
  {
   "cell_type": "code",
   "execution_count": 4,
   "id": "0eea3227",
   "metadata": {},
   "outputs": [
    {
     "data": {
      "text/plain": [
       "PCA()"
      ]
     },
     "execution_count": 4,
     "metadata": {},
     "output_type": "execute_result"
    }
   ],
   "source": [
    "model.fit(data)"
   ]
  },
  {
   "cell_type": "code",
   "execution_count": 5,
   "id": "1209cab2",
   "metadata": {},
   "outputs": [
    {
     "data": {
      "text/plain": [
       "array([[ 0.16755719, -0.02675022,  0.00502684],\n",
       "       [ 0.03440636, -0.02237416, -0.00229585],\n",
       "       [ 0.06351083, -0.02085121, -0.00200449],\n",
       "       [ 0.02868194, -0.01342914, -0.00553981],\n",
       "       [-0.04447039, -0.0157479 , -0.00369439],\n",
       "       [-0.0744747 , -0.03240472,  0.00509147],\n",
       "       [-0.00305583,  0.08319999,  0.0046895 ],\n",
       "       [ 0.02596206,  0.06960511, -0.00181098],\n",
       "       [-0.09034131,  0.0002846 , -0.0081962 ],\n",
       "       [-0.10777615, -0.02153235,  0.00873389]])"
      ]
     },
     "execution_count": 5,
     "metadata": {},
     "output_type": "execute_result"
    }
   ],
   "source": [
    "r1 = model.transform(data)\n",
    "r1 # results from sklearn PCA model"
   ]
  },
  {
   "cell_type": "markdown",
   "id": "5651ee3e",
   "metadata": {},
   "source": [
    "## Serilaise model to ONNX"
   ]
  },
  {
   "cell_type": "code",
   "execution_count": 6,
   "id": "e0cd1bf8",
   "metadata": {},
   "outputs": [],
   "source": [
    "from skl2onnx import to_onnx"
   ]
  },
  {
   "cell_type": "code",
   "execution_count": 7,
   "id": "6e481691",
   "metadata": {},
   "outputs": [],
   "source": [
    "data_for_types = np.array(data)\n",
    "onx = to_onnx(model, X=data_for_types)"
   ]
  },
  {
   "cell_type": "code",
   "execution_count": 8,
   "id": "4ad56c52",
   "metadata": {},
   "outputs": [
    {
     "name": "stdout",
     "output_type": "stream",
     "text": [
      "binary representation:\n",
      "b'\\x08\\x08\\x12\\x08skl2onnx\\x1a\\x061.10.4\"\\x07ai.onnx(\\x002\\x00:\\xa1\\x02\\n!\\n\\x01X\\n\\x04mean\\x12\\nsub_result\\x1a\\x03Sub\"\\x03Sub:\\x00\\n:\\n\\nsub_result\\n\\x10transform_matrix\\x12\\x08variable\\x1a\\x06MatMul\"\\x06MatMul:\\x00\\x12\\tONNX(PCA)*b\\x08\\x03\\x08\\x03\\x10\\x0bB\\x10transform_matrixRH\\x9b\\x16\\xebH\\x0b\\xac\\xe7\\xbf\\x8e\\x1d\\x9e(\\xc8~\\xe5\\xbf+\\xeeq4\\xdb*\\xa4\\xbf\\xe0\\x17\\xd2w\\x13;\\xe3\\xbfkT#zWC\\xe4?j\\xfe\\xd5\\xb3\\xe96\\xdf?e\\xb9d\\x99\\r_\\xd3\\xbf\\xcc\\xeaq\\xd1\\x1f\\x9b\\xd8?\\xcc\\x8b8\\xa8M\\xe8\\xeb\\xbf*$\\x08\\x03\\x10\\x0bB\\x04meanR\\x18\\x10\\xbf\\xa3\\x96\\xfbL\\x9b?\\xfa\\x12\\xa7TD\\xa9\\xa4?\\xd5c4\\x95\\xd4E\\x99?Z\\x11\\n\\x01X\\x12\\x0c\\n\\n\\x08\\x0b\\x12\\x06\\n\\x00\\n\\x02\\x08\\x03b\\x18\\n\\x08variable\\x12\\x0c\\n\\n\\x08\\x0b\\x12\\x06\\n\\x00\\n\\x02\\x08\\x03B\\x04\\n\\x00\\x10\\r'\n"
     ]
    }
   ],
   "source": [
    "print(f\"binary representation:\\n{onx.SerializeToString()}\")"
   ]
  },
  {
   "cell_type": "code",
   "execution_count": 9,
   "id": "b821709b",
   "metadata": {},
   "outputs": [
    {
     "name": "stdout",
     "output_type": "stream",
     "text": [
      "Human readable: ir_version: 8\n",
      "producer_name: \"skl2onnx\"\n",
      "producer_version: \"1.10.4\"\n",
      "domain: \"ai.onnx\"\n",
      "model_version: 0\n",
      "doc_string: \"\"\n",
      "graph {\n",
      "  node {\n",
      "    input: \"X\"\n",
      "    input: \"mean\"\n",
      "    output: \"sub_result\"\n",
      "    name: \"Sub\"\n",
      "    op_type: \"Sub\"\n",
      "    domain: \"\"\n",
      "  }\n",
      "  node {\n",
      "    input: \"sub_result\"\n",
      "    input: \"transform_matrix\"\n",
      "    output: \"variable\"\n",
      "    name: \"MatMul\"\n",
      "    op_type: \"MatMul\"\n",
      "    domain: \"\"\n",
      "  }\n",
      "  name: \"ONNX(PCA)\"\n",
      "  initializer {\n",
      "    dims: 3\n",
      "    dims: 3\n",
      "    data_type: 11\n",
      "    name: \"transform_matrix\"\n",
      "    double_data: -0.7397514747796835\n",
      "    double_data: -0.6717263024628879\n",
      "    double_data: -0.03938946738432166\n",
      "    double_data: -0.6009614315269083\n",
      "    double_data: 0.6332204232700297\n",
      "    double_data: 0.48772661745167645\n",
      "    double_data: -0.30267658214406473\n",
      "    double_data: 0.3844680352555485\n",
      "    double_data: -0.8721073422969936\n",
      "  }\n",
      "  initializer {\n",
      "    dims: 3\n",
      "    data_type: 11\n",
      "    name: \"mean\"\n",
      "    double_data: 0.0266608534520279\n",
      "    double_data: 0.040353904088567163\n",
      "    double_data: 0.024680444342354797\n",
      "  }\n",
      "  input {\n",
      "    name: \"X\"\n",
      "    type {\n",
      "      tensor_type {\n",
      "        elem_type: 11\n",
      "        shape {\n",
      "          dim {\n",
      "          }\n",
      "          dim {\n",
      "            dim_value: 3\n",
      "          }\n",
      "        }\n",
      "      }\n",
      "    }\n",
      "  }\n",
      "  output {\n",
      "    name: \"variable\"\n",
      "    type {\n",
      "      tensor_type {\n",
      "        elem_type: 11\n",
      "        shape {\n",
      "          dim {\n",
      "          }\n",
      "          dim {\n",
      "            dim_value: 3\n",
      "          }\n",
      "        }\n",
      "      }\n",
      "    }\n",
      "  }\n",
      "}\n",
      "opset_import {\n",
      "  domain: \"\"\n",
      "  version: 13\n",
      "}\n",
      "\n"
     ]
    }
   ],
   "source": [
    "readble_serialised_onx = repr(onx)\n",
    "print(f\"Human readable: {readble_serialised_onx}\") # not sure how to rebuild from this"
   ]
  },
  {
   "cell_type": "markdown",
   "id": "fcaed6ec",
   "metadata": {},
   "source": [
    "## Apply model (using ONNX runtime)"
   ]
  },
  {
   "cell_type": "code",
   "execution_count": 10,
   "id": "9da9cb36",
   "metadata": {},
   "outputs": [
    {
     "data": {
      "text/plain": [
       "array([[ 0.16755719, -0.02675022,  0.00502684],\n",
       "       [ 0.03440636, -0.02237416, -0.00229585],\n",
       "       [ 0.06351083, -0.02085121, -0.00200449],\n",
       "       [ 0.02868194, -0.01342914, -0.00553981],\n",
       "       [-0.04447039, -0.0157479 , -0.00369439],\n",
       "       [-0.0744747 , -0.03240472,  0.00509147],\n",
       "       [-0.00305583,  0.08319999,  0.0046895 ],\n",
       "       [ 0.02596206,  0.06960511, -0.00181098],\n",
       "       [-0.09034131,  0.0002846 , -0.0081962 ],\n",
       "       [-0.10777615, -0.02153235,  0.00873389]])"
      ]
     },
     "execution_count": 10,
     "metadata": {},
     "output_type": "execute_result"
    }
   ],
   "source": [
    "from onnxruntime import InferenceSession\n",
    "\n",
    "sess = InferenceSession(onx.SerializeToString())\n",
    "r2 = sess.run(None, {'X': data_for_types})[0]\n",
    "r2"
   ]
  },
  {
   "cell_type": "code",
   "execution_count": 11,
   "id": "068415c8",
   "metadata": {},
   "outputs": [
    {
     "data": {
      "text/plain": [
       "array([[0., 0., 0.],\n",
       "       [0., 0., 0.],\n",
       "       [0., 0., 0.],\n",
       "       [0., 0., 0.],\n",
       "       [0., 0., 0.],\n",
       "       [0., 0., 0.],\n",
       "       [0., 0., 0.],\n",
       "       [0., 0., 0.],\n",
       "       [0., 0., 0.],\n",
       "       [0., 0., 0.]])"
      ]
     },
     "execution_count": 11,
     "metadata": {},
     "output_type": "execute_result"
    }
   ],
   "source": [
    "r1 - r2  # get the  diffs"
   ]
  },
  {
   "cell_type": "code",
   "execution_count": null,
   "id": "8264387f",
   "metadata": {},
   "outputs": [],
   "source": []
  }
 ],
 "metadata": {
  "kernelspec": {
   "display_name": "py39",
   "language": "python",
   "name": "py39"
  },
  "language_info": {
   "codemirror_mode": {
    "name": "ipython",
    "version": 3
   },
   "file_extension": ".py",
   "mimetype": "text/x-python",
   "name": "python",
   "nbconvert_exporter": "python",
   "pygments_lexer": "ipython3",
   "version": "3.9.10"
  }
 },
 "nbformat": 4,
 "nbformat_minor": 5
}
