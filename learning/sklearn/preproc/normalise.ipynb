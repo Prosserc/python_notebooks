{
 "cells": [
  {
   "cell_type": "code",
   "execution_count": 1,
   "id": "2fa9b2ec",
   "metadata": {},
   "outputs": [
    {
     "data": {
      "text/plain": [
       "Normalizer(norm='l1')"
      ]
     },
     "execution_count": 1,
     "metadata": {},
     "output_type": "execute_result"
    }
   ],
   "source": [
    "from sklearn.preprocessing import Normalizer\n",
    "data = [[0.1, 0.3], [0.5, 1.5], [1, 1], [0.5, 0.75]]\n",
    "norm = Normalizer(norm='l1')\n",
    "norm.fit(data)"
   ]
  },
  {
   "cell_type": "code",
   "execution_count": 2,
   "id": "ec79abe9",
   "metadata": {},
   "outputs": [
    {
     "name": "stdout",
     "output_type": "stream",
     "text": [
      "[[0.25 0.75]\n",
      " [0.25 0.75]\n",
      " [0.5  0.5 ]\n",
      " [0.4  0.6 ]]\n",
      "0.9999999999999999\n",
      "1.0\n",
      "1.0\n",
      "1.0\n"
     ]
    }
   ],
   "source": [
    "print(norm.transform(data))\n",
    "\n",
    "for row in norm.transform(data):\n",
    "    print(sum(row))"
   ]
  },
  {
   "cell_type": "code",
   "execution_count": 3,
   "id": "47b9161c",
   "metadata": {},
   "outputs": [
    {
     "name": "stdout",
     "output_type": "stream",
     "text": [
      "[[0.5 0.5]]\n"
     ]
    }
   ],
   "source": [
    "print(norm.transform([[2, 2]]))"
   ]
  },
  {
   "cell_type": "code",
   "execution_count": 4,
   "id": "ca230a09",
   "metadata": {},
   "outputs": [
    {
     "name": "stdout",
     "output_type": "stream",
     "text": [
      "[[0.90909091 0.09090909]]\n"
     ]
    }
   ],
   "source": [
    "print(norm.transform([[20, 2]]))"
   ]
  },
  {
   "cell_type": "code",
   "execution_count": 5,
   "id": "b6ffa9e9",
   "metadata": {},
   "outputs": [
    {
     "name": "stdout",
     "output_type": "stream",
     "text": [
      "[[-0.5  0.5]]\n"
     ]
    }
   ],
   "source": [
    "print(norm.transform([[-10, 10]]))"
   ]
  },
  {
   "cell_type": "code",
   "execution_count": 6,
   "id": "1acdbe8e",
   "metadata": {},
   "outputs": [
    {
     "name": "stdout",
     "output_type": "stream",
     "text": [
      "[[0.4 0.6]]\n"
     ]
    }
   ],
   "source": [
    "print(norm.transform([[0.5, 0.75]]))"
   ]
  },
  {
   "cell_type": "code",
   "execution_count": null,
   "id": "fab400de",
   "metadata": {},
   "outputs": [],
   "source": []
  }
 ],
 "metadata": {
  "kernelspec": {
   "display_name": "Python 3.10 (system python)",
   "language": "python",
   "name": "python3"
  },
  "language_info": {
   "codemirror_mode": {
    "name": "ipython",
    "version": 3
   },
   "file_extension": ".py",
   "mimetype": "text/x-python",
   "name": "python",
   "nbconvert_exporter": "python",
   "pygments_lexer": "ipython3",
   "version": "3.10.5"
  }
 },
 "nbformat": 4,
 "nbformat_minor": 5
}
