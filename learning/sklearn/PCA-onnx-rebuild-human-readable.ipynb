{
 "cells": [
  {
   "cell_type": "code",
   "execution_count": 1,
   "id": "47dbce43",
   "metadata": {},
   "outputs": [],
   "source": [
    "import numpy as np\n",
    "from sklearn.decomposition import PCA"
   ]
  },
  {
   "cell_type": "code",
   "execution_count": 2,
   "id": "bee7bc2c",
   "metadata": {},
   "outputs": [],
   "source": [
    "data = [[-0.07951900675624138, -0.0748285682810908, -0.040703740206813166],\n",
    " [0.016328440756408213, 0.004389490395726725, 0.007666520377164143],\n",
    " [-0.0062361137515056925, -0.011994705082681426, -0.000811291405063197],\n",
    " [0.014682267264510773, 0.011911646270392484, 0.015667328635023542],\n",
    " [0.07028169214636204, 0.055305150187513086, 0.035307926421490055],\n",
    " [0.10332016952849882, 0.06707424288733213, 0.0303233037983823],\n",
    " [-0.027150928580143063, 0.09716146393786146, 0.05350335812335935],\n",
    " [-0.03922886558703782, 0.06794381985570258, 0.0451626407944985],\n",
    " [0.09362264425185074, 0.09082825768743655, 0.059282029573952316],\n",
    " [0.12050823524757637, 0.09574824302747886, 0.041406367311554115]]"
   ]
  },
  {
   "cell_type": "code",
   "execution_count": 3,
   "id": "6a0d6c5f",
   "metadata": {},
   "outputs": [],
   "source": [
    "model = PCA()"
   ]
  },
  {
   "cell_type": "code",
   "execution_count": 4,
   "id": "0eea3227",
   "metadata": {},
   "outputs": [
    {
     "data": {
      "text/plain": [
       "PCA()"
      ]
     },
     "execution_count": 4,
     "metadata": {},
     "output_type": "execute_result"
    }
   ],
   "source": [
    "model.fit(data)"
   ]
  },
  {
   "cell_type": "code",
   "execution_count": 5,
   "id": "1209cab2",
   "metadata": {},
   "outputs": [
    {
     "data": {
      "text/plain": [
       "array([[ 0.16755719, -0.02675022,  0.00502684],\n",
       "       [ 0.03440636, -0.02237416, -0.00229585],\n",
       "       [ 0.06351083, -0.02085121, -0.00200449],\n",
       "       [ 0.02868194, -0.01342914, -0.00553981],\n",
       "       [-0.04447039, -0.0157479 , -0.00369439],\n",
       "       [-0.0744747 , -0.03240472,  0.00509147],\n",
       "       [-0.00305583,  0.08319999,  0.0046895 ],\n",
       "       [ 0.02596206,  0.06960511, -0.00181098],\n",
       "       [-0.09034131,  0.0002846 , -0.0081962 ],\n",
       "       [-0.10777615, -0.02153235,  0.00873389]])"
      ]
     },
     "execution_count": 5,
     "metadata": {},
     "output_type": "execute_result"
    }
   ],
   "source": [
    "r1 = model.transform(data)\n",
    "r1 # results from sklearn PCA model"
   ]
  },
  {
   "cell_type": "markdown",
   "id": "5651ee3e",
   "metadata": {},
   "source": [
    "## Serilaise model to ONNX"
   ]
  },
  {
   "cell_type": "code",
   "execution_count": 6,
   "id": "e0cd1bf8",
   "metadata": {},
   "outputs": [],
   "source": [
    "from skl2onnx import to_onnx"
   ]
  },
  {
   "cell_type": "code",
   "execution_count": 7,
   "id": "6e481691",
   "metadata": {},
   "outputs": [],
   "source": [
    "data_for_types = np.array(data)\n",
    "onx = to_onnx(model, X=data_for_types)"
   ]
  },
  {
   "cell_type": "code",
   "execution_count": 8,
   "id": "4ad56c52",
   "metadata": {},
   "outputs": [
    {
     "name": "stdout",
     "output_type": "stream",
     "text": [
      "binary representation:\n",
      "b'\\x08\\x08\\x12\\x08skl2onnx\\x1a\\x061.10.4\"\\x07ai.onnx(\\x002\\x00:\\xa1\\x02\\n!\\n\\x01X\\n\\x04mean\\x12\\nsub_result\\x1a\\x03Sub\"\\x03Sub:\\x00\\n:\\n\\nsub_result\\n\\x10transform_matrix\\x12\\x08variable\\x1a\\x06MatMul\"\\x06MatMul:\\x00\\x12\\tONNX(PCA)*b\\x08\\x03\\x08\\x03\\x10\\x0bB\\x10transform_matrixRH\\x9b\\x16\\xebH\\x0b\\xac\\xe7\\xbf\\x8e\\x1d\\x9e(\\xc8~\\xe5\\xbf+\\xeeq4\\xdb*\\xa4\\xbf\\xe0\\x17\\xd2w\\x13;\\xe3\\xbfkT#zWC\\xe4?j\\xfe\\xd5\\xb3\\xe96\\xdf?e\\xb9d\\x99\\r_\\xd3\\xbf\\xcc\\xeaq\\xd1\\x1f\\x9b\\xd8?\\xcc\\x8b8\\xa8M\\xe8\\xeb\\xbf*$\\x08\\x03\\x10\\x0bB\\x04meanR\\x18\\x10\\xbf\\xa3\\x96\\xfbL\\x9b?\\xfa\\x12\\xa7TD\\xa9\\xa4?\\xd5c4\\x95\\xd4E\\x99?Z\\x11\\n\\x01X\\x12\\x0c\\n\\n\\x08\\x0b\\x12\\x06\\n\\x00\\n\\x02\\x08\\x03b\\x18\\n\\x08variable\\x12\\x0c\\n\\n\\x08\\x0b\\x12\\x06\\n\\x00\\n\\x02\\x08\\x03B\\x04\\n\\x00\\x10\\r'\n"
     ]
    }
   ],
   "source": [
    "print(f\"binary representation:\\n{onx.SerializeToString()}\")"
   ]
  },
  {
   "cell_type": "code",
   "execution_count": 15,
   "id": "b821709b",
   "metadata": {},
   "outputs": [
    {
     "name": "stdout",
     "output_type": "stream",
     "text": [
      "Human readable: ir_version: 8\n",
      "producer_name: \"skl2onnx\"\n",
      "producer_version: \"1.10.4\"\n",
      "domain: \"ai.onnx\"\n",
      "model_version: 0\n",
      "doc_string: \"\"\n",
      "graph {\n",
      "  node {\n",
      "    input: \"X\"\n",
      "    input: \"mean\"\n",
      "    output: \"sub_result\"\n",
      "    name: \"Sub\"\n",
      "    op_type: \"Sub\"\n",
      "    domain: \"\"\n",
      "  }\n",
      "  node {\n",
      "    input: \"sub_result\"\n",
      "    input: \"transform_matrix\"\n",
      "    output: \"variable\"\n",
      "    name: \"MatMul\"\n",
      "    op_type: \"MatMul\"\n",
      "    domain: \"\"\n",
      "  }\n",
      "  name: \"ONNX(PCA)\"\n",
      "  initializer {\n",
      "    dims: 3\n",
      "    dims: 3\n",
      "    data_type: 11\n",
      "    name: \"transform_matrix\"\n",
      "    double_data: -0.7397514747796835\n",
      "    double_data: -0.6717263024628879\n",
      "    double_data: -0.03938946738432166\n",
      "    double_data: -0.6009614315269083\n",
      "    double_data: 0.6332204232700297\n",
      "    double_data: 0.48772661745167645\n",
      "    double_data: -0.30267658214406473\n",
      "    double_data: 0.3844680352555485\n",
      "    double_data: -0.8721073422969936\n",
      "  }\n",
      "  initializer {\n",
      "    dims: 3\n",
      "    data_type: 11\n",
      "    name: \"mean\"\n",
      "    double_data: 0.0266608534520279\n",
      "    double_data: 0.040353904088567163\n",
      "    double_data: 0.024680444342354797\n",
      "  }\n",
      "  input {\n",
      "    name: \"X\"\n",
      "    type {\n",
      "      tensor_type {\n",
      "        elem_type: 11\n",
      "        shape {\n",
      "          dim {\n",
      "          }\n",
      "          dim {\n",
      "            dim_value: 3\n",
      "          }\n",
      "        }\n",
      "      }\n",
      "    }\n",
      "  }\n",
      "  output {\n",
      "    name: \"variable\"\n",
      "    type {\n",
      "      tensor_type {\n",
      "        elem_type: 11\n",
      "        shape {\n",
      "          dim {\n",
      "          }\n",
      "          dim {\n",
      "            dim_value: 3\n",
      "          }\n",
      "        }\n",
      "      }\n",
      "    }\n",
      "  }\n",
      "}\n",
      "opset_import {\n",
      "  domain: \"\"\n",
      "  version: 13\n",
      "}\n",
      "\n"
     ]
    }
   ],
   "source": [
    "readble_serialised_onx = repr(onx)\n",
    "print(f\"Human readable: {readble_serialised_onx}\")"
   ]
  },
  {
   "cell_type": "code",
   "execution_count": 16,
   "id": "2de38aa5",
   "metadata": {},
   "outputs": [],
   "source": [
    "from onnx.onnx_ml_pb2 import ModelProto\n"
   ]
  },
  {
   "cell_type": "code",
   "execution_count": 18,
   "id": "52d5a96b",
   "metadata": {},
   "outputs": [
    {
     "name": "stdout",
     "output_type": "stream",
     "text": [
      "Help on class ModelProto in module onnx.onnx_ml_pb2:\n",
      "\n",
      "class ModelProto(google.protobuf.pyext._message.CMessage, google.protobuf.message.Message)\n",
      " |  Method resolution order:\n",
      " |      ModelProto\n",
      " |      google.protobuf.pyext._message.CMessage\n",
      " |      google.protobuf.message.Message\n",
      " |      builtins.object\n",
      " |  \n",
      " |  Data descriptors defined here:\n",
      " |  \n",
      " |  doc_string\n",
      " |      Field onnx.ModelProto.doc_string\n",
      " |  \n",
      " |  domain\n",
      " |      Field onnx.ModelProto.domain\n",
      " |  \n",
      " |  functions\n",
      " |      Field onnx.ModelProto.functions\n",
      " |  \n",
      " |  graph\n",
      " |      Field onnx.ModelProto.graph\n",
      " |  \n",
      " |  ir_version\n",
      " |      Field onnx.ModelProto.ir_version\n",
      " |  \n",
      " |  metadata_props\n",
      " |      Field onnx.ModelProto.metadata_props\n",
      " |  \n",
      " |  model_version\n",
      " |      Field onnx.ModelProto.model_version\n",
      " |  \n",
      " |  opset_import\n",
      " |      Field onnx.ModelProto.opset_import\n",
      " |  \n",
      " |  producer_name\n",
      " |      Field onnx.ModelProto.producer_name\n",
      " |  \n",
      " |  producer_version\n",
      " |      Field onnx.ModelProto.producer_version\n",
      " |  \n",
      " |  training_info\n",
      " |      Field onnx.ModelProto.training_info\n",
      " |  \n",
      " |  ----------------------------------------------------------------------\n",
      " |  Data and other attributes defined here:\n",
      " |  \n",
      " |  DESCRIPTOR = <google.protobuf.pyext._message.MessageDescriptor object>\n",
      " |  \n",
      " |  ----------------------------------------------------------------------\n",
      " |  Methods inherited from google.protobuf.pyext._message.CMessage:\n",
      " |  \n",
      " |  ByteSize(...)\n",
      " |      Returns the size of the message in bytes.\n",
      " |  \n",
      " |  Clear(...)\n",
      " |      Clears the message.\n",
      " |  \n",
      " |  ClearExtension(...)\n",
      " |      Clears a message field.\n",
      " |  \n",
      " |  ClearField(...)\n",
      " |      Clears a message field.\n",
      " |  \n",
      " |  CopyFrom(...)\n",
      " |      Copies a protocol message into the current message.\n",
      " |  \n",
      " |  DiscardUnknownFields(...)\n",
      " |      Discards the unknown fields.\n",
      " |  \n",
      " |  FindInitializationErrors(...)\n",
      " |      Finds unset required fields.\n",
      " |  \n",
      " |  HasExtension(...)\n",
      " |      Checks if a message field is set.\n",
      " |  \n",
      " |  HasField(...)\n",
      " |      Checks if a message field is set.\n",
      " |  \n",
      " |  IsInitialized(...)\n",
      " |      Checks if all required fields of a protocol message are set.\n",
      " |  \n",
      " |  ListFields(...)\n",
      " |      Lists all set fields of a message.\n",
      " |  \n",
      " |  MergeFrom(...)\n",
      " |      Merges a protocol message into the current message.\n",
      " |  \n",
      " |  MergeFromString(...)\n",
      " |      Merges a serialized message into the current message.\n",
      " |  \n",
      " |  ParseFromString(...)\n",
      " |      Parses a serialized message into the current message.\n",
      " |  \n",
      " |  SerializePartialToString(...)\n",
      " |      Serializes the message to a string, even if it isn't initialized.\n",
      " |  \n",
      " |  SerializeToString(...)\n",
      " |      Serializes the message to a string, only for initialized messages.\n",
      " |  \n",
      " |  SetInParent(...)\n",
      " |      Sets the has bit of the given field in its parent message.\n",
      " |  \n",
      " |  UnknownFields(...)\n",
      " |      Parse unknown field set\n",
      " |  \n",
      " |  WhichOneof(...)\n",
      " |      Returns the name of the field set inside a oneof, or None if no field is set.\n",
      " |  \n",
      " |  __deepcopy__(...)\n",
      " |      Makes a deep copy of the class.\n",
      " |  \n",
      " |  __eq__(self, value, /)\n",
      " |      Return self==value.\n",
      " |  \n",
      " |  __ge__(self, value, /)\n",
      " |      Return self>=value.\n",
      " |  \n",
      " |  __getattribute__(self, name, /)\n",
      " |      Return getattr(self, name).\n",
      " |  \n",
      " |  __gt__(self, value, /)\n",
      " |      Return self>value.\n",
      " |  \n",
      " |  __hash__(self, /)\n",
      " |      Return hash(self).\n",
      " |  \n",
      " |  __init__(self, /, *args, **kwargs)\n",
      " |      Initialize self.  See help(type(self)) for accurate signature.\n",
      " |  \n",
      " |  __le__(self, value, /)\n",
      " |      Return self<=value.\n",
      " |  \n",
      " |  __lt__(self, value, /)\n",
      " |      Return self<value.\n",
      " |  \n",
      " |  __ne__(self, value, /)\n",
      " |      Return self!=value.\n",
      " |  \n",
      " |  __repr__(self, /)\n",
      " |      Return repr(self).\n",
      " |  \n",
      " |  __str__(self, /)\n",
      " |      Return str(self).\n",
      " |  \n",
      " |  __unicode__(...)\n",
      " |      Outputs a unicode representation of the message.\n",
      " |  \n",
      " |  ----------------------------------------------------------------------\n",
      " |  Class methods inherited from google.protobuf.pyext._message.CMessage:\n",
      " |  \n",
      " |  FromString(...) from google.protobuf.pyext.cpp_message.GeneratedProtocolMessageType\n",
      " |      Creates new method instance from given serialized data.\n",
      " |  \n",
      " |  RegisterExtension(...) from google.protobuf.pyext.cpp_message.GeneratedProtocolMessageType\n",
      " |      Registers an extension with the current message.\n",
      " |  \n",
      " |  ----------------------------------------------------------------------\n",
      " |  Static methods inherited from google.protobuf.pyext._message.CMessage:\n",
      " |  \n",
      " |  __new__(*args, **kwargs) from google.protobuf.pyext._message.MessageMeta\n",
      " |      Create and return a new object.  See help(type) for accurate signature.\n",
      " |  \n",
      " |  ----------------------------------------------------------------------\n",
      " |  Data descriptors inherited from google.protobuf.pyext._message.CMessage:\n",
      " |  \n",
      " |  Extensions\n",
      " |      Extension dict\n",
      " |  \n",
      " |  ----------------------------------------------------------------------\n",
      " |  Methods inherited from google.protobuf.message.Message:\n",
      " |  \n",
      " |  __getstate__(self)\n",
      " |      Support the pickle protocol.\n",
      " |  \n",
      " |  __reduce__(self)\n",
      " |      Helper for pickle.\n",
      " |  \n",
      " |  __setstate__(self, state)\n",
      " |      Support the pickle protocol.\n",
      "\n"
     ]
    }
   ],
   "source": [
    "help(ModelProto)"
   ]
  },
  {
   "cell_type": "code",
   "execution_count": 22,
   "id": "5dc637dc",
   "metadata": {},
   "outputs": [],
   "source": [
    "oxn_rebuilt = ModelProto()"
   ]
  },
  {
   "cell_type": "code",
   "execution_count": 23,
   "id": "ef180062",
   "metadata": {},
   "outputs": [
    {
     "ename": "TypeError",
     "evalue": "descriptor 'ParseFromString' for 'google.protobuf.pyext._message.CMessage' objects doesn't apply to a 'str' object",
     "output_type": "error",
     "traceback": [
      "\u001b[1;31m---------------------------------------------------------------------------\u001b[0m",
      "\u001b[1;31mTypeError\u001b[0m                                 Traceback (most recent call last)",
      "Input \u001b[1;32mIn [23]\u001b[0m, in \u001b[0;36m<module>\u001b[1;34m\u001b[0m\n\u001b[1;32m----> 1\u001b[0m \u001b[43mModelProto\u001b[49m\u001b[38;5;241;43m.\u001b[39;49m\u001b[43mParseFromString\u001b[49m\u001b[43m(\u001b[49m\u001b[43mreadble_serialised_onx\u001b[49m\u001b[43m)\u001b[49m\n",
      "\u001b[1;31mTypeError\u001b[0m: descriptor 'ParseFromString' for 'google.protobuf.pyext._message.CMessage' objects doesn't apply to a 'str' object"
     ]
    }
   ],
   "source": [
    "ModelProto.ParseFromString(readble_serialised_onx)"
   ]
  },
  {
   "cell_type": "code",
   "execution_count": 25,
   "id": "fcb955e4",
   "metadata": {},
   "outputs": [
    {
     "ename": "JSONDecodeError",
     "evalue": "Expecting value: line 1 column 1 (char 0)",
     "output_type": "error",
     "traceback": [
      "\u001b[1;31m---------------------------------------------------------------------------\u001b[0m",
      "\u001b[1;31mJSONDecodeError\u001b[0m                           Traceback (most recent call last)",
      "Input \u001b[1;32mIn [25]\u001b[0m, in \u001b[0;36m<module>\u001b[1;34m\u001b[0m\n\u001b[0;32m      1\u001b[0m \u001b[38;5;28;01mimport\u001b[39;00m \u001b[38;5;21;01mjson\u001b[39;00m\n\u001b[1;32m----> 2\u001b[0m x \u001b[38;5;241m=\u001b[39m \u001b[43mjson\u001b[49m\u001b[38;5;241;43m.\u001b[39;49m\u001b[43mloads\u001b[49m\u001b[43m(\u001b[49m\u001b[43mreadble_serialised_onx\u001b[49m\u001b[43m)\u001b[49m\n\u001b[0;32m      3\u001b[0m x\n",
      "File \u001b[1;32m~\\AppData\\Local\\Programs\\Python\\Python39\\lib\\json\\__init__.py:346\u001b[0m, in \u001b[0;36mloads\u001b[1;34m(s, cls, object_hook, parse_float, parse_int, parse_constant, object_pairs_hook, **kw)\u001b[0m\n\u001b[0;32m    341\u001b[0m     s \u001b[38;5;241m=\u001b[39m s\u001b[38;5;241m.\u001b[39mdecode(detect_encoding(s), \u001b[38;5;124m'\u001b[39m\u001b[38;5;124msurrogatepass\u001b[39m\u001b[38;5;124m'\u001b[39m)\n\u001b[0;32m    343\u001b[0m \u001b[38;5;28;01mif\u001b[39;00m (\u001b[38;5;28mcls\u001b[39m \u001b[38;5;129;01mis\u001b[39;00m \u001b[38;5;28;01mNone\u001b[39;00m \u001b[38;5;129;01mand\u001b[39;00m object_hook \u001b[38;5;129;01mis\u001b[39;00m \u001b[38;5;28;01mNone\u001b[39;00m \u001b[38;5;129;01mand\u001b[39;00m\n\u001b[0;32m    344\u001b[0m         parse_int \u001b[38;5;129;01mis\u001b[39;00m \u001b[38;5;28;01mNone\u001b[39;00m \u001b[38;5;129;01mand\u001b[39;00m parse_float \u001b[38;5;129;01mis\u001b[39;00m \u001b[38;5;28;01mNone\u001b[39;00m \u001b[38;5;129;01mand\u001b[39;00m\n\u001b[0;32m    345\u001b[0m         parse_constant \u001b[38;5;129;01mis\u001b[39;00m \u001b[38;5;28;01mNone\u001b[39;00m \u001b[38;5;129;01mand\u001b[39;00m object_pairs_hook \u001b[38;5;129;01mis\u001b[39;00m \u001b[38;5;28;01mNone\u001b[39;00m \u001b[38;5;129;01mand\u001b[39;00m \u001b[38;5;129;01mnot\u001b[39;00m kw):\n\u001b[1;32m--> 346\u001b[0m     \u001b[38;5;28;01mreturn\u001b[39;00m \u001b[43m_default_decoder\u001b[49m\u001b[38;5;241;43m.\u001b[39;49m\u001b[43mdecode\u001b[49m\u001b[43m(\u001b[49m\u001b[43ms\u001b[49m\u001b[43m)\u001b[49m\n\u001b[0;32m    347\u001b[0m \u001b[38;5;28;01mif\u001b[39;00m \u001b[38;5;28mcls\u001b[39m \u001b[38;5;129;01mis\u001b[39;00m \u001b[38;5;28;01mNone\u001b[39;00m:\n\u001b[0;32m    348\u001b[0m     \u001b[38;5;28mcls\u001b[39m \u001b[38;5;241m=\u001b[39m JSONDecoder\n",
      "File \u001b[1;32m~\\AppData\\Local\\Programs\\Python\\Python39\\lib\\json\\decoder.py:337\u001b[0m, in \u001b[0;36mJSONDecoder.decode\u001b[1;34m(self, s, _w)\u001b[0m\n\u001b[0;32m    332\u001b[0m \u001b[38;5;28;01mdef\u001b[39;00m \u001b[38;5;21mdecode\u001b[39m(\u001b[38;5;28mself\u001b[39m, s, _w\u001b[38;5;241m=\u001b[39mWHITESPACE\u001b[38;5;241m.\u001b[39mmatch):\n\u001b[0;32m    333\u001b[0m     \u001b[38;5;124;03m\"\"\"Return the Python representation of ``s`` (a ``str`` instance\u001b[39;00m\n\u001b[0;32m    334\u001b[0m \u001b[38;5;124;03m    containing a JSON document).\u001b[39;00m\n\u001b[0;32m    335\u001b[0m \n\u001b[0;32m    336\u001b[0m \u001b[38;5;124;03m    \"\"\"\u001b[39;00m\n\u001b[1;32m--> 337\u001b[0m     obj, end \u001b[38;5;241m=\u001b[39m \u001b[38;5;28;43mself\u001b[39;49m\u001b[38;5;241;43m.\u001b[39;49m\u001b[43mraw_decode\u001b[49m\u001b[43m(\u001b[49m\u001b[43ms\u001b[49m\u001b[43m,\u001b[49m\u001b[43m \u001b[49m\u001b[43midx\u001b[49m\u001b[38;5;241;43m=\u001b[39;49m\u001b[43m_w\u001b[49m\u001b[43m(\u001b[49m\u001b[43ms\u001b[49m\u001b[43m,\u001b[49m\u001b[43m \u001b[49m\u001b[38;5;241;43m0\u001b[39;49m\u001b[43m)\u001b[49m\u001b[38;5;241;43m.\u001b[39;49m\u001b[43mend\u001b[49m\u001b[43m(\u001b[49m\u001b[43m)\u001b[49m\u001b[43m)\u001b[49m\n\u001b[0;32m    338\u001b[0m     end \u001b[38;5;241m=\u001b[39m _w(s, end)\u001b[38;5;241m.\u001b[39mend()\n\u001b[0;32m    339\u001b[0m     \u001b[38;5;28;01mif\u001b[39;00m end \u001b[38;5;241m!=\u001b[39m \u001b[38;5;28mlen\u001b[39m(s):\n",
      "File \u001b[1;32m~\\AppData\\Local\\Programs\\Python\\Python39\\lib\\json\\decoder.py:355\u001b[0m, in \u001b[0;36mJSONDecoder.raw_decode\u001b[1;34m(self, s, idx)\u001b[0m\n\u001b[0;32m    353\u001b[0m     obj, end \u001b[38;5;241m=\u001b[39m \u001b[38;5;28mself\u001b[39m\u001b[38;5;241m.\u001b[39mscan_once(s, idx)\n\u001b[0;32m    354\u001b[0m \u001b[38;5;28;01mexcept\u001b[39;00m \u001b[38;5;167;01mStopIteration\u001b[39;00m \u001b[38;5;28;01mas\u001b[39;00m err:\n\u001b[1;32m--> 355\u001b[0m     \u001b[38;5;28;01mraise\u001b[39;00m JSONDecodeError(\u001b[38;5;124m\"\u001b[39m\u001b[38;5;124mExpecting value\u001b[39m\u001b[38;5;124m\"\u001b[39m, s, err\u001b[38;5;241m.\u001b[39mvalue) \u001b[38;5;28;01mfrom\u001b[39;00m \u001b[38;5;28mNone\u001b[39m\n\u001b[0;32m    356\u001b[0m \u001b[38;5;28;01mreturn\u001b[39;00m obj, end\n",
      "\u001b[1;31mJSONDecodeError\u001b[0m: Expecting value: line 1 column 1 (char 0)"
     ]
    }
   ],
   "source": [
    "import json\n",
    "x = json.loads(readble_serialised_onx)\n",
    "x"
   ]
  },
  {
   "cell_type": "code",
   "execution_count": null,
   "id": "74527e50",
   "metadata": {},
   "outputs": [],
   "source": []
  }
 ],
 "metadata": {
  "kernelspec": {
   "display_name": "py39",
   "language": "python",
   "name": "py39"
  },
  "language_info": {
   "codemirror_mode": {
    "name": "ipython",
    "version": 3
   },
   "file_extension": ".py",
   "mimetype": "text/x-python",
   "name": "python",
   "nbconvert_exporter": "python",
   "pygments_lexer": "ipython3",
   "version": "3.9.10"
  }
 },
 "nbformat": 4,
 "nbformat_minor": 5
}
