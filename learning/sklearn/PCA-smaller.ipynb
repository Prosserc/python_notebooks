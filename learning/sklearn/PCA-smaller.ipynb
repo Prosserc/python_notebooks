{
 "cells": [
  {
   "cell_type": "code",
   "execution_count": 1,
   "id": "47dbce43",
   "metadata": {},
   "outputs": [],
   "source": [
    "from sklearn.decomposition import PCA"
   ]
  },
  {
   "cell_type": "code",
   "execution_count": 2,
   "id": "bee7bc2c",
   "metadata": {},
   "outputs": [],
   "source": [
    "data = [[-0.07951900675624138, -0.0748285682810908, -0.040703740206813166],\n",
    " [0.016328440756408213, 0.004389490395726725, 0.007666520377164143],\n",
    " [-0.0062361137515056925, -0.011994705082681426, -0.000811291405063197],\n",
    " [0.014682267264510773, 0.011911646270392484, 0.015667328635023542],\n",
    " [0.07028169214636204, 0.055305150187513086, 0.035307926421490055],\n",
    " [0.10332016952849882, 0.06707424288733213, 0.0303233037983823],\n",
    " [-0.027150928580143063, 0.09716146393786146, 0.05350335812335935],\n",
    " [-0.03922886558703782, 0.06794381985570258, 0.0451626407944985],\n",
    " [0.09362264425185074, 0.09082825768743655, 0.059282029573952316],\n",
    " [0.12050823524757637, 0.09574824302747886, 0.041406367311554115]]"
   ]
  },
  {
   "cell_type": "code",
   "execution_count": 3,
   "id": "6a0d6c5f",
   "metadata": {},
   "outputs": [],
   "source": [
    "model = PCA()"
   ]
  },
  {
   "cell_type": "code",
   "execution_count": 4,
   "id": "0eea3227",
   "metadata": {},
   "outputs": [
    {
     "data": {
      "text/plain": [
       "PCA()"
      ]
     },
     "execution_count": 4,
     "metadata": {},
     "output_type": "execute_result"
    }
   ],
   "source": [
    "model.fit(data)"
   ]
  },
  {
   "cell_type": "code",
   "execution_count": 5,
   "id": "556b76b9",
   "metadata": {},
   "outputs": [
    {
     "data": {
      "text/plain": [
       "array([[-0.73975147, -0.60096143, -0.30267658],\n",
       "       [-0.6717263 ,  0.63322042,  0.38446804]])"
      ]
     },
     "execution_count": 5,
     "metadata": {},
     "output_type": "execute_result"
    }
   ],
   "source": [
    "model.components_[0:2]  # first two component eigenvectors"
   ]
  },
  {
   "cell_type": "code",
   "execution_count": 6,
   "id": "21e84a4c",
   "metadata": {},
   "outputs": [
    {
     "data": {
      "text/plain": [
       "array([0.24919912, 0.12393621, 0.01653931])"
      ]
     },
     "execution_count": 6,
     "metadata": {},
     "output_type": "execute_result"
    }
   ],
   "source": [
    "model.singular_values_"
   ]
  },
  {
   "cell_type": "code",
   "execution_count": 7,
   "id": "1209cab2",
   "metadata": {},
   "outputs": [
    {
     "name": "stdout",
     "output_type": "stream",
     "text": [
      "[ 0.16755719 -0.02675022  0.00502684]\n"
     ]
    }
   ],
   "source": [
    "r1 = model.transform(data)\n",
    "print(r1[0])  # print first row"
   ]
  },
  {
   "cell_type": "code",
   "execution_count": 8,
   "id": "e83479e1",
   "metadata": {},
   "outputs": [],
   "source": [
    "# try rebuilding a model from the data in the first model & using it to apply\n",
    "m2 = PCA()  # can't just pass compents_ etc in on constructor  - gets an erro\n",
    "m2.components_ = model.components_\n",
    "m2.singular_values_ = model.singular_values_\n",
    "m2.mean_ = model.mean_\n",
    "# don't need explained_varience_ratio in order to apply model (incl anyway?)"
   ]
  },
  {
   "cell_type": "code",
   "execution_count": 9,
   "id": "e87af14c",
   "metadata": {},
   "outputs": [
    {
     "name": "stdout",
     "output_type": "stream",
     "text": [
      "[ 0.16755719 -0.02675022  0.00502684]\n"
     ]
    }
   ],
   "source": [
    "r2 = m2.transform(data)\n",
    "print(r2[0])  # print first row"
   ]
  },
  {
   "cell_type": "code",
   "execution_count": 10,
   "id": "14566510",
   "metadata": {},
   "outputs": [
    {
     "data": {
      "text/plain": [
       "array([[ True,  True,  True],\n",
       "       [ True,  True,  True],\n",
       "       [ True,  True,  True],\n",
       "       [ True,  True,  True],\n",
       "       [ True,  True,  True],\n",
       "       [ True,  True,  True],\n",
       "       [ True,  True,  True],\n",
       "       [ True,  True,  True],\n",
       "       [ True,  True,  True],\n",
       "       [ True,  True,  True]])"
      ]
     },
     "execution_count": 10,
     "metadata": {},
     "output_type": "execute_result"
    }
   ],
   "source": [
    "r1 == r2"
   ]
  },
  {
   "cell_type": "code",
   "execution_count": null,
   "id": "e0cd1bf8",
   "metadata": {},
   "outputs": [],
   "source": []
  }
 ],
 "metadata": {
  "kernelspec": {
   "display_name": "Python 3 (ipykernel)",
   "language": "python",
   "name": "python3"
  },
  "language_info": {
   "codemirror_mode": {
    "name": "ipython",
    "version": 3
   },
   "file_extension": ".py",
   "mimetype": "text/x-python",
   "name": "python",
   "nbconvert_exporter": "python",
   "pygments_lexer": "ipython3",
   "version": "3.10.2"
  }
 },
 "nbformat": 4,
 "nbformat_minor": 5
}
