{
 "cells": [
  {
   "cell_type": "code",
   "execution_count": 1,
   "id": "47dbce43",
   "metadata": {},
   "outputs": [],
   "source": [
    "from sklearn.decomposition import PCA"
   ]
  },
  {
   "cell_type": "code",
   "execution_count": 2,
   "id": "bee7bc2c",
   "metadata": {},
   "outputs": [],
   "source": [
    "data = [[-0.07951900675624138, -0.0748285682810908, -0.040703740206813166],\n",
    " [0.016328440756408213, 0.004389490395726725, 0.007666520377164143],\n",
    " [-0.0062361137515056925, -0.011994705082681426, -0.000811291405063197],\n",
    " [0.014682267264510773, 0.011911646270392484, 0.015667328635023542],\n",
    " [0.07028169214636204, 0.055305150187513086, 0.035307926421490055],]"
   ]
  },
  {
   "cell_type": "code",
   "execution_count": 3,
   "id": "6a0d6c5f",
   "metadata": {},
   "outputs": [],
   "source": [
    "model = PCA()"
   ]
  },
  {
   "cell_type": "code",
   "execution_count": 4,
   "id": "0eea3227",
   "metadata": {},
   "outputs": [
    {
     "data": {
      "text/plain": [
       "PCA()"
      ]
     },
     "execution_count": 4,
     "metadata": {},
     "output_type": "execute_result"
    }
   ],
   "source": [
    "model.fit(data)"
   ]
  },
  {
   "cell_type": "code",
   "execution_count": 5,
   "id": "556b76b9",
   "metadata": {},
   "outputs": [
    {
     "data": {
      "text/plain": [
       "array([[-0.70240484, -0.61253106, -0.36253709],\n",
       "       [-0.62349643,  0.28380626,  0.72849585],\n",
       "       [ 0.34333604, -0.7377396 ,  0.58125782]])"
      ]
     },
     "execution_count": 5,
     "metadata": {},
     "output_type": "execute_result"
    }
   ],
   "source": [
    "model.components_"
   ]
  },
  {
   "cell_type": "code",
   "execution_count": 6,
   "id": "21e84a4c",
   "metadata": {},
   "outputs": [
    {
     "data": {
      "text/plain": [
       "array([0.15409567, 0.00707542, 0.00253296])"
      ]
     },
     "execution_count": 6,
     "metadata": {},
     "output_type": "execute_result"
    }
   ],
   "source": [
    "model.singular_values_"
   ]
  },
  {
   "cell_type": "code",
   "execution_count": 7,
   "id": "1209cab2",
   "metadata": {},
   "outputs": [
    {
     "data": {
      "text/plain": [
       "array([[ 1.18006306e-01, -1.00363450e-03, -1.06025747e-03],\n",
       "       [-1.53769403e-02, -3.04406087e-03,  1.52091918e-03],\n",
       "       [ 1.35818618e-02,  1.98870391e-04,  9.33169745e-04],\n",
       "       [-2.17288039e-02,  5.94571297e-03,  5.68685825e-05],\n",
       "       [-9.44824232e-02, -2.09688799e-03, -1.45070004e-03]])"
      ]
     },
     "execution_count": 7,
     "metadata": {},
     "output_type": "execute_result"
    }
   ],
   "source": [
    "r1 = model.transform(data)\n",
    "r1"
   ]
  },
  {
   "cell_type": "code",
   "execution_count": 8,
   "id": "e83479e1",
   "metadata": {},
   "outputs": [],
   "source": [
    "# try rebuilding a model from the data in the first model & using it to apply\n",
    "m2 = PCA()  # can't just pass compents_ etc in on constructor  - gets an erro\n",
    "m2.components_ = model.components_\n",
    "m2.singular_values_ = model.singular_values_\n",
    "m2.mean_ = model.mean_\n",
    "# don't need explained_varience_ratio in order to apply model (incl anyway?)"
   ]
  },
  {
   "cell_type": "code",
   "execution_count": 9,
   "id": "e87af14c",
   "metadata": {},
   "outputs": [
    {
     "data": {
      "text/plain": [
       "array([[ 1.18006306e-01, -1.00363450e-03, -1.06025747e-03],\n",
       "       [-1.53769403e-02, -3.04406087e-03,  1.52091918e-03],\n",
       "       [ 1.35818618e-02,  1.98870391e-04,  9.33169745e-04],\n",
       "       [-2.17288039e-02,  5.94571297e-03,  5.68685825e-05],\n",
       "       [-9.44824232e-02, -2.09688799e-03, -1.45070004e-03]])"
      ]
     },
     "execution_count": 9,
     "metadata": {},
     "output_type": "execute_result"
    }
   ],
   "source": [
    "r2 = m2.transform(data)\n",
    "r2"
   ]
  },
  {
   "cell_type": "code",
   "execution_count": 10,
   "id": "14566510",
   "metadata": {},
   "outputs": [
    {
     "data": {
      "text/plain": [
       "array([[ True,  True,  True],\n",
       "       [ True,  True,  True],\n",
       "       [ True,  True,  True],\n",
       "       [ True,  True,  True],\n",
       "       [ True,  True,  True]])"
      ]
     },
     "execution_count": 10,
     "metadata": {},
     "output_type": "execute_result"
    }
   ],
   "source": [
    "r1 == r2"
   ]
  },
  {
   "cell_type": "code",
   "execution_count": null,
   "id": "e0cd1bf8",
   "metadata": {},
   "outputs": [],
   "source": []
  },
  {
   "cell_type": "code",
   "execution_count": 11,
   "id": "56093efd",
   "metadata": {},
   "outputs": [
    {
     "data": {
      "text/plain": [
       "array([ 0.00310746, -0.0030434 ,  0.00342535])"
      ]
     },
     "execution_count": 11,
     "metadata": {},
     "output_type": "execute_result"
    }
   ],
   "source": [
    "model.mean_"
   ]
  },
  {
   "cell_type": "code",
   "execution_count": 12,
   "id": "b632c6b4",
   "metadata": {},
   "outputs": [
    {
     "data": {
      "text/plain": [
       "array([ 0.00310746, -0.0030434 ,  0.00342535])"
      ]
     },
     "execution_count": 12,
     "metadata": {},
     "output_type": "execute_result"
    }
   ],
   "source": [
    "import numpy as np\n",
    "np.mean(data, axis=0)"
   ]
  },
  {
   "cell_type": "code",
   "execution_count": null,
   "id": "39104b63",
   "metadata": {},
   "outputs": [],
   "source": []
  },
  {
   "cell_type": "code",
   "execution_count": 13,
   "id": "fe56dda6",
   "metadata": {},
   "outputs": [],
   "source": [
    "import pandas as pd"
   ]
  },
  {
   "cell_type": "code",
   "execution_count": 16,
   "id": "ff1ea814",
   "metadata": {},
   "outputs": [
    {
     "data": {
      "text/html": [
       "<div>\n",
       "<style scoped>\n",
       "    .dataframe tbody tr th:only-of-type {\n",
       "        vertical-align: middle;\n",
       "    }\n",
       "\n",
       "    .dataframe tbody tr th {\n",
       "        vertical-align: top;\n",
       "    }\n",
       "\n",
       "    .dataframe thead th {\n",
       "        text-align: right;\n",
       "    }\n",
       "</style>\n",
       "<table border=\"1\" class=\"dataframe\">\n",
       "  <thead>\n",
       "    <tr style=\"text-align: right;\">\n",
       "      <th></th>\n",
       "      <th>0</th>\n",
       "      <th>1</th>\n",
       "      <th>2</th>\n",
       "    </tr>\n",
       "  </thead>\n",
       "  <tbody>\n",
       "    <tr>\n",
       "      <th>0</th>\n",
       "      <td>-0.079519</td>\n",
       "      <td>-0.074829</td>\n",
       "      <td>-0.040704</td>\n",
       "    </tr>\n",
       "    <tr>\n",
       "      <th>1</th>\n",
       "      <td>0.016328</td>\n",
       "      <td>0.004389</td>\n",
       "      <td>0.007667</td>\n",
       "    </tr>\n",
       "    <tr>\n",
       "      <th>2</th>\n",
       "      <td>-0.006236</td>\n",
       "      <td>-0.011995</td>\n",
       "      <td>-0.000811</td>\n",
       "    </tr>\n",
       "    <tr>\n",
       "      <th>3</th>\n",
       "      <td>0.014682</td>\n",
       "      <td>0.011912</td>\n",
       "      <td>0.015667</td>\n",
       "    </tr>\n",
       "    <tr>\n",
       "      <th>4</th>\n",
       "      <td>0.070282</td>\n",
       "      <td>0.055305</td>\n",
       "      <td>0.035308</td>\n",
       "    </tr>\n",
       "  </tbody>\n",
       "</table>\n",
       "</div>"
      ],
      "text/plain": [
       "          0         1         2\n",
       "0 -0.079519 -0.074829 -0.040704\n",
       "1  0.016328  0.004389  0.007667\n",
       "2 -0.006236 -0.011995 -0.000811\n",
       "3  0.014682  0.011912  0.015667\n",
       "4  0.070282  0.055305  0.035308"
      ]
     },
     "execution_count": 16,
     "metadata": {},
     "output_type": "execute_result"
    }
   ],
   "source": [
    "df = pd.DataFrame(data)\n",
    "df"
   ]
  },
  {
   "cell_type": "code",
   "execution_count": null,
   "id": "37973da1",
   "metadata": {},
   "outputs": [],
   "source": [
    "data2 = [\n",
    "    [0.071022384345370282,-0.0018848835004448006,-0.069137500844925481],\n",
    "    [0.035278308193234964,-0.0018789385152055971,-0.033399369678029367],\n",
    "    [-0.13173740306613141,0.085062984385466833,0.046674418680664576],\n",
    "    [-0.1267030117762783,0.10048975661686194,0.02621325515941636],\n",
    "    [0.080874675786664629,-0.017307704523854439,-0.06356697126281019],\n",
    "    [0.048195672517894916,-0.014017709482924023,-0.034177963034970948],\n",
    "    [0.020080315883924615,-0.021350924828184903,0.0012706089442602875],\n",
    "    [0.021096566842135511,-0.031614018128334753,0.010517451286199298],\n",
    "    [0.03699436538881623,-0.02891331137672537,-0.00808105401209086],\n",
    "    [-0.055101874115630944,-0.0685852506466551,0.123687124762286]]"
   ]
  }
 ],
 "metadata": {
  "kernelspec": {
   "display_name": "Python 3.10 (system python)",
   "language": "python",
   "name": "python3"
  },
  "language_info": {
   "codemirror_mode": {
    "name": "ipython",
    "version": 3
   },
   "file_extension": ".py",
   "mimetype": "text/x-python",
   "name": "python",
   "nbconvert_exporter": "python",
   "pygments_lexer": "ipython3",
   "version": "3.10.2"
  }
 },
 "nbformat": 4,
 "nbformat_minor": 5
}
