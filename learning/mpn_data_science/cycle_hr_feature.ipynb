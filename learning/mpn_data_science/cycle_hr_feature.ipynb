{
 "cells": [
  {
   "cell_type": "code",
   "execution_count": 1,
   "id": "5fc22c94",
   "metadata": {},
   "outputs": [
    {
     "data": {
      "text/plain": [
       "<AxesSubplot:xlabel='hr'>"
      ]
     },
     "execution_count": 1,
     "metadata": {},
     "output_type": "execute_result"
    },
    {
     "data": {
      "image/png": "[encoded data removed]",
      "text/plain": [
       "<Figure size 432x288 with 1 Axes>"
      ]
     },
     "metadata": {
      "needs_background": "light"
     },
     "output_type": "display_data"
    }
   ],
   "source": [
    "from math import cos, sin, pi\n",
    "import pandas as pd\n",
    "t = [i/10 for i in range(240)]\n",
    "max_t = max(t)\n",
    "scaled_cos = lambda hr: cos(hr * 2 * (pi /max_t))  # full cycle to cover 24 hrs\n",
    "scaled_sin = lambda hr: sin(hr * 2 * (pi /max_t))  # full cycle to cover 24 hrs\n",
    "df = pd.DataFrame(t, columns=[\"hr\"])\n",
    "df['hr_cos_cycle'] = df['hr'].apply(scaled_cos)\n",
    "df['hr_sin_cycle'] = df['hr'].apply(scaled_sin)\n",
    "df.plot.line('hr', ['hr_cos_cycle', 'hr_sin_cycle'])"
   ]
  },
  {
   "cell_type": "code",
   "execution_count": 2,
   "id": "dd9103ef",
   "metadata": {},
   "outputs": [
    {
     "data": {
      "text/html": [
       "<div>\n",
       "<style scoped>\n",
       "    .dataframe tbody tr th:only-of-type {\n",
       "        vertical-align: middle;\n",
       "    }\n",
       "\n",
       "    .dataframe tbody tr th {\n",
       "        vertical-align: top;\n",
       "    }\n",
       "\n",
       "    .dataframe thead th {\n",
       "        text-align: right;\n",
       "    }\n",
       "</style>\n",
       "<table border=\"1\" class=\"dataframe\">\n",
       "  <thead>\n",
       "    <tr style=\"text-align: right;\">\n",
       "      <th></th>\n",
       "      <th>hr</th>\n",
       "      <th>hr_cos_cycle</th>\n",
       "      <th>hr_sin_cycle</th>\n",
       "    </tr>\n",
       "  </thead>\n",
       "  <tbody>\n",
       "    <tr>\n",
       "      <th>0</th>\n",
       "      <td>0.0</td>\n",
       "      <td>1.000000</td>\n",
       "      <td>0.000000e+00</td>\n",
       "    </tr>\n",
       "    <tr>\n",
       "      <th>1</th>\n",
       "      <td>0.1</td>\n",
       "      <td>0.999654</td>\n",
       "      <td>2.628645e-02</td>\n",
       "    </tr>\n",
       "    <tr>\n",
       "      <th>2</th>\n",
       "      <td>0.2</td>\n",
       "      <td>0.998618</td>\n",
       "      <td>5.255473e-02</td>\n",
       "    </tr>\n",
       "    <tr>\n",
       "      <th>3</th>\n",
       "      <td>0.3</td>\n",
       "      <td>0.996891</td>\n",
       "      <td>7.878670e-02</td>\n",
       "    </tr>\n",
       "    <tr>\n",
       "      <th>4</th>\n",
       "      <td>0.4</td>\n",
       "      <td>0.994476</td>\n",
       "      <td>1.049642e-01</td>\n",
       "    </tr>\n",
       "    <tr>\n",
       "      <th>...</th>\n",
       "      <td>...</td>\n",
       "      <td>...</td>\n",
       "      <td>...</td>\n",
       "    </tr>\n",
       "    <tr>\n",
       "      <th>235</th>\n",
       "      <td>23.5</td>\n",
       "      <td>0.994476</td>\n",
       "      <td>-1.049642e-01</td>\n",
       "    </tr>\n",
       "    <tr>\n",
       "      <th>236</th>\n",
       "      <td>23.6</td>\n",
       "      <td>0.996891</td>\n",
       "      <td>-7.878670e-02</td>\n",
       "    </tr>\n",
       "    <tr>\n",
       "      <th>237</th>\n",
       "      <td>23.7</td>\n",
       "      <td>0.998618</td>\n",
       "      <td>-5.255473e-02</td>\n",
       "    </tr>\n",
       "    <tr>\n",
       "      <th>238</th>\n",
       "      <td>23.8</td>\n",
       "      <td>0.999654</td>\n",
       "      <td>-2.628645e-02</td>\n",
       "    </tr>\n",
       "    <tr>\n",
       "      <th>239</th>\n",
       "      <td>23.9</td>\n",
       "      <td>1.000000</td>\n",
       "      <td>-2.449294e-16</td>\n",
       "    </tr>\n",
       "  </tbody>\n",
       "</table>\n",
       "<p>240 rows × 3 columns</p>\n",
       "</div>"
      ],
      "text/plain": [
       "       hr  hr_cos_cycle  hr_sin_cycle\n",
       "0     0.0      1.000000  0.000000e+00\n",
       "1     0.1      0.999654  2.628645e-02\n",
       "2     0.2      0.998618  5.255473e-02\n",
       "3     0.3      0.996891  7.878670e-02\n",
       "4     0.4      0.994476  1.049642e-01\n",
       "..    ...           ...           ...\n",
       "235  23.5      0.994476 -1.049642e-01\n",
       "236  23.6      0.996891 -7.878670e-02\n",
       "237  23.7      0.998618 -5.255473e-02\n",
       "238  23.8      0.999654 -2.628645e-02\n",
       "239  23.9      1.000000 -2.449294e-16\n",
       "\n",
       "[240 rows x 3 columns]"
      ]
     },
     "execution_count": 2,
     "metadata": {},
     "output_type": "execute_result"
    }
   ],
   "source": [
    "df"
   ]
  },
  {
   "cell_type": "code",
   "execution_count": null,
   "id": "c6f13a19",
   "metadata": {},
   "outputs": [],
   "source": []
  }
 ],
 "metadata": {
  "kernelspec": {
   "display_name": "py38",
   "language": "python",
   "name": "py38"
  },
  "language_info": {
   "codemirror_mode": {
    "name": "ipython",
    "version": 3
   },
   "file_extension": ".py",
   "mimetype": "text/x-python",
   "name": "python",
   "nbconvert_exporter": "python",
   "pygments_lexer": "ipython3",
   "version": "3.8.10"
  }
 },
 "nbformat": 4,
 "nbformat_minor": 5
}
