{
 "cells": [
  {
   "cell_type": "code",
   "execution_count": 1,
   "id": "e9b1388e",
   "metadata": {},
   "outputs": [],
   "source": [
    "from sklearn.linear_model import LinearRegression\n",
    "import numpy as np\n",
    "import pandas as pd\n",
    "from math import log10"
   ]
  },
  {
   "cell_type": "code",
   "execution_count": 2,
   "id": "91357b5f",
   "metadata": {},
   "outputs": [
    {
     "data": {
      "text/html": [
       "<div>\n",
       "<style scoped>\n",
       "    .dataframe tbody tr th:only-of-type {\n",
       "        vertical-align: middle;\n",
       "    }\n",
       "\n",
       "    .dataframe tbody tr th {\n",
       "        vertical-align: top;\n",
       "    }\n",
       "\n",
       "    .dataframe thead th {\n",
       "        text-align: right;\n",
       "    }\n",
       "</style>\n",
       "<table border=\"1\" class=\"dataframe\">\n",
       "  <thead>\n",
       "    <tr style=\"text-align: right;\">\n",
       "      <th></th>\n",
       "      <th>Year</th>\n",
       "      <th>Watts</th>\n",
       "      <th>Type</th>\n",
       "    </tr>\n",
       "  </thead>\n",
       "  <tbody>\n",
       "    <tr>\n",
       "      <th>0</th>\n",
       "      <td>1800</td>\n",
       "      <td>6.400000e+11</td>\n",
       "      <td>0.580618</td>\n",
       "    </tr>\n",
       "    <tr>\n",
       "      <th>1</th>\n",
       "      <td>1900</td>\n",
       "      <td>1.400000e+12</td>\n",
       "      <td>0.614613</td>\n",
       "    </tr>\n",
       "    <tr>\n",
       "      <th>2</th>\n",
       "      <td>1965</td>\n",
       "      <td>4.900000e+12</td>\n",
       "      <td>0.669020</td>\n",
       "    </tr>\n",
       "    <tr>\n",
       "      <th>3</th>\n",
       "      <td>2000</td>\n",
       "      <td>1.300000e+13</td>\n",
       "      <td>0.711394</td>\n",
       "    </tr>\n",
       "    <tr>\n",
       "      <th>4</th>\n",
       "      <td>2015</td>\n",
       "      <td>1.700000e+13</td>\n",
       "      <td>0.723045</td>\n",
       "    </tr>\n",
       "  </tbody>\n",
       "</table>\n",
       "</div>"
      ],
      "text/plain": [
       "   Year         Watts      Type\n",
       "0  1800  6.400000e+11  0.580618\n",
       "1  1900  1.400000e+12  0.614613\n",
       "2  1965  4.900000e+12  0.669020\n",
       "3  2000  1.300000e+13  0.711394\n",
       "4  2015  1.700000e+13  0.723045"
      ]
     },
     "execution_count": 2,
     "metadata": {},
     "output_type": "execute_result"
    }
   ],
   "source": [
    "def get_type(watts: int) -> float:\n",
    "    # based on extended Kardashev scale, formula from: \n",
    "    # https://iopscience.iop.org/article/10.3847/1538-3881/ab792b#ajab792bs2\n",
    "    return log10(watts/(10**6))/10\n",
    "\n",
    "data = [\n",
    "    [1800, 6.4*10**11],\n",
    "    [1900, 1.4*10**12],\n",
    "    [1965, 4.9*10**12],\n",
    "    [2000, 1.3*10**13],\n",
    "    [2015, 1.7*10**13]]\n",
    "\n",
    "data = [[d[0], d[1], get_type(d[1])] for d in data]\n",
    "\n",
    "df = pd.DataFrame(data, columns=['Year', 'Watts', 'Type'])\n",
    "df"
   ]
  },
  {
   "cell_type": "code",
   "execution_count": 3,
   "id": "8b471b5b",
   "metadata": {},
   "outputs": [
    {
     "data": {
      "text/plain": [
       "<AxesSubplot:xlabel='Year', ylabel='Watts'>"
      ]
     },
     "execution_count": 3,
     "metadata": {},
     "output_type": "execute_result"
    },
    {
     "data": {
      "image/png": "[encoded data removed]",
      "text/plain": [
       "<Figure size 432x288 with 1 Axes>"
      ]
     },
     "metadata": {
      "needs_background": "light"
     },
     "output_type": "display_data"
    }
   ],
   "source": [
    "df.plot.scatter(x='Year', y='Watts')"
   ]
  },
  {
   "cell_type": "code",
   "execution_count": 4,
   "id": "9ad8f1a0",
   "metadata": {},
   "outputs": [
    {
     "data": {
      "text/plain": [
       "<AxesSubplot:xlabel='Year', ylabel='Type'>"
      ]
     },
     "execution_count": 4,
     "metadata": {},
     "output_type": "execute_result"
    },
    {
     "data": {
      "image/png": "[encoded data removed]",
      "text/plain": [
       "<Figure size 432x288 with 1 Axes>"
      ]
     },
     "metadata": {
      "needs_background": "light"
     },
     "output_type": "display_data"
    }
   ],
   "source": [
    "# linear regression won't work on Watts as the progression is not linear\n",
    "# try type\n",
    "df.plot.scatter(x='Year', y='Type')"
   ]
  },
  {
   "cell_type": "code",
   "execution_count": 5,
   "id": "80244f63",
   "metadata": {},
   "outputs": [
    {
     "name": "stdout",
     "output_type": "stream",
     "text": [
      "Type Features shape: (5, 1)\n",
      "All Features shape:  (5, 2)\n",
      "Labels shape:        (5,)\n"
     ]
    },
    {
     "data": {
      "text/plain": [
       "array([2409.63911098, 3801.62237603])"
      ]
     },
     "execution_count": 5,
     "metadata": {},
     "output_type": "execute_result"
    }
   ],
   "source": [
    "# closer to linear!\n",
    "type_feature = df[['Type']].values\n",
    "all_features = df[['Type', 'Watts']].values\n",
    "labels = df['Year'].values\n",
    "print(f'Type Features shape: {np.shape(type_feature)}')\n",
    "print(f'All Features shape:  {np.shape(all_features)}')\n",
    "print(f'Labels shape:        {np.shape(labels)}')\n",
    "\n",
    "lr_model = LinearRegression().fit(type_feature, labels)\n",
    "                             \n",
    "types = [[1.0], [2.0]]\n",
    "lr_model.predict(types)"
   ]
  },
  {
   "cell_type": "code",
   "execution_count": 6,
   "id": "df81a827",
   "metadata": {},
   "outputs": [
    {
     "name": "stdout",
     "output_type": "stream",
     "text": [
      "(y = mx + b)...\n",
      "year = (1391.98 * type) + 1017.66\n"
     ]
    }
   ],
   "source": [
    "b, m = lr_model.intercept_, lr_model.coef_\n",
    "print(f\"(y = mx + b)...\\nyear = ({round(m[0],2)} * type) + {round(b,2)}\")\n"
   ]
  },
  {
   "cell_type": "markdown",
   "id": "32d48c19",
   "metadata": {},
   "source": [
    "## Attempt at non-leanear prediction below failing!\n",
    "\n",
    "Too little data or calling wrong?"
   ]
  },
  {
   "cell_type": "code",
   "execution_count": 7,
   "id": "fc25cd8d",
   "metadata": {},
   "outputs": [
    {
     "data": {
      "text/plain": [
       "array([2008.25, 2008.25])"
      ]
     },
     "execution_count": 7,
     "metadata": {},
     "output_type": "execute_result"
    }
   ],
   "source": [
    "from sklearn.ensemble import RandomForestRegressor\n",
    "rf_model = RandomForestRegressor().fit(all_features, labels)\n",
    "types_and_watts = [[1.0, 10**16], [2.0, 10**26]]\n",
    "rf_model.predict(types_and_watts)"
   ]
  },
  {
   "cell_type": "code",
   "execution_count": 8,
   "id": "275d04a4",
   "metadata": {},
   "outputs": [
    {
     "data": {
      "text/plain": [
       "array([2006.3, 2006.3])"
      ]
     },
     "execution_count": 8,
     "metadata": {},
     "output_type": "execute_result"
    }
   ],
   "source": [
    "rf_model2 = RandomForestRegressor().fit(type_feature, labels)\n",
    "rf_model2.predict(types)"
   ]
  },
  {
   "cell_type": "markdown",
   "id": "2af9a346",
   "metadata": {},
   "source": [
    "# Try scipy to fit a regression curve\n",
    "\n",
    "looks like another fail! Perhaps just not enough data points to fit a good curve. Also want to find out how to do this for multiple features"
   ]
  },
  {
   "cell_type": "code",
   "execution_count": 16,
   "id": "8377ffbc",
   "metadata": {},
   "outputs": [
    {
     "name": "stdout",
     "output_type": "stream",
     "text": [
      "a,b,c set to 0.000419, 3.53e-17, 8.97e-18\n",
      "i.e. y = ax^2 + bx + c -> y = 0.000419^2 + (3.53e-17 * x) + 8.97e-18\n",
      "\n",
      "Year 1800, est type: 0.569\n",
      "Year 1900, est type: 0.634\n",
      "Year 2000, est type: 0.703\n",
      "Year 2100, est type: 0.775\n",
      "Year 2200, est type: 0.851\n",
      "Year 2300, est type: 0.93\n",
      "Year 2400, est type: 1.01\n",
      "Year 2500, est type: 1.1\n",
      "Year 2600, est type: 1.19\n",
      "Year 2700, est type: 1.28\n",
      "Year 2800, est type: 1.38\n",
      "Year 2900, est type: 1.48\n",
      "Year 3000, est type: 1.58\n",
      "Year 3100, est type: 1.69\n",
      "Year 3200, est type: 1.8\n",
      "Year 3300, est type: 1.91\n",
      "Year 3400, est type: 2.03\n",
      "Year 3500, est type: 2.15\n",
      "Year 3600, est type: 2.28\n",
      "Year 3700, est type: 2.41\n",
      "Year 3800, est type: 2.54\n",
      "Year 3900, est type: 2.67\n",
      "Year 4000, est type: 2.81\n"
     ]
    }
   ],
   "source": [
    "from scipy.optimize import curve_fit\n",
    "\n",
    "def opt_func(x, a, b, c):\n",
    "    \"Otimise on ax^2 + bx + c\"\n",
    "    #print(f\"Solving x^a + bx + c for: x: {x}, a, b, c: {a}, {b}, {c}\")\n",
    "    return np.power(a*x, 2) + (b*x) + c\n",
    "(a,b,c), pcov = curve_fit(opt_func, \n",
    "                          xdata=df['Year'].values, \n",
    "                          ydata=df['Type'].values,\n",
    "                          bounds=(0, np.inf))\n",
    "\n",
    "print(f\"a,b,c set to {a:.3}, {b:.3}, {c:.3}\")\n",
    "print(f\"i.e. y = ax^2 + bx + c -> y = {a:.3}^2 + ({b:.3} * x) + {c:.3}\\n\")\n",
    "\n",
    "for x in np.linspace(1800, 4000, 23):\n",
    "    v = opt_func(x, a, b, c)\n",
    "    print(f\"Year {int(x)}, est type: {v:.3}\")"
   ]
  },
  {
   "cell_type": "code",
   "execution_count": 13,
   "id": "2adc865a",
   "metadata": {},
   "outputs": [],
   "source": [
    "# for some reason ity seems to go up too quickly when using type to \n",
    "# predict year (above) and too slow when using watts (below)"
   ]
  },
  {
   "cell_type": "code",
   "execution_count": 17,
   "id": "2270d710",
   "metadata": {},
   "outputs": [
    {
     "name": "stdout",
     "output_type": "stream",
     "text": [
      "Year 1800, est power: 6.72e+12 Watts\n",
      "Year 1900, est power: 7.49e+12 Watts\n",
      "Year 2000, est power: 8.29e+12 Watts\n",
      "Year 2100, est power: 9.14e+12 Watts\n",
      "Year 2200, est power: 1.00e+13 Watts\n",
      "Year 2300, est power: 1.10e+13 Watts\n",
      "Year 2400, est power: 1.19e+13 Watts\n",
      "Year 2500, est power: 1.30e+13 Watts\n",
      "Year 2600, est power: 1.40e+13 Watts\n",
      "Year 2700, est power: 1.51e+13 Watts\n",
      "Year 2800, est power: 1.63e+13 Watts\n",
      "Year 2900, est power: 1.74e+13 Watts\n",
      "Year 3000, est power: 1.87e+13 Watts\n",
      "Year 3100, est power: 1.99e+13 Watts\n",
      "Year 3200, est power: 2.12e+13 Watts\n",
      "Year 3300, est power: 2.26e+13 Watts\n",
      "Year 3400, est power: 2.40e+13 Watts\n",
      "Year 3500, est power: 2.54e+13 Watts\n",
      "Year 3600, est power: 2.69e+13 Watts\n",
      "Year 3700, est power: 2.84e+13 Watts\n",
      "Year 3800, est power: 2.99e+13 Watts\n",
      "Year 3900, est power: 3.15e+13 Watts\n",
      "Year 4000, est power: 3.32e+13 Watts\n"
     ]
    }
   ],
   "source": [
    "(a,b,c), pcov = curve_fit(opt_func, \n",
    "                          xdata=df['Year'].values, \n",
    "                          ydata=df['Watts'].values,\n",
    "                          bounds=(0, np.inf))\n",
    "\n",
    "for x in np.linspace(1800, 4000, 23):\n",
    "    v = opt_func(x, a, b, c)\n",
    "    print(f\"Year {int(x)}, est power: {v:.2e} Watts\")"
   ]
  },
  {
   "cell_type": "code",
   "execution_count": null,
   "id": "ae5cf126",
   "metadata": {},
   "outputs": [],
   "source": []
  }
 ],
 "metadata": {
  "kernelspec": {
   "display_name": "Python 3",
   "language": "python",
   "name": "python3"
  },
  "language_info": {
   "codemirror_mode": {
    "name": "ipython",
    "version": 3
   },
   "file_extension": ".py",
   "mimetype": "text/x-python",
   "name": "python",
   "nbconvert_exporter": "python",
   "pygments_lexer": "ipython3",
   "version": "3.8.10"
  }
 },
 "nbformat": 4,
 "nbformat_minor": 5
}
