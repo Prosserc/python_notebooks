{
 "cells": [
  {
   "cell_type": "code",
   "execution_count": 1,
   "id": "40ea9fdc",
   "metadata": {},
   "outputs": [],
   "source": [
    "import asyncio"
   ]
  },
  {
   "cell_type": "code",
   "execution_count": 2,
   "id": "d3c2b67f",
   "metadata": {},
   "outputs": [],
   "source": [
    "async def log_async(task, delay_secs: int = 1):\n",
    "    print(f\"starting task: {task} before delay ({delay_secs} secs)\")\n",
    "    asyncio.sleep(delay_secs)\n",
    "    print(f\"finished pretending to log for {task}\")"
   ]
  },
  {
   "cell_type": "markdown",
   "id": "4d0d34ba",
   "metadata": {},
   "source": [
    "### Await needed..."
   ]
  },
  {
   "cell_type": "code",
   "execution_count": 3,
   "id": "89d08b1a",
   "metadata": {},
   "outputs": [
    {
     "name": "stdout",
     "output_type": "stream",
     "text": [
      "task: one\n",
      "task: two\n",
      "task: four\n",
      "task: six\n"
     ]
    },
    {
     "name": "stderr",
     "output_type": "stream",
     "text": [
      "C:\\Users\\ChrisProsser\\AppData\\Local\\Temp\\ipykernel_12592\\3188711805.py:6: RuntimeWarning: coroutine 'log_async' was never awaited\n",
      "  log_async(task)\n",
      "RuntimeWarning: Enable tracemalloc to get the object allocation traceback\n"
     ]
    }
   ],
   "source": [
    "tasks  = [\"one\", \"two\", \"three_async\", \"four\", \"five_async\", \"six\"]\n",
    "\n",
    "for task in tasks:\n",
    "    if task.endswith(\"async\"):\n",
    "        # just calling func requires an await somewhere\n",
    "        log_async(task)\n",
    "    else:\n",
    "        print(f\"task: {task}\")\n",
    "    "
   ]
  },
  {
   "cell_type": "markdown",
   "id": "6fe231da",
   "metadata": {},
   "source": [
    "### asyncio.run(async_func) doesn't fix alone\n",
    "\n",
    "> asyncio.run() cannot be called from a running event loop"
   ]
  },
  {
   "cell_type": "markdown",
   "id": "1417aeb7",
   "metadata": {},
   "source": [
    "Could assign variables and await the log_async, but where do we await?\n",
    "we don't want to delay page being returned to the user\n",
    "\n",
    "i.e. if we await before `return render_template()` then what was the point in making async, but can't do it after\n",
    "\n",
    "Could use a constant running loop (outside of req context) to process tasks added to a queue? Like method 2 from https://www.geeksforgeeks.org/how-to-run-two-async-functions-forever-python/?"
   ]
  },
  {
   "cell_type": "code",
   "execution_count": null,
   "id": "4a418c23",
   "metadata": {},
   "outputs": [],
   "source": []
  },
  {
   "cell_type": "code",
   "execution_count": 4,
   "id": "6e52319a",
   "metadata": {},
   "outputs": [
    {
     "name": "stdout",
     "output_type": "stream",
     "text": [
      "sync 1\n",
      "sync 3\n",
      "sync 4\n",
      "starting task: async 2 before delay (1 secs)\n",
      "finished pretending to log for async 2\n",
      "starting task: async 5 before delay (1 secs)\n",
      "finished pretending to log for async 5\n"
     ]
    },
    {
     "name": "stderr",
     "output_type": "stream",
     "text": [
      "C:\\Users\\ChrisProsser\\AppData\\Local\\Temp\\ipykernel_12592\\1808806421.py:3: RuntimeWarning: coroutine 'sleep' was never awaited\n",
      "  asyncio.sleep(delay_secs)\n",
      "RuntimeWarning: Enable tracemalloc to get the object allocation traceback\n"
     ]
    }
   ],
   "source": [
    "logger_loop = asyncio.get_event_loop()\n",
    "\n",
    "def log(task):\n",
    "    logger_loop.create_task(log_async(task))\n",
    "\n",
    "def main():\n",
    "    print(\"sync 1\")\n",
    "    log(\"async 2\")\n",
    "    print(\"sync 3\")\n",
    "    print(\"sync 4\")\n",
    "    log(\"async 5\")\n",
    "    \n",
    "main()   \n",
    "#logger_loop.run_forever() # This event loop is already running err\n",
    "                           # coroutine 'sleep' was never awaited waring if excl\n",
    "\n",
    "                        "
   ]
  },
  {
   "cell_type": "markdown",
   "id": "587ea53e",
   "metadata": {},
   "source": [
    "👆 warning + didn't start async tasks until all sync completed - want to start straight away, but not wait before continuing main sync code"
   ]
  },
  {
   "cell_type": "markdown",
   "id": "3fb002ae",
   "metadata": {},
   "source": [
    "Stack Overflow on fire & forget here: https://stackoverflow.com/a/37345564/2012446\n",
    "\n",
    "I don't think this solves as you need the main func you call log from to be async as well, can't wrap req/resp as func as you need to await at end to ensure any running tasks complete."
   ]
  },
  {
   "cell_type": "markdown",
   "id": "3151367c",
   "metadata": {},
   "source": [
    "### concurrent option\n",
    "\n",
    "Could do like this: https://stackoverflow.com/a/45843022/2012446\n",
    "Need to be aware of risk of changed variables after calling func (copy?)"
   ]
  },
  {
   "cell_type": "code",
   "execution_count": null,
   "id": "dbd4a6aa",
   "metadata": {},
   "outputs": [],
   "source": []
  }
 ],
 "metadata": {
  "kernelspec": {
   "display_name": "Python 3.10 (system python)",
   "language": "python",
   "name": "python3"
  },
  "language_info": {
   "codemirror_mode": {
    "name": "ipython",
    "version": 3
   },
   "file_extension": ".py",
   "mimetype": "text/x-python",
   "name": "python",
   "nbconvert_exporter": "python",
   "pygments_lexer": "ipython3",
   "version": "3.10.5"
  }
 },
 "nbformat": 4,
 "nbformat_minor": 5
}
