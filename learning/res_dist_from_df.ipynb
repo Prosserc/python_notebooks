{
 "cells": [
  {
   "cell_type": "code",
   "execution_count": 1,
   "id": "adf20bf7",
   "metadata": {},
   "outputs": [],
   "source": [
    "import pandas as pd\n",
    "import numpy as np\n",
    "import seaborn as sns\n",
    "import matplotlib.pyplot as plt"
   ]
  },
  {
   "cell_type": "code",
   "execution_count": 2,
   "id": "fc0b7c83",
   "metadata": {},
   "outputs": [
    {
     "data": {
      "text/html": [
       "<div>\n",
       "<style scoped>\n",
       "    .dataframe tbody tr th:only-of-type {\n",
       "        vertical-align: middle;\n",
       "    }\n",
       "\n",
       "    .dataframe tbody tr th {\n",
       "        vertical-align: top;\n",
       "    }\n",
       "\n",
       "    .dataframe thead th {\n",
       "        text-align: right;\n",
       "    }\n",
       "</style>\n",
       "<table border=\"1\" class=\"dataframe\">\n",
       "  <thead>\n",
       "    <tr style=\"text-align: right;\">\n",
       "      <th></th>\n",
       "      <th>Long</th>\n",
       "      <th>Base MD</th>\n",
       "      <th>VR Mean</th>\n",
       "    </tr>\n",
       "  </thead>\n",
       "  <tbody>\n",
       "    <tr>\n",
       "      <th>0</th>\n",
       "      <td>-47.957358</td>\n",
       "      <td>1740.0</td>\n",
       "      <td>0.33</td>\n",
       "    </tr>\n",
       "    <tr>\n",
       "      <th>1</th>\n",
       "      <td>-47.957358</td>\n",
       "      <td>1920.0</td>\n",
       "      <td>0.39</td>\n",
       "    </tr>\n",
       "    <tr>\n",
       "      <th>2</th>\n",
       "      <td>-47.957358</td>\n",
       "      <td>2730.0</td>\n",
       "      <td>0.42</td>\n",
       "    </tr>\n",
       "    <tr>\n",
       "      <th>3</th>\n",
       "      <td>-47.957358</td>\n",
       "      <td>3990.0</td>\n",
       "      <td>0.49</td>\n",
       "    </tr>\n",
       "    <tr>\n",
       "      <th>4</th>\n",
       "      <td>-47.957358</td>\n",
       "      <td>4410.0</td>\n",
       "      <td>0.59</td>\n",
       "    </tr>\n",
       "    <tr>\n",
       "      <th>...</th>\n",
       "      <td>...</td>\n",
       "      <td>...</td>\n",
       "      <td>...</td>\n",
       "    </tr>\n",
       "    <tr>\n",
       "      <th>273</th>\n",
       "      <td>-48.282384</td>\n",
       "      <td>2460.0</td>\n",
       "      <td>0.45</td>\n",
       "    </tr>\n",
       "    <tr>\n",
       "      <th>274</th>\n",
       "      <td>-48.282384</td>\n",
       "      <td>2560.0</td>\n",
       "      <td>0.47</td>\n",
       "    </tr>\n",
       "    <tr>\n",
       "      <th>275</th>\n",
       "      <td>-48.282384</td>\n",
       "      <td>2740.0</td>\n",
       "      <td>0.49</td>\n",
       "    </tr>\n",
       "    <tr>\n",
       "      <th>276</th>\n",
       "      <td>-48.282384</td>\n",
       "      <td>3580.0</td>\n",
       "      <td>0.67</td>\n",
       "    </tr>\n",
       "    <tr>\n",
       "      <th>277</th>\n",
       "      <td>-48.282384</td>\n",
       "      <td>3680.0</td>\n",
       "      <td>0.68</td>\n",
       "    </tr>\n",
       "  </tbody>\n",
       "</table>\n",
       "<p>278 rows × 3 columns</p>\n",
       "</div>"
      ],
      "text/plain": [
       "          Long  Base MD  VR Mean\n",
       "0   -47.957358   1740.0     0.33\n",
       "1   -47.957358   1920.0     0.39\n",
       "2   -47.957358   2730.0     0.42\n",
       "3   -47.957358   3990.0     0.49\n",
       "4   -47.957358   4410.0     0.59\n",
       "..         ...      ...      ...\n",
       "273 -48.282384   2460.0     0.45\n",
       "274 -48.282384   2560.0     0.47\n",
       "275 -48.282384   2740.0     0.49\n",
       "276 -48.282384   3580.0     0.67\n",
       "277 -48.282384   3680.0     0.68\n",
       "\n",
       "[278 rows x 3 columns]"
      ]
     },
     "execution_count": 2,
     "metadata": {},
     "output_type": "execute_result"
    }
   ],
   "source": [
    "df = pd.read_csv('Pigi_ML_Data.csv', skipinitialspace=True)\n",
    "features = df.columns[:-1]\n",
    "target = df.columns[-1]\n",
    "df"
   ]
  },
  {
   "cell_type": "code",
   "execution_count": 3,
   "id": "37e15bd2",
   "metadata": {},
   "outputs": [
    {
     "data": {
      "text/plain": [
       "GradientBoostingRegressor()"
      ]
     },
     "execution_count": 3,
     "metadata": {},
     "output_type": "execute_result"
    }
   ],
   "source": [
    "#from sklearn.linear_model import LinearRegression\n",
    "from sklearn.ensemble import GradientBoostingRegressor\n",
    "#from sklearn.gaussian_process import GaussianProcessRegressor\n",
    "from sklearn.model_selection import train_test_split\n",
    "\n",
    "model = GradientBoostingRegressor()\n",
    "X, y = df[features].values, df[target].values\n",
    "ind = [i for i in range(df.shape[0])]\n",
    "X_train, X_test, y_train, y_test, i_train, i_test = train_test_split(X, y, ind,\n",
    "    train_size=0.6, random_state=100)\n",
    "model.fit(X_train,(y_train))"
   ]
  },
  {
   "cell_type": "code",
   "execution_count": 4,
   "id": "c5bcdf76",
   "metadata": {},
   "outputs": [
    {
     "data": {
      "text/html": [
       "<div>\n",
       "<style scoped>\n",
       "    .dataframe tbody tr th:only-of-type {\n",
       "        vertical-align: middle;\n",
       "    }\n",
       "\n",
       "    .dataframe tbody tr th {\n",
       "        vertical-align: top;\n",
       "    }\n",
       "\n",
       "    .dataframe thead th {\n",
       "        text-align: right;\n",
       "    }\n",
       "</style>\n",
       "<table border=\"1\" class=\"dataframe\">\n",
       "  <thead>\n",
       "    <tr style=\"text-align: right;\">\n",
       "      <th></th>\n",
       "      <th>Target</th>\n",
       "      <th>Prediction</th>\n",
       "      <th>Group</th>\n",
       "      <th>Residual</th>\n",
       "    </tr>\n",
       "  </thead>\n",
       "  <tbody>\n",
       "    <tr>\n",
       "      <th>0</th>\n",
       "      <td>0.33</td>\n",
       "      <td>0.335577</td>\n",
       "      <td>Training</td>\n",
       "      <td>-0.005577</td>\n",
       "    </tr>\n",
       "    <tr>\n",
       "      <th>1</th>\n",
       "      <td>0.39</td>\n",
       "      <td>0.381971</td>\n",
       "      <td>Test</td>\n",
       "      <td>0.008029</td>\n",
       "    </tr>\n",
       "    <tr>\n",
       "      <th>2</th>\n",
       "      <td>0.42</td>\n",
       "      <td>0.438765</td>\n",
       "      <td>Training</td>\n",
       "      <td>-0.018765</td>\n",
       "    </tr>\n",
       "    <tr>\n",
       "      <th>3</th>\n",
       "      <td>0.49</td>\n",
       "      <td>0.893952</td>\n",
       "      <td>Test</td>\n",
       "      <td>-0.403952</td>\n",
       "    </tr>\n",
       "    <tr>\n",
       "      <th>4</th>\n",
       "      <td>0.59</td>\n",
       "      <td>0.649983</td>\n",
       "      <td>Training</td>\n",
       "      <td>-0.059983</td>\n",
       "    </tr>\n",
       "    <tr>\n",
       "      <th>...</th>\n",
       "      <td>...</td>\n",
       "      <td>...</td>\n",
       "      <td>...</td>\n",
       "      <td>...</td>\n",
       "    </tr>\n",
       "    <tr>\n",
       "      <th>273</th>\n",
       "      <td>0.45</td>\n",
       "      <td>0.464936</td>\n",
       "      <td>Training</td>\n",
       "      <td>-0.014936</td>\n",
       "    </tr>\n",
       "    <tr>\n",
       "      <th>274</th>\n",
       "      <td>0.47</td>\n",
       "      <td>0.468807</td>\n",
       "      <td>Training</td>\n",
       "      <td>0.001193</td>\n",
       "    </tr>\n",
       "    <tr>\n",
       "      <th>275</th>\n",
       "      <td>0.49</td>\n",
       "      <td>0.468807</td>\n",
       "      <td>Training</td>\n",
       "      <td>0.021193</td>\n",
       "    </tr>\n",
       "    <tr>\n",
       "      <th>276</th>\n",
       "      <td>0.67</td>\n",
       "      <td>0.773608</td>\n",
       "      <td>Test</td>\n",
       "      <td>-0.103608</td>\n",
       "    </tr>\n",
       "    <tr>\n",
       "      <th>277</th>\n",
       "      <td>0.68</td>\n",
       "      <td>0.730101</td>\n",
       "      <td>Training</td>\n",
       "      <td>-0.050101</td>\n",
       "    </tr>\n",
       "  </tbody>\n",
       "</table>\n",
       "<p>278 rows × 4 columns</p>\n",
       "</div>"
      ],
      "text/plain": [
       "     Target  Prediction     Group  Residual\n",
       "0      0.33    0.335577  Training -0.005577\n",
       "1      0.39    0.381971      Test  0.008029\n",
       "2      0.42    0.438765  Training -0.018765\n",
       "3      0.49    0.893952      Test -0.403952\n",
       "4      0.59    0.649983  Training -0.059983\n",
       "..      ...         ...       ...       ...\n",
       "273    0.45    0.464936  Training -0.014936\n",
       "274    0.47    0.468807  Training  0.001193\n",
       "275    0.49    0.468807  Training  0.021193\n",
       "276    0.67    0.773608      Test -0.103608\n",
       "277    0.68    0.730101  Training -0.050101\n",
       "\n",
       "[278 rows x 4 columns]"
      ]
     },
     "execution_count": 4,
     "metadata": {},
     "output_type": "execute_result"
    }
   ],
   "source": [
    "groups = ['Test' if i in set(i_test) else 'Training' for i in ind]\n",
    "predictions = model.predict(X)\n",
    "res = [obs - pred for (obs, pred) in zip(df[target].values, predictions)]\n",
    "\n",
    "outcomes_df = pd.DataFrame({\n",
    "        'Target': df[target].values,\n",
    "        'Prediction': predictions,\n",
    "        'Group': groups,\n",
    "        'Residual': res\n",
    "    })\n",
    "\n",
    "outcomes_df"
   ]
  },
  {
   "cell_type": "code",
   "execution_count": 5,
   "id": "eedea573",
   "metadata": {},
   "outputs": [
    {
     "data": {
      "image/png": "[encoded data removed]",
      "text/plain": [
       "<Figure size 432x216 with 1 Axes>"
      ]
     },
     "metadata": {},
     "output_type": "display_data"
    }
   ],
   "source": [
    "from matplotlib.figure import Figure\n",
    "test_colour = (217/255, 121/255, 11/255)\n",
    "train_colour = (39/255, 119/255, 168/255)\n",
    "\n",
    "def plot_residual_histogtam(df, figsize=(6, 3)) -> Figure:\n",
    "    sns.set()\n",
    "    fig, ax = plt.subplots(1, 1, figsize=figsize)\n",
    "    sns.set_theme(style='darkgrid')\n",
    "    \n",
    "    sns.kdeplot(data=df, \n",
    "                x=\"Residual\",\n",
    "                hue=\"Group\",\n",
    "                alpha=0.4,\n",
    "                multiple='layer',\n",
    "                fill=True,\n",
    "                common_norm=False,\n",
    "                palette={'Test': test_colour, 'Training': train_colour},\n",
    "                #cut=0\n",
    "               )\n",
    "\n",
    "    ax.set(xlabel =\"Residual (Observation - Prediction)\")\n",
    "\n",
    "    #return fig\n",
    "\n",
    "plot_residual_histogtam(outcomes_df)"
   ]
  },
  {
   "cell_type": "code",
   "execution_count": 6,
   "id": "0b01e839",
   "metadata": {},
   "outputs": [
    {
     "data": {
      "text/plain": [
       "Group\n",
       "Test       -5.143693e-03\n",
       "Training   -3.578128e-17\n",
       "Name: Residual, dtype: float64"
      ]
     },
     "execution_count": 6,
     "metadata": {},
     "output_type": "execute_result"
    }
   ],
   "source": [
    "outcomes_df.groupby(['Group'])['Residual'].mean()"
   ]
  },
  {
   "cell_type": "code",
   "execution_count": 7,
   "id": "c0aec47f",
   "metadata": {},
   "outputs": [
    {
     "data": {
      "text/plain": [
       "Group\n",
       "Test        0.663447\n",
       "Training    0.687530\n",
       "Name: Prediction, dtype: float64"
      ]
     },
     "execution_count": 7,
     "metadata": {},
     "output_type": "execute_result"
    }
   ],
   "source": [
    "outcomes_df.groupby(['Group'])['Prediction'].mean()"
   ]
  },
  {
   "cell_type": "code",
   "execution_count": null,
   "id": "696f5cfb",
   "metadata": {},
   "outputs": [],
   "source": []
  }
 ],
 "metadata": {
  "kernelspec": {
   "display_name": "Python 3.10 (system python)",
   "language": "python",
   "name": "python3"
  },
  "language_info": {
   "codemirror_mode": {
    "name": "ipython",
    "version": 3
   },
   "file_extension": ".py",
   "mimetype": "text/x-python",
   "name": "python",
   "nbconvert_exporter": "python",
   "pygments_lexer": "ipython3",
   "version": "3.10.5"
  }
 },
 "nbformat": 4,
 "nbformat_minor": 5
}
