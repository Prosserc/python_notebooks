{
 "cells": [
  {
   "cell_type": "code",
   "execution_count": 1,
   "id": "a35586de",
   "metadata": {},
   "outputs": [
    {
     "data": {
      "text/html": [
       "<div>\n",
       "<style scoped>\n",
       "    .dataframe tbody tr th:only-of-type {\n",
       "        vertical-align: middle;\n",
       "    }\n",
       "\n",
       "    .dataframe tbody tr th {\n",
       "        vertical-align: top;\n",
       "    }\n",
       "\n",
       "    .dataframe thead th {\n",
       "        text-align: right;\n",
       "    }\n",
       "</style>\n",
       "<table border=\"1\" class=\"dataframe\">\n",
       "  <thead>\n",
       "    <tr style=\"text-align: right;\">\n",
       "      <th></th>\n",
       "      <th>original_sample_index</th>\n",
       "      <th>cat</th>\n",
       "      <th>label</th>\n",
       "    </tr>\n",
       "  </thead>\n",
       "  <tbody>\n",
       "    <tr>\n",
       "      <th>0</th>\n",
       "      <td>0</td>\n",
       "      <td>rock</td>\n",
       "      <td>0.200</td>\n",
       "    </tr>\n",
       "    <tr>\n",
       "      <th>1</th>\n",
       "      <td>1</td>\n",
       "      <td>rock</td>\n",
       "      <td>0.300</td>\n",
       "    </tr>\n",
       "    <tr>\n",
       "      <th>2</th>\n",
       "      <td>2</td>\n",
       "      <td>oil</td>\n",
       "      <td>0.900</td>\n",
       "    </tr>\n",
       "    <tr>\n",
       "      <th>3</th>\n",
       "      <td>3</td>\n",
       "      <td>seep</td>\n",
       "      <td>1.230</td>\n",
       "    </tr>\n",
       "    <tr>\n",
       "      <th>4</th>\n",
       "      <td>4</td>\n",
       "      <td>rock</td>\n",
       "      <td>0.230</td>\n",
       "    </tr>\n",
       "    <tr>\n",
       "      <th>5</th>\n",
       "      <td>5</td>\n",
       "      <td>rock</td>\n",
       "      <td>0.310</td>\n",
       "    </tr>\n",
       "    <tr>\n",
       "      <th>6</th>\n",
       "      <td>6</td>\n",
       "      <td>oil</td>\n",
       "      <td>0.910</td>\n",
       "    </tr>\n",
       "    <tr>\n",
       "      <th>7</th>\n",
       "      <td>7</td>\n",
       "      <td>oil</td>\n",
       "      <td>0.925</td>\n",
       "    </tr>\n",
       "    <tr>\n",
       "      <th>8</th>\n",
       "      <td>8</td>\n",
       "      <td>unk</td>\n",
       "      <td>0.120</td>\n",
       "    </tr>\n",
       "    <tr>\n",
       "      <th>9</th>\n",
       "      <td>9</td>\n",
       "      <td>seep</td>\n",
       "      <td>1.230</td>\n",
       "    </tr>\n",
       "  </tbody>\n",
       "</table>\n",
       "</div>"
      ],
      "text/plain": [
       "   original_sample_index   cat  label\n",
       "0                      0  rock  0.200\n",
       "1                      1  rock  0.300\n",
       "2                      2   oil  0.900\n",
       "3                      3  seep  1.230\n",
       "4                      4  rock  0.230\n",
       "5                      5  rock  0.310\n",
       "6                      6   oil  0.910\n",
       "7                      7   oil  0.925\n",
       "8                      8   unk  0.120\n",
       "9                      9  seep  1.230"
      ]
     },
     "execution_count": 1,
     "metadata": {},
     "output_type": "execute_result"
    }
   ],
   "source": [
    "import pandas as pd\n",
    "df = pd.read_csv('cat_feature.csv', skipinitialspace=True)\n",
    "df.insert(0, 'original_sample_index', df.index)\n",
    "df"
   ]
  },
  {
   "cell_type": "code",
   "execution_count": 2,
   "id": "e5c2eddc",
   "metadata": {},
   "outputs": [
    {
     "data": {
      "text/plain": [
       "rock    0.4\n",
       "oil     0.3\n",
       "seep    0.2\n",
       "unk     0.1\n",
       "Name: cat, dtype: float64"
      ]
     },
     "execution_count": 2,
     "metadata": {},
     "output_type": "execute_result"
    }
   ],
   "source": [
    "col= \"cat\"\n",
    "df[col].value_counts(normalize=True)"
   ]
  },
  {
   "cell_type": "code",
   "execution_count": 4,
   "id": "00e922ed",
   "metadata": {},
   "outputs": [
    {
     "data": {
      "text/plain": [
       "False"
      ]
     },
     "execution_count": 4,
     "metadata": {},
     "output_type": "execute_result"
    }
   ],
   "source": [
    "ONEHOT_ENCODING_FEATURE_THRESHOLD = 3\n",
    "ONEHOT_ENCODING_MAX_PROPORTION_UNCAT = 0.05\n",
    "df[col].value_counts(normalize=True).iloc[ONEHOT_ENCODING_FEATURE_THRESHOLD] < ONEHOT_ENCODING_MAX_PROPORTION_UNCAT"
   ]
  },
  {
   "cell_type": "code",
   "execution_count": 6,
   "id": "c2c4a1d6",
   "metadata": {},
   "outputs": [],
   "source": [
    "unique_val_to_proportion = df[col].value_counts(normalize=True)\n",
    "#get the top n most common categories\n",
    "top_n = unique_val_to_proportion[:ONEHOT_ENCODING_FEATURE_THRESHOLD]"
   ]
  },
  {
   "cell_type": "code",
   "execution_count": 7,
   "id": "6f18bc89",
   "metadata": {},
   "outputs": [
    {
     "data": {
      "text/plain": [
       "rock    0.4\n",
       "oil     0.3\n",
       "seep    0.2\n",
       "Name: cat, dtype: float64"
      ]
     },
     "execution_count": 7,
     "metadata": {},
     "output_type": "execute_result"
    }
   ],
   "source": [
    "top_n"
   ]
  },
  {
   "cell_type": "code",
   "execution_count": 9,
   "id": "a8402e59",
   "metadata": {},
   "outputs": [
    {
     "data": {
      "text/plain": [
       "0.8999999999999999"
      ]
     },
     "execution_count": 9,
     "metadata": {},
     "output_type": "execute_result"
    }
   ],
   "source": [
    "# sum the values of the top n categories\n",
    "top_n_proportion = top_n.sum()\n",
    "top_n_proportion"
   ]
  },
  {
   "cell_type": "code",
   "execution_count": null,
   "id": "52f2ae4d",
   "metadata": {},
   "outputs": [],
   "source": []
  }
 ],
 "metadata": {
  "kernelspec": {
   "display_name": "Python 3.10 (system python)",
   "language": "python",
   "name": "python3"
  },
  "language_info": {
   "codemirror_mode": {
    "name": "ipython",
    "version": 3
   },
   "file_extension": ".py",
   "mimetype": "text/x-python",
   "name": "python",
   "nbconvert_exporter": "python",
   "pygments_lexer": "ipython3",
   "version": "3.10.5"
  }
 },
 "nbformat": 4,
 "nbformat_minor": 5
}
