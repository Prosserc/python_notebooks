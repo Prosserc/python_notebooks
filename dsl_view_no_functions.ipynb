{
 "cells": [
  {
   "cell_type": "code",
   "execution_count": 1,
   "metadata": {},
   "outputs": [],
   "source": [
    "import os\n",
    "os.chdir('D:\\code\\Projects\\property_mapping_sql_generator')\n",
    "from dsl.engine import *\n",
    "from dbal.oracle.oracle_view import OracleView\n",
    "from dependencies import register_dependencies\n",
    "\n",
    "register_dependencies()"
   ]
  },
  {
   "cell_type": "markdown",
   "metadata": {},
   "source": [
    "Create mapping rows with no rules"
   ]
  },
  {
   "cell_type": "code",
   "execution_count": 2,
   "metadata": {},
   "outputs": [
    {
     "name": "stderr",
     "output_type": "stream",
     "text": [
      "ERROR:propertymodel:Mapping file for: None, \tmessage: Row: 0 \tError: The property in the measurement descriptor, MeasurementDescriptor(property='p1', analysis='a1', indicator='na')is not known in the data model Uom (%wt%) is not known in the data model , with measurement_descriptor: MeasurementDescriptor(property='p1', analysis='a1', indicator='na')\n",
      "ERROR:propertymodel:Mapping file for: None, \tmessage: Row: 0 \tError: The property in the measurement descriptor, MeasurementDescriptor(property='p2', analysis='a1', indicator='na')is not known in the data model\n"
     ]
    }
   ],
   "source": [
    "rules = [\n",
    "    MappingRow(name=\"row1\",\n",
    "               prop=Property(Select('p1')),\n",
    "               anal=Analysis(Select('a1')),\n",
    "               uom=Uom(Select('%wt%')),\n",
    "               source_db_col='src_col1_num'),\n",
    "    MappingRow(name=\"row2\",\n",
    "               prop=Property(Select('p2')),\n",
    "               anal=Analysis(Select('a1')),\n",
    "               source_db_col='src_col2_text')\n",
    "]"
   ]
  },
  {
   "cell_type": "raw",
   "metadata": {},
   "source": [
    "Create a mapping row with an analysis rule:"
   ]
  },
  {
   "cell_type": "code",
   "execution_count": 3,
   "metadata": {},
   "outputs": [
    {
     "ename": "NameError",
     "evalue": "name 'MappingRule' is not defined",
     "output_type": "error",
     "traceback": [
      "\u001b[1;31m---------------------------------------------------------------------------\u001b[0m",
      "\u001b[1;31mNameError\u001b[0m                                 Traceback (most recent call last)",
      "\u001b[1;32m<ipython-input-3-7c74750d1650>\u001b[0m in \u001b[0;36m<module>\u001b[1;34m\u001b[0m\n\u001b[0;32m      2\u001b[0m                              \u001b[1;33m[\u001b[0m\u001b[1;33m(\u001b[0m\u001b[1;34m'x'\u001b[0m\u001b[1;33m,\u001b[0m \u001b[1;34m'ax'\u001b[0m\u001b[1;33m)\u001b[0m\u001b[1;33m,\u001b[0m \u001b[1;33m(\u001b[0m\u001b[1;34m'y'\u001b[0m\u001b[1;33m,\u001b[0m \u001b[1;34m'ay'\u001b[0m\u001b[1;33m)\u001b[0m\u001b[1;33m]\u001b[0m\u001b[1;33m,\u001b[0m\u001b[1;33m\u001b[0m\u001b[1;33m\u001b[0m\u001b[0m\n\u001b[0;32m      3\u001b[0m                              default='az'))\n\u001b[1;32m----> 4\u001b[1;33m rules.append(MappingRule(name=\"row3\",\n\u001b[0m\u001b[0;32m      5\u001b[0m                          \u001b[0mprop\u001b[0m\u001b[1;33m=\u001b[0m\u001b[0mProperty\u001b[0m\u001b[1;33m(\u001b[0m\u001b[0mSelect\u001b[0m\u001b[1;33m(\u001b[0m\u001b[1;34m'p3'\u001b[0m\u001b[1;33m)\u001b[0m\u001b[1;33m)\u001b[0m\u001b[1;33m,\u001b[0m\u001b[1;33m\u001b[0m\u001b[1;33m\u001b[0m\u001b[0m\n\u001b[0;32m      6\u001b[0m                          \u001b[0manal\u001b[0m\u001b[1;33m=\u001b[0m\u001b[0manalysis_obj\u001b[0m\u001b[1;33m,\u001b[0m\u001b[1;33m\u001b[0m\u001b[1;33m\u001b[0m\u001b[0m\n",
      "\u001b[1;31mNameError\u001b[0m: name 'MappingRule' is not defined"
     ]
    }
   ],
   "source": [
    "analysis_obj = Analysis(Case('ref_col', \n",
    "                             [('x', 'ax'), ('y', 'ay')], \n",
    "                             default='az'))\n",
    "rules.append(MappingRule(name=\"row3\",\n",
    "                         prop=Property(Select('p3')),\n",
    "                         anal=analysis_obj,\n",
    "                         uom=Uom(Select('ppm')),\n",
    "                         source_db_col='src_col3_num'))"
   ]
  },
  {
   "cell_type": "markdown",
   "metadata": {},
   "source": [
    "Create the view object (which the `sql_generator` will create) and print SQL."
   ]
  },
  {
   "cell_type": "code",
   "execution_count": null,
   "metadata": {},
   "outputs": [],
   "source": [
    "view = OracleView(source_db_table='tab1', mapping_rules=rules)\n",
    "print(view.compile())"
   ]
  }
 ],
 "metadata": {
  "kernelspec": {
   "display_name": "Python 3",
   "language": "python",
   "name": "python3"
  },
  "language_info": {
   "codemirror_mode": {
    "name": "ipython",
    "version": 3
   },
   "file_extension": ".py",
   "mimetype": "text/x-python",
   "name": "python",
   "nbconvert_exporter": "python",
   "pygments_lexer": "ipython3",
   "version": "3.7.2"
  }
 },
 "nbformat": 4,
 "nbformat_minor": 2
}
