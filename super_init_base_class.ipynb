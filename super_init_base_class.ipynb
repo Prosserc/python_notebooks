{
 "cells": [
  {
   "cell_type": "markdown",
   "metadata": {},
   "source": [
    "# When should we call `super().__init__` from subclasses?\n",
    "\n",
    "When you create a subclass with an `__init__` method (constructor) you can call `super().__init__()` to run the `__init__` method on the base class. This is only needed if both of the following conditions are true:\n",
    "\n",
    "1) The Base class has an `__init__` method with work you want performed (e.g. assigning values to fields that you want to be available in the subclass);\n",
    "\n",
    "2) The Subclass implements it's own `__init__` method (the base constructor will be called implicitly if the subclass does not implement `__init__`);"
   ]
  },
  {
   "cell_type": "markdown",
   "metadata": {},
   "source": [
    "### Example base class"
   ]
  },
  {
   "cell_type": "code",
   "execution_count": 1,
   "metadata": {},
   "outputs": [],
   "source": [
    "# Base class\n",
    "class Base:\n",
    "    \n",
    "    def __init__(self):\n",
    "        self.some_dependency = \"Got some dependency\""
   ]
  },
  {
   "cell_type": "markdown",
   "metadata": {},
   "source": [
    "### Example subclass 1\n",
    "\n",
    "In the first example subclass below, the `__init__` method is not implemented so the fields are set via the `__init__` on the base class and are available in the sub class instance."
   ]
  },
  {
   "cell_type": "code",
   "execution_count": 2,
   "metadata": {},
   "outputs": [],
   "source": [
    "class ChildExample1(Base):\n",
    "    pass"
   ]
  },
  {
   "cell_type": "code",
   "execution_count": 3,
   "metadata": {},
   "outputs": [
    {
     "name": "stdout",
     "output_type": "stream",
     "text": [
      "Created instance of ChildExample1, lets see of the fields have been set on the base class...\n",
      "some_dependency: Got some dependency\n"
     ]
    }
   ],
   "source": [
    "c1 = ChildExample1()\n",
    "print(\"Created instance of ChildExample1, lets see of the fields have been set on the base class...\")\n",
    "print(f\"some_dependency: {c1.some_dependency}\")"
   ]
  },
  {
   "cell_type": "markdown",
   "metadata": {},
   "source": [
    "### Example subclass 2\n",
    "\n",
    "In this example I will implement an `__init__` method, but will not call `__init__` on the base class."
   ]
  },
  {
   "cell_type": "code",
   "execution_count": 4,
   "metadata": {},
   "outputs": [],
   "source": [
    "class ChildExample2(Base):\n",
    "    \n",
    "    def __init__(self):\n",
    "        self.foo = \"I'm doing my own initialisation\""
   ]
  },
  {
   "cell_type": "code",
   "execution_count": 10,
   "metadata": {},
   "outputs": [
    {
     "name": "stdout",
     "output_type": "stream",
     "text": [
      "Created instance of ChildExample2.\n",
      "foo: I'm doing my own initialisation\n",
      "** in error handler (expected) **\n",
      "we could not access the `some_dependency` field as this is initialiased in the base class constructor, which was not called.\n"
     ]
    }
   ],
   "source": [
    "c2 = ChildExample2()\n",
    "print(\"Created instance of ChildExample2.\")\n",
    "print(f\"foo: {c2.foo}\")\n",
    "try:\n",
    "    print(f\"some_dependency: {c2.some_dependency}\")\n",
    "    print(\"if we get to here then I'm wrong and this actually worked...\")\n",
    "except:\n",
    "    print(\"** in error handler (expected) **\")\n",
    "    print(\"we could not access the `some_dependency` field as this is initialiased in the base class constructor, which was not called.\")"
   ]
  },
  {
   "cell_type": "markdown",
   "metadata": {},
   "source": [
    "### Example subclass 3\n",
    "\n",
    "In this example, I will call the init method on the base class via `super().__init__()` to ensure that the fields on the base class are also initialised"
   ]
  },
  {
   "cell_type": "code",
   "execution_count": 6,
   "metadata": {},
   "outputs": [],
   "source": [
    "class ChildExample3(Base):\n",
    "    \n",
    "    def __init__(self):\n",
    "        self.foo = \"I'm doing my own initialisation, but also getting help.\"\n",
    "        super().__init__()"
   ]
  },
  {
   "cell_type": "code",
   "execution_count": 7,
   "metadata": {},
   "outputs": [
    {
     "name": "stdout",
     "output_type": "stream",
     "text": [
      "Created instance of ChildExample3. This will initialise fields on the base class as well as it's own.\n",
      "foo: I'm doing my own initialisation, but also getting help.\n",
      "some_dependency: Got some dependency\n"
     ]
    }
   ],
   "source": [
    "c3 = ChildExample3()\n",
    "print(\"Created instance of ChildExample3. This will initialise fields on the base class as well as it's own.\")\n",
    "print(f\"foo: {c3.foo}\")\n",
    "print(f\"some_dependency: {c3.some_dependency}\")"
   ]
  }
 ],
 "metadata": {
  "kernelspec": {
   "display_name": "Python 3",
   "language": "python",
   "name": "python3"
  },
  "language_info": {
   "codemirror_mode": {
    "name": "ipython",
    "version": 3
   },
   "file_extension": ".py",
   "mimetype": "text/x-python",
   "name": "python",
   "nbconvert_exporter": "python",
   "pygments_lexer": "ipython3",
   "version": "3.7.2"
  }
 },
 "nbformat": 4,
 "nbformat_minor": 2
}
