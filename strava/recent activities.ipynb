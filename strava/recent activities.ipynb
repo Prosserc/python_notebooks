{
 "cells": [
  {
   "cell_type": "code",
   "execution_count": 9,
   "id": "ongoing-fetish",
   "metadata": {},
   "outputs": [],
   "source": [
    "import json, os, pandas as pd\n",
    "path = r\"C:\\Users\\chris prosser\\Downloads\\recent_strava_response.json\"\n",
    "# built this file via playground: https://developers.strava.com/playground/\n",
    "# using route: GET \"https://www.strava.com/api/v3/athlete/activities?per_page=50\"\n",
    "# see client id etc in Strava profile settings"
   ]
  },
  {
   "cell_type": "code",
   "execution_count": 13,
   "id": "dated-beverage",
   "metadata": {},
   "outputs": [],
   "source": [
    "with open(path, 'r') as f:\n",
    "    data = json.load(f)\n",
    "df = pd.DataFrame(data)\n",
    "runs = df[df[\"type\"] == \"Run\"]\n",
    "runs"
   ]
  },
  {
   "cell_type": "code",
   "execution_count": null,
   "id": "opposite-opera",
   "metadata": {},
   "outputs": [],
   "source": [
    "runs.to_excel(r\"C:\\Users\\chris prosser\\Downloads\\recent_runs.xlsx\")"
   ]
  }
 ],
 "metadata": {
  "kernelspec": {
   "display_name": "Python 3",
   "language": "python",
   "name": "python3"
  },
  "language_info": {
   "codemirror_mode": {
    "name": "ipython",
    "version": 3
   },
   "file_extension": ".py",
   "mimetype": "text/x-python",
   "name": "python",
   "nbconvert_exporter": "python",
   "pygments_lexer": "ipython3",
   "version": "3.7.9"
  }
 },
 "nbformat": 4,
 "nbformat_minor": 5
}
