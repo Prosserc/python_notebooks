{
 "cells": [
  {
   "cell_type": "code",
   "execution_count": 1,
   "id": "alike-hebrew",
   "metadata": {},
   "outputs": [],
   "source": [
    "import pandas as pd\n",
    "from typing import Sequence, Dict\n",
    "\n",
    "from diskos.sender_specific import ANAL_ID_COL\n",
    "from diskos.utils import split_on_last_occurrence"
   ]
  },
  {
   "cell_type": "code",
   "execution_count": 2,
   "id": "deadly-annex",
   "metadata": {},
   "outputs": [],
   "source": [
    "src_cols = ['AnalID', 'ColA[x]', 'ColN[x]', 'ColA_2[y]', 'ColN_2[y]']\n",
    "src_vals = [\n",
    "    # all sets of cols in one row in src data\n",
    "    ['001WXA', 0.05, ''  , '001WYA', 1.35 , ''      , ''  , ''  ],\n",
    "    ['002WXA', ''  , 0.15, ''      , ''   , '002WZA', 2.31, 2.32],\n",
    "]\n",
    "df_src = pd.DataFrame(src_vals, columns=src_cols)"
   ]
  },
  {
   "cell_type": "code",
   "execution_count": 3,
   "id": "native-destruction",
   "metadata": {},
   "outputs": [],
   "source": [
    "def build_column_groups(df: pd.DataFrame) -> Sequence[Sequence[str]]:\n",
    "    col_groups = []\n",
    "    cur_idx = -1\n",
    "    for col in df.columns:\n",
    "        if col.startswith(ANAL_ID_COL):\n",
    "            col_groups.append([col])\n",
    "            cur_idx += 1\n",
    "        else:\n",
    "            col_groups[cur_idx].append(col)\n",
    "    return col_groups"
   ]
  },
  {
   "cell_type": "code",
   "execution_count": 4,
   "id": "atmospheric-roman",
   "metadata": {},
   "outputs": [
    {
     "data": {
      "text/plain": [
       "[['AnalID', 'ColA', 'ColN'],\n",
       " ['AnalID_2', 'ColA_2'],\n",
       " ['AnalID_3', 'ColA_3', 'ColN_3']]"
      ]
     },
     "execution_count": 4,
     "metadata": {},
     "output_type": "execute_result"
    }
   ],
   "source": [
    "build_column_groups(df_src)"
   ]
  },
  {
   "cell_type": "code",
   "execution_count": 5,
   "id": "enclosed-mercury",
   "metadata": {},
   "outputs": [],
   "source": [
    "def build_col_map(df: pd.DataFrame) -> Dict[str, Sequence[str]]:\n",
    "    suffix_to_cols = {}\n",
    "    cur_suffix = ''\n",
    "    for col in df.columns:\n",
    "        if col.startswith(ANAL_ID_COL):\n",
    "            _, cur_suffix = split_on_last_occurrence(col, '_')\n",
    "            suffix_to_cols[cur_suffix] = [col]\n",
    "        else:\n",
    "            suffix_to_cols[cur_suffix].append(col)\n",
    "    return suffix_to_cols"
   ]
  },
  {
   "cell_type": "code",
   "execution_count": 6,
   "id": "rotary-joshua",
   "metadata": {},
   "outputs": [
    {
     "data": {
      "text/plain": [
       "{'': ['AnalID', 'ColA', 'ColN'],\n",
       " '2': ['AnalID_2', 'ColA_2'],\n",
       " '3': ['AnalID_3', 'ColA_3', 'ColN_3']}"
      ]
     },
     "execution_count": 6,
     "metadata": {},
     "output_type": "execute_result"
    }
   ],
   "source": [
    "col_map = build_col_map(df_src)\n",
    "col_map"
   ]
  },
  {
   "cell_type": "code",
   "execution_count": 7,
   "id": "listed-preparation",
   "metadata": {},
   "outputs": [],
   "source": [
    "# todo - need col_map or could just take clean cols?\n",
    "def split_cols(df: pd.DataFrame, col_map: Dict[str, Sequence[str]]) -> Sequence[pd.DataFrame]:\n",
    "    dfs = []  # split data into multipe dfs\n",
    "    \n",
    "    for suffix, cols in col_map.items():\n",
    "        new_df = df[cols]\n",
    "        cleaned_cols = [split_on_last_occurrence(c, '_')[0] for c in cols]\n",
    "        new_df.columns = cleaned_cols  # ensure matching col names ready for concat        \n",
    "        new_df = new_df[new_df[ANAL_ID_COL] != \"\"]  # filter out empy rows\n",
    "        dfs.append(new_df)\n",
    "            \n",
    "    # fill any missing cols with empties (all dfs need to be same shape to concat rows)\n",
    "    for idx, col in enumerate(dfs[0].columns.tolist()):\n",
    "        for df in dfs:\n",
    "            if not col in df.columns.tolist():\n",
    "                df[col] = \"\"\n",
    "                \n",
    "    return dfs"
   ]
  },
  {
   "cell_type": "code",
   "execution_count": 8,
   "id": "drawn-trail",
   "metadata": {},
   "outputs": [
    {
     "data": {
      "text/html": [
       "<div>\n",
       "<style scoped>\n",
       "    .dataframe tbody tr th:only-of-type {\n",
       "        vertical-align: middle;\n",
       "    }\n",
       "\n",
       "    .dataframe tbody tr th {\n",
       "        vertical-align: top;\n",
       "    }\n",
       "\n",
       "    .dataframe thead th {\n",
       "        text-align: right;\n",
       "    }\n",
       "</style>\n",
       "<table border=\"1\" class=\"dataframe\">\n",
       "  <thead>\n",
       "    <tr style=\"text-align: right;\">\n",
       "      <th></th>\n",
       "      <th>AnalID</th>\n",
       "      <th>ColA</th>\n",
       "      <th>ColN</th>\n",
       "    </tr>\n",
       "  </thead>\n",
       "  <tbody>\n",
       "    <tr>\n",
       "      <th>0</th>\n",
       "      <td>001WXA</td>\n",
       "      <td>0.05</td>\n",
       "      <td></td>\n",
       "    </tr>\n",
       "    <tr>\n",
       "      <th>1</th>\n",
       "      <td>002WXA</td>\n",
       "      <td></td>\n",
       "      <td>0.15</td>\n",
       "    </tr>\n",
       "    <tr>\n",
       "      <th>2</th>\n",
       "      <td>001WYA</td>\n",
       "      <td>1.35</td>\n",
       "      <td></td>\n",
       "    </tr>\n",
       "    <tr>\n",
       "      <th>3</th>\n",
       "      <td>002WZA</td>\n",
       "      <td>2.31</td>\n",
       "      <td>2.32</td>\n",
       "    </tr>\n",
       "  </tbody>\n",
       "</table>\n",
       "</div>"
      ],
      "text/plain": [
       "   AnalID  ColA  ColN\n",
       "0  001WXA  0.05      \n",
       "1  002WXA        0.15\n",
       "2  001WYA  1.35      \n",
       "3  002WZA  2.31  2.32"
      ]
     },
     "execution_count": 8,
     "metadata": {},
     "output_type": "execute_result"
    }
   ],
   "source": [
    "pd.concat(split_cols(df_src, col_map)).reset_index(drop=True)"
   ]
  },
  {
   "cell_type": "code",
   "execution_count": null,
   "id": "annoying-maria",
   "metadata": {},
   "outputs": [],
   "source": []
  }
 ],
 "metadata": {
  "kernelspec": {
   "display_name": "Python 3",
   "language": "python",
   "name": "python3"
  },
  "language_info": {
   "codemirror_mode": {
    "name": "ipython",
    "version": 3
   },
   "file_extension": ".py",
   "mimetype": "text/x-python",
   "name": "python",
   "nbconvert_exporter": "python",
   "pygments_lexer": "ipython3",
   "version": "3.7.9"
  }
 },
 "nbformat": 4,
 "nbformat_minor": 5
}
