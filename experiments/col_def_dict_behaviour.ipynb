{
 "cells": [
  {
   "cell_type": "markdown",
   "metadata": {},
   "source": [
    "In the `FileToOracleLoader` project how does a `ColumnDefinition` behave in a dictionary.\n",
    "\n",
    "I expect this to find matches for cols with the same name / data type"
   ]
  },
  {
   "cell_type": "code",
   "execution_count": 1,
   "metadata": {},
   "outputs": [
    {
     "name": "stdout",
     "output_type": "stream",
     "text": [
      "D:\\code\\Projects\\pigi3_migration_prep\\FileToOracleLoader\n"
     ]
    }
   ],
   "source": [
    "%cd D:\\code\\Projects\\pigi3_migration_prep\\FileToOracleLoader"
   ]
  },
  {
   "cell_type": "code",
   "execution_count": 2,
   "metadata": {},
   "outputs": [
    {
     "name": "stdout",
     "output_type": "stream",
     "text": [
      "{ColumnDefinition(_original_name='x', data_type='notblerb', nullable=True): 3,\n",
      " ColumnDefinition(_original_name='y', data_type='blerb', nullable=True): 2,\n",
      " ColumnDefinition(_original_name='x', data_type='blerb', nullable=True): 1,\n",
      " ColumnDefinition(_original_name='X', data_type='blerb', nullable=True): 4}\n"
     ]
    }
   ],
   "source": [
    "from db_schema.types.column_definition import ColumnDefinition as Col\n",
    "\n",
    "col1 = Col('x', 'blerb')\n",
    "col2 = Col('y', 'blerb')\n",
    "col3 = Col('x', 'notblerb')\n",
    "col4 = Col('X', 'blerb')\n",
    "\n",
    "cols = {}\n",
    "for n, col in enumerate([col1, col2, col3, col4], start=1):\n",
    "    cols[col] = n\n",
    "    \n",
    "# expect to see 4 entries (all distinct keys)\n",
    "from pprint import pprint\n",
    "pprint(cols)"
   ]
  },
  {
   "cell_type": "code",
   "execution_count": 3,
   "metadata": {},
   "outputs": [
    {
     "data": {
      "text/plain": [
       "True"
      ]
     },
     "execution_count": 3,
     "metadata": {},
     "output_type": "execute_result"
    }
   ],
   "source": [
    "col1 in cols"
   ]
  },
  {
   "cell_type": "code",
   "execution_count": 4,
   "metadata": {},
   "outputs": [
    {
     "data": {
      "text/plain": [
       "False"
      ]
     },
     "execution_count": 4,
     "metadata": {},
     "output_type": "execute_result"
    }
   ],
   "source": [
    "Col('z', 'blerb') in cols"
   ]
  },
  {
   "cell_type": "markdown",
   "metadata": {},
   "source": [
    "Seems to work!"
   ]
  }
 ],
 "metadata": {
  "kernelspec": {
   "display_name": "Python 3",
   "language": "python",
   "name": "python3"
  },
  "language_info": {
   "codemirror_mode": {
    "name": "ipython",
    "version": 3
   },
   "file_extension": ".py",
   "mimetype": "text/x-python",
   "name": "python",
   "nbconvert_exporter": "python",
   "pygments_lexer": "ipython3",
   "version": "3.7.2"
  }
 },
 "nbformat": 4,
 "nbformat_minor": 2
}
