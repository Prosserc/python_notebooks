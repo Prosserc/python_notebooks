{
 "cells": [
  {
   "cell_type": "code",
   "execution_count": 8,
   "metadata": {},
   "outputs": [
    {
     "name": "stdout",
     "output_type": "stream",
     "text": [
      "{'rating_value': 4.5, 'rating_count': 1255, 'review_count': 204}\n"
     ]
    }
   ],
   "source": [
    "import requests\n",
    "from bs4 import BeautifulSoup\n",
    "\n",
    "import json\n",
    "\n",
    "def scrape_goodreads(book_id):\n",
    "    goodreads_url = f\"https://www.goodreads.com/book/show/{book_id}\"\n",
    "    response = requests.get(goodreads_url)\n",
    "\n",
    "    if response.status_code == 200:\n",
    "        soup = BeautifulSoup(response.content, 'html.parser')\n",
    "        \n",
    "        # Find the script tag containing the JSON-LD data\n",
    "        json_ld_tag = soup.find('script', {'type': 'application/ld+json'})\n",
    "        if json_ld_tag:\n",
    "            data = json.loads(json_ld_tag.string)\n",
    "            \n",
    "            # Extract the relevant data\n",
    "            rating_value = data['aggregateRating']['ratingValue']\n",
    "            rating_count = data['aggregateRating']['ratingCount']\n",
    "            review_count = data['aggregateRating']['reviewCount']\n",
    "\n",
    "            return {\n",
    "                'rating_value': rating_value,\n",
    "                'rating_count': rating_count,\n",
    "                'review_count': review_count\n",
    "            }\n",
    "        else:\n",
    "            return {'error': 'JSON-LD tag not found'}\n",
    "    else:\n",
    "        return {'error': 'Failed to fetch data'}\n",
    "\n",
    "# Example usage\n",
    "book_id = 43606308  # Replace with a book ID from your dataset\n",
    "scraped_data = scrape_goodreads(book_id)\n",
    "print(scraped_data)\n"
   ]
  }
 ],
 "metadata": {
  "kernelspec": {
   "display_name": "Python 3",
   "language": "python",
   "name": "python3"
  },
  "language_info": {
   "codemirror_mode": {
    "name": "ipython",
    "version": 3
   },
   "file_extension": ".py",
   "mimetype": "text/x-python",
   "name": "python",
   "nbconvert_exporter": "python",
   "pygments_lexer": "ipython3",
   "version": "3.11.3"
  }
 },
 "nbformat": 4,
 "nbformat_minor": 2
}
