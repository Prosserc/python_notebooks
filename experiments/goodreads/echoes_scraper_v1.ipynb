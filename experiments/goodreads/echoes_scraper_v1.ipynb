{
 "cells": [
  {
   "cell_type": "code",
   "execution_count": 2,
   "metadata": {},
   "outputs": [
    {
     "name": "stderr",
     "output_type": "stream",
     "text": [
      "  0%|          | 0/190 [00:00<?, ?it/s]"
     ]
    },
    {
     "name": "stderr",
     "output_type": "stream",
     "text": [
      "C:\\Users\\chris\\AppData\\Local\\Temp\\ipykernel_22136\\350381682.py:52: FutureWarning: The behavior of DataFrame concatenation with empty or all-NA entries is deprecated. In a future version, this will no longer exclude empty or all-NA columns when determining the result dtypes. To retain the old behavior, exclude the relevant entries before the concat operation.\n",
      "  scraped_results = pd.concat([scraped_results, new_row], ignore_index=True)\n",
      "100%|██████████| 190/190 [34:48<00:00, 10.99s/it]\n"
     ]
    }
   ],
   "source": [
    "import pandas as pd\n",
    "import time\n",
    "from datetime import datetime\n",
    "import json\n",
    "import requests\n",
    "from bs4 import BeautifulSoup\n",
    "from random import randint\n",
    "from tqdm import tqdm\n",
    "\n",
    "# Function to scrape Goodreads\n",
    "def scrape_goodreads(book_id):\n",
    "    goodreads_url = f\"https://www.goodreads.com/book/show/{book_id}\"\n",
    "    response = requests.get(goodreads_url)\n",
    "\n",
    "    if response.status_code == 200:\n",
    "        soup = BeautifulSoup(response.content, 'html.parser')\n",
    "        \n",
    "        # Find the script tag containing the JSON-LD data\n",
    "        json_ld_tag = soup.find('script', {'type': 'application/ld+json'})\n",
    "        if json_ld_tag:\n",
    "            data = json.loads(json_ld_tag.string)\n",
    "            \n",
    "            # Extract the relevant data\n",
    "            return {\n",
    "                'rating_value': data['aggregateRating']['ratingValue'],\n",
    "                'rating_count': data['aggregateRating']['ratingCount'],\n",
    "                'review_count': data['aggregateRating']['reviewCount']\n",
    "            }\n",
    "        else:\n",
    "            return {'error': 'JSON-LD tag not found'}\n",
    "    else:\n",
    "        return {'error': 'Failed to fetch data'}\n",
    "\n",
    "# Load the CSV file\n",
    "file_path = 'goodreads_library_export.csv'\n",
    "goodreads_data = pd.read_csv(file_path)\n",
    "\n",
    "# Iterate over the rows in the dataframe\n",
    "for index, row in tqdm(goodreads_data.iterrows(), total=goodreads_data.shape[0]):\n",
    "    scraped_data = scrape_goodreads(row['Book Id'])\n",
    "    current_datetime = datetime.now().strftime(\"%Y-%m-%d %H:%M:%S\")\n",
    "\n",
    "    if 'error' not in scraped_data:\n",
    "        new_row = pd.DataFrame([{\n",
    "            'ISBN': row['ISBN'],\n",
    "            'Title': row['Title'],\n",
    "            'Scraped Rating Value': scraped_data['rating_value'],\n",
    "            'Scraped Rating Count': scraped_data['rating_count'],\n",
    "            'Scraped Review Count': scraped_data['review_count'],\n",
    "            'Data Retrieved': current_datetime\n",
    "        }])\n",
    "        scraped_results = pd.concat([scraped_results, new_row], ignore_index=True)\n",
    "    \n",
    "    time.sleep(randint(3,7))\n",
    "\n",
    "# Write the updated data to a new CSV file\n",
    "output_file_path = 'updated_goodreads_data.csv'\n",
    "scraped_results.to_csv(output_file_path, index=False)"
   ]
  }
 ],
 "metadata": {
  "kernelspec": {
   "display_name": "Python 3",
   "language": "python",
   "name": "python3"
  },
  "language_info": {
   "codemirror_mode": {
    "name": "ipython",
    "version": 3
   },
   "file_extension": ".py",
   "mimetype": "text/x-python",
   "name": "python",
   "nbconvert_exporter": "python",
   "pygments_lexer": "ipython3",
   "version": "3.11.3"
  }
 },
 "nbformat": 4,
 "nbformat_minor": 2
}
