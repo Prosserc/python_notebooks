{
 "cells": [
  {
   "cell_type": "code",
   "execution_count": 1,
   "metadata": {},
   "outputs": [],
   "source": [
    "from __future__ import annotations\n",
    "from typing import Sequence\n",
    "from dataclasses import dataclass"
   ]
  },
  {
   "cell_type": "code",
   "execution_count": 2,
   "metadata": {},
   "outputs": [],
   "source": [
    "# cells (use an odd number for this rule)\n",
    "cell_count = 121\n",
    "mid_cell_idx = int(cell_count/2)\n",
    "cells = [0 if idx != mid_cell_idx else 1 for idx in range(cell_count+1)]"
   ]
  },
  {
   "cell_type": "code",
   "execution_count": 25,
   "metadata": {},
   "outputs": [],
   "source": [
    "@dataclass\n",
    "class Generation:\n",
    "    cells: Sequence[int]\n",
    "        \n",
    "    def mutate(self) -> Generation:\n",
    "        return Generation([self.get_next_cell_value(i) for i in range(len(cells))])\n",
    "    \n",
    "    def output(self) -> None:\n",
    "        print(\"\".join([\"*\" if cell == 1 else \" \" for cell in self.cells]))\n",
    "        \n",
    "    def get_cell_value(self, idx: int) -> int:\n",
    "        if idx < 0 or idx >= len(self.cells):\n",
    "            return 0\n",
    "        return self.cells[idx]\n",
    "        \n",
    "    def get_neighbours(self, idx: int, n: int=3) -> Sequence[int]:\n",
    "        start_idx = idx-(int(n/2))\n",
    "        return [self.get_cell_value(i) for i in range(start_idx, start_idx+n)]\n",
    "    \n",
    "    def get_next_cell_value(self, idx: int) -> int:\n",
    "        dec = int(\"\".join([str(x) for x in self.get_neighbours(idx)]))\n",
    "        return dec % 2"
   ]
  },
  {
   "cell_type": "code",
   "execution_count": 26,
   "metadata": {},
   "outputs": [],
   "source": [
    "gen = Generation(cells)"
   ]
  },
  {
   "cell_type": "code",
   "execution_count": 27,
   "metadata": {},
   "outputs": [
    {
     "data": {
      "text/plain": [
       "[0, 1, 0]"
      ]
     },
     "execution_count": 27,
     "metadata": {},
     "output_type": "execute_result"
    }
   ],
   "source": [
    "gen.get_neighbours(mid_cell_idx)"
   ]
  },
  {
   "cell_type": "code",
   "execution_count": 29,
   "metadata": {},
   "outputs": [],
   "source": [
    "g2 = gen.mutate()"
   ]
  },
  {
   "cell_type": "code",
   "execution_count": 30,
   "metadata": {},
   "outputs": [
    {
     "name": "stdout",
     "output_type": "stream",
     "text": [
      "                                                           *                                                              \n"
     ]
    }
   ],
   "source": [
    "g2.output()"
   ]
  },
  {
   "cell_type": "code",
   "execution_count": null,
   "metadata": {},
   "outputs": [],
   "source": []
  }
 ],
 "metadata": {
  "kernelspec": {
   "display_name": "Python 3",
   "language": "python",
   "name": "python3"
  },
  "language_info": {
   "codemirror_mode": {
    "name": "ipython",
    "version": 3
   },
   "file_extension": ".py",
   "mimetype": "text/x-python",
   "name": "python",
   "nbconvert_exporter": "python",
   "pygments_lexer": "ipython3",
   "version": "3.7.2"
  }
 },
 "nbformat": 4,
 "nbformat_minor": 2
}
