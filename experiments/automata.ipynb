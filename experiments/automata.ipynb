{
 "cells": [
  {
   "cell_type": "code",
   "execution_count": 1,
   "metadata": {},
   "outputs": [],
   "source": [
    "from __future__ import annotations\n",
    "from typing import Sequence\n",
    "from dataclasses import dataclass"
   ]
  },
  {
   "cell_type": "code",
   "execution_count": 2,
   "metadata": {},
   "outputs": [],
   "source": [
    "# cells (use an odd number for this rule)\n",
    "cell_count = 121\n",
    "mid_cell_idx = int(cell_count/2)\n",
    "cells = [0 if idx != mid_cell_idx else 1 for idx in range(cell_count+1)]"
   ]
  },
  {
   "cell_type": "code",
   "execution_count": 3,
   "metadata": {},
   "outputs": [],
   "source": [
    "@dataclass\n",
    "class Generation:\n",
    "    cells: Sequence[int]\n",
    "        \n",
    "    def get_next_gen(self) -> Generation:\n",
    "        return Generation([self.get_next_cell_value(i) for i in range(len(cells))])\n",
    "    \n",
    "    def output(self) -> None:\n",
    "        print(\"\".join([\"*\" if cell == 1 else \" \" for cell in self.cells]))\n",
    "        \n",
    "    def get_cell_value(self, idx: int) -> int:\n",
    "        if idx < 0 or idx >= len(self.cells):\n",
    "            return 0\n",
    "        return self.cells[idx]\n",
    "        \n",
    "    def get_neighbours(self, idx: int, n: int=3) -> Sequence[int]:\n",
    "        start_idx = idx-(int(n/2))\n",
    "        return [self.get_cell_value(i) for i in range(start_idx, start_idx+n)]\n",
    "    \n",
    "    def get_next_cell_value(self, idx: int) -> int:\n",
    "        return Generation.compute(self.get_neighbours(idx))\n",
    "    \n",
    "    @staticmethod\n",
    "    def compute(inputs: Sequence[int]):\n",
    "        dec = int(\"\".join([str(x) for x in inputs]))\n",
    "        if dec > 0: print(f\"dec: {dec}\")\n",
    "        return dec % 2"
   ]
  },
  {
   "cell_type": "code",
   "execution_count": 4,
   "metadata": {},
   "outputs": [],
   "source": [
    "gen = Generation(cells)"
   ]
  },
  {
   "cell_type": "code",
   "execution_count": 5,
   "metadata": {},
   "outputs": [
    {
     "data": {
      "text/plain": [
       "[0, 1, 0]"
      ]
     },
     "execution_count": 5,
     "metadata": {},
     "output_type": "execute_result"
    }
   ],
   "source": [
    "gen.get_neighbours(mid_cell_idx)"
   ]
  },
  {
   "cell_type": "code",
   "execution_count": 6,
   "metadata": {},
   "outputs": [
    {
     "name": "stdout",
     "output_type": "stream",
     "text": [
      "dec: 1\n",
      "dec: 10\n",
      "dec: 100\n"
     ]
    }
   ],
   "source": [
    "g2 = gen.get_next_gen()"
   ]
  },
  {
   "cell_type": "code",
   "execution_count": 7,
   "metadata": {},
   "outputs": [
    {
     "name": "stdout",
     "output_type": "stream",
     "text": [
      "                                                           *                                                              \n"
     ]
    }
   ],
   "source": [
    "g2.output()"
   ]
  },
  {
   "cell_type": "code",
   "execution_count": 8,
   "metadata": {},
   "outputs": [
    {
     "name": "stdout",
     "output_type": "stream",
     "text": [
      "dec: 1\n",
      "dec: 10\n",
      "dec: 100\n"
     ]
    },
    {
     "data": {
      "text/plain": [
       "[1, 0, 0]"
      ]
     },
     "execution_count": 8,
     "metadata": {},
     "output_type": "execute_result"
    }
   ],
   "source": [
    "xs = [[0,0,1], [0,1,0], [1,0,0]]\n",
    "[Generation.compute(x) for x in xs]"
   ]
  },
  {
   "cell_type": "code",
   "execution_count": 9,
   "metadata": {},
   "outputs": [],
   "source": [
    "# we're just shifting left one every time rather than replicating out"
   ]
  }
 ],
 "metadata": {
  "kernelspec": {
   "display_name": "Python 3",
   "language": "python",
   "name": "python3"
  },
  "language_info": {
   "codemirror_mode": {
    "name": "ipython",
    "version": 3
   },
   "file_extension": ".py",
   "mimetype": "text/x-python",
   "name": "python",
   "nbconvert_exporter": "python",
   "pygments_lexer": "ipython3",
   "version": "3.7.2"
  }
 },
 "nbformat": 4,
 "nbformat_minor": 2
}
