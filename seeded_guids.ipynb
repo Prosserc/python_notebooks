{
 "cells": [
  {
   "cell_type": "code",
   "execution_count": 1,
   "id": "d27bbcf4",
   "metadata": {},
   "outputs": [],
   "source": [
    "from uuid import UUID\n",
    "ids = ['000001', '000002', 'HDGS#9', \n",
    "       'longer_random_example3738', 'longer_random_example3739']"
   ]
  },
  {
   "cell_type": "code",
   "execution_count": 2,
   "id": "f3dde36f",
   "metadata": {},
   "outputs": [],
   "source": [
    "def id_to_guid(_id: str) -> UUID:\n",
    "    trimmed_id = _id[-16:]  # take last 16 chars\n",
    "    filled_id = trimmed_id.zfill(16)\n",
    "    encoded_id = filled_id.encode('utf-8')\n",
    "    return UUID(bytes=encoded_id)"
   ]
  },
  {
   "cell_type": "code",
   "execution_count": 3,
   "id": "13efadf0",
   "metadata": {},
   "outputs": [
    {
     "name": "stdout",
     "output_type": "stream",
     "text": [
      "                          000001 -> 30303030-3030-3030-3030-303030303031\n",
      "                          000002 -> 30303030-3030-3030-3030-303030303032\n",
      "                          HDGS#9 -> 30303030-3030-3030-3030-484447532339\n",
      "       longer_random_example3738 -> 6e646f6d-5f65-7861-6d70-6c6533373338\n",
      "       longer_random_example3739 -> 6e646f6d-5f65-7861-6d70-6c6533373339\n",
      "\n",
      "                          000001 -> 30303030-3030-3030-3030-303030303031\n",
      "                          000002 -> 30303030-3030-3030-3030-303030303032\n",
      "                          HDGS#9 -> 30303030-3030-3030-3030-484447532339\n",
      "       longer_random_example3738 -> 6e646f6d-5f65-7861-6d70-6c6533373338\n",
      "       longer_random_example3739 -> 6e646f6d-5f65-7861-6d70-6c6533373339\n"
     ]
    }
   ],
   "source": [
    "for _id in ids:\n",
    "    print(f\"{_id:>32} -> {str(id_to_guid(_id))}\")\n",
    "    \n",
    "# repeat to confirm we get the same guids:\n",
    "print('')\n",
    "for _id in ids:\n",
    "    print(f\"{_id:>32} -> {str(id_to_guid(_id))}\")"
   ]
  },
  {
   "cell_type": "code",
   "execution_count": 4,
   "id": "34f1ba2c",
   "metadata": {},
   "outputs": [],
   "source": [
    "# ids that would get the same Guids as above despite slightly differnt id\n",
    "non_unique_ids = ['1', \n",
    "                  'even_longer_random_example3738', # last 16 chars match above\n",
    "                  'even_longer_random_example3739']"
   ]
  },
  {
   "cell_type": "code",
   "execution_count": 5,
   "id": "6248575d",
   "metadata": {},
   "outputs": [
    {
     "name": "stdout",
     "output_type": "stream",
     "text": [
      "                               1 -> 30303030-3030-3030-3030-303030303031\n",
      "  even_longer_random_example3738 -> 6e646f6d-5f65-7861-6d70-6c6533373338\n",
      "  even_longer_random_example3739 -> 6e646f6d-5f65-7861-6d70-6c6533373339\n"
     ]
    }
   ],
   "source": [
    "for _id in non_unique_ids:\n",
    "    print(f\"{_id:>32} -> {str(id_to_guid(_id))}\")"
   ]
  }
 ],
 "metadata": {
  "kernelspec": {
   "display_name": "Python 3",
   "language": "python",
   "name": "python3"
  },
  "language_info": {
   "codemirror_mode": {
    "name": "ipython",
    "version": 3
   },
   "file_extension": ".py",
   "mimetype": "text/x-python",
   "name": "python",
   "nbconvert_exporter": "python",
   "pygments_lexer": "ipython3",
   "version": "3.8.10"
  }
 },
 "nbformat": 4,
 "nbformat_minor": 5
}
